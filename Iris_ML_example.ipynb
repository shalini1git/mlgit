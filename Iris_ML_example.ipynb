{
 "cells": [
  {
   "cell_type": "code",
   "execution_count": 1,
   "id": "f5a2d840",
   "metadata": {},
   "outputs": [
    {
     "name": "stdout",
     "output_type": "stream",
     "text": [
      "1.20.3\n",
      "0.24.2\n",
      "1.7.1\n",
      "0.11.2\n",
      "1.3.4\n"
     ]
    }
   ],
   "source": [
    "import numpy as np\n",
    "import sklearn as sk\n",
    "import matplotlib.pyplot as plt\n",
    "%matplotlib inline\n",
    "import scipy as sc\n",
    "import seaborn as sb\n",
    "import pandas as pd\n",
    "print (np.__version__)\n",
    "print (sk.__version__)\n",
    "#print (plt.__version__)\n",
    "print (sc.__version__)\n",
    "print (sb.__version__)\n",
    "print (pd.__version__)\n",
    "from sklearn import model_selection, linear_model"
   ]
  },
  {
   "cell_type": "code",
   "execution_count": 2,
   "id": "5422444a",
   "metadata": {},
   "outputs": [
    {
     "name": "stdout",
     "output_type": "stream",
     "text": [
      "{'data': array([[5.1, 3.5, 1.4, 0.2],\n",
      "       [4.9, 3. , 1.4, 0.2],\n",
      "       [4.7, 3.2, 1.3, 0.2],\n",
      "       [4.6, 3.1, 1.5, 0.2],\n",
      "       [5. , 3.6, 1.4, 0.2],\n",
      "       [5.4, 3.9, 1.7, 0.4],\n",
      "       [4.6, 3.4, 1.4, 0.3],\n",
      "       [5. , 3.4, 1.5, 0.2],\n",
      "       [4.4, 2.9, 1.4, 0.2],\n",
      "       [4.9, 3.1, 1.5, 0.1],\n",
      "       [5.4, 3.7, 1.5, 0.2],\n",
      "       [4.8, 3.4, 1.6, 0.2],\n",
      "       [4.8, 3. , 1.4, 0.1],\n",
      "       [4.3, 3. , 1.1, 0.1],\n",
      "       [5.8, 4. , 1.2, 0.2],\n",
      "       [5.7, 4.4, 1.5, 0.4],\n",
      "       [5.4, 3.9, 1.3, 0.4],\n",
      "       [5.1, 3.5, 1.4, 0.3],\n",
      "       [5.7, 3.8, 1.7, 0.3],\n",
      "       [5.1, 3.8, 1.5, 0.3],\n",
      "       [5.4, 3.4, 1.7, 0.2],\n",
      "       [5.1, 3.7, 1.5, 0.4],\n",
      "       [4.6, 3.6, 1. , 0.2],\n",
      "       [5.1, 3.3, 1.7, 0.5],\n",
      "       [4.8, 3.4, 1.9, 0.2],\n",
      "       [5. , 3. , 1.6, 0.2],\n",
      "       [5. , 3.4, 1.6, 0.4],\n",
      "       [5.2, 3.5, 1.5, 0.2],\n",
      "       [5.2, 3.4, 1.4, 0.2],\n",
      "       [4.7, 3.2, 1.6, 0.2],\n",
      "       [4.8, 3.1, 1.6, 0.2],\n",
      "       [5.4, 3.4, 1.5, 0.4],\n",
      "       [5.2, 4.1, 1.5, 0.1],\n",
      "       [5.5, 4.2, 1.4, 0.2],\n",
      "       [4.9, 3.1, 1.5, 0.2],\n",
      "       [5. , 3.2, 1.2, 0.2],\n",
      "       [5.5, 3.5, 1.3, 0.2],\n",
      "       [4.9, 3.6, 1.4, 0.1],\n",
      "       [4.4, 3. , 1.3, 0.2],\n",
      "       [5.1, 3.4, 1.5, 0.2],\n",
      "       [5. , 3.5, 1.3, 0.3],\n",
      "       [4.5, 2.3, 1.3, 0.3],\n",
      "       [4.4, 3.2, 1.3, 0.2],\n",
      "       [5. , 3.5, 1.6, 0.6],\n",
      "       [5.1, 3.8, 1.9, 0.4],\n",
      "       [4.8, 3. , 1.4, 0.3],\n",
      "       [5.1, 3.8, 1.6, 0.2],\n",
      "       [4.6, 3.2, 1.4, 0.2],\n",
      "       [5.3, 3.7, 1.5, 0.2],\n",
      "       [5. , 3.3, 1.4, 0.2],\n",
      "       [7. , 3.2, 4.7, 1.4],\n",
      "       [6.4, 3.2, 4.5, 1.5],\n",
      "       [6.9, 3.1, 4.9, 1.5],\n",
      "       [5.5, 2.3, 4. , 1.3],\n",
      "       [6.5, 2.8, 4.6, 1.5],\n",
      "       [5.7, 2.8, 4.5, 1.3],\n",
      "       [6.3, 3.3, 4.7, 1.6],\n",
      "       [4.9, 2.4, 3.3, 1. ],\n",
      "       [6.6, 2.9, 4.6, 1.3],\n",
      "       [5.2, 2.7, 3.9, 1.4],\n",
      "       [5. , 2. , 3.5, 1. ],\n",
      "       [5.9, 3. , 4.2, 1.5],\n",
      "       [6. , 2.2, 4. , 1. ],\n",
      "       [6.1, 2.9, 4.7, 1.4],\n",
      "       [5.6, 2.9, 3.6, 1.3],\n",
      "       [6.7, 3.1, 4.4, 1.4],\n",
      "       [5.6, 3. , 4.5, 1.5],\n",
      "       [5.8, 2.7, 4.1, 1. ],\n",
      "       [6.2, 2.2, 4.5, 1.5],\n",
      "       [5.6, 2.5, 3.9, 1.1],\n",
      "       [5.9, 3.2, 4.8, 1.8],\n",
      "       [6.1, 2.8, 4. , 1.3],\n",
      "       [6.3, 2.5, 4.9, 1.5],\n",
      "       [6.1, 2.8, 4.7, 1.2],\n",
      "       [6.4, 2.9, 4.3, 1.3],\n",
      "       [6.6, 3. , 4.4, 1.4],\n",
      "       [6.8, 2.8, 4.8, 1.4],\n",
      "       [6.7, 3. , 5. , 1.7],\n",
      "       [6. , 2.9, 4.5, 1.5],\n",
      "       [5.7, 2.6, 3.5, 1. ],\n",
      "       [5.5, 2.4, 3.8, 1.1],\n",
      "       [5.5, 2.4, 3.7, 1. ],\n",
      "       [5.8, 2.7, 3.9, 1.2],\n",
      "       [6. , 2.7, 5.1, 1.6],\n",
      "       [5.4, 3. , 4.5, 1.5],\n",
      "       [6. , 3.4, 4.5, 1.6],\n",
      "       [6.7, 3.1, 4.7, 1.5],\n",
      "       [6.3, 2.3, 4.4, 1.3],\n",
      "       [5.6, 3. , 4.1, 1.3],\n",
      "       [5.5, 2.5, 4. , 1.3],\n",
      "       [5.5, 2.6, 4.4, 1.2],\n",
      "       [6.1, 3. , 4.6, 1.4],\n",
      "       [5.8, 2.6, 4. , 1.2],\n",
      "       [5. , 2.3, 3.3, 1. ],\n",
      "       [5.6, 2.7, 4.2, 1.3],\n",
      "       [5.7, 3. , 4.2, 1.2],\n",
      "       [5.7, 2.9, 4.2, 1.3],\n",
      "       [6.2, 2.9, 4.3, 1.3],\n",
      "       [5.1, 2.5, 3. , 1.1],\n",
      "       [5.7, 2.8, 4.1, 1.3],\n",
      "       [6.3, 3.3, 6. , 2.5],\n",
      "       [5.8, 2.7, 5.1, 1.9],\n",
      "       [7.1, 3. , 5.9, 2.1],\n",
      "       [6.3, 2.9, 5.6, 1.8],\n",
      "       [6.5, 3. , 5.8, 2.2],\n",
      "       [7.6, 3. , 6.6, 2.1],\n",
      "       [4.9, 2.5, 4.5, 1.7],\n",
      "       [7.3, 2.9, 6.3, 1.8],\n",
      "       [6.7, 2.5, 5.8, 1.8],\n",
      "       [7.2, 3.6, 6.1, 2.5],\n",
      "       [6.5, 3.2, 5.1, 2. ],\n",
      "       [6.4, 2.7, 5.3, 1.9],\n",
      "       [6.8, 3. , 5.5, 2.1],\n",
      "       [5.7, 2.5, 5. , 2. ],\n",
      "       [5.8, 2.8, 5.1, 2.4],\n",
      "       [6.4, 3.2, 5.3, 2.3],\n",
      "       [6.5, 3. , 5.5, 1.8],\n",
      "       [7.7, 3.8, 6.7, 2.2],\n",
      "       [7.7, 2.6, 6.9, 2.3],\n",
      "       [6. , 2.2, 5. , 1.5],\n",
      "       [6.9, 3.2, 5.7, 2.3],\n",
      "       [5.6, 2.8, 4.9, 2. ],\n",
      "       [7.7, 2.8, 6.7, 2. ],\n",
      "       [6.3, 2.7, 4.9, 1.8],\n",
      "       [6.7, 3.3, 5.7, 2.1],\n",
      "       [7.2, 3.2, 6. , 1.8],\n",
      "       [6.2, 2.8, 4.8, 1.8],\n",
      "       [6.1, 3. , 4.9, 1.8],\n",
      "       [6.4, 2.8, 5.6, 2.1],\n",
      "       [7.2, 3. , 5.8, 1.6],\n",
      "       [7.4, 2.8, 6.1, 1.9],\n",
      "       [7.9, 3.8, 6.4, 2. ],\n",
      "       [6.4, 2.8, 5.6, 2.2],\n",
      "       [6.3, 2.8, 5.1, 1.5],\n",
      "       [6.1, 2.6, 5.6, 1.4],\n",
      "       [7.7, 3. , 6.1, 2.3],\n",
      "       [6.3, 3.4, 5.6, 2.4],\n",
      "       [6.4, 3.1, 5.5, 1.8],\n",
      "       [6. , 3. , 4.8, 1.8],\n",
      "       [6.9, 3.1, 5.4, 2.1],\n",
      "       [6.7, 3.1, 5.6, 2.4],\n",
      "       [6.9, 3.1, 5.1, 2.3],\n",
      "       [5.8, 2.7, 5.1, 1.9],\n",
      "       [6.8, 3.2, 5.9, 2.3],\n",
      "       [6.7, 3.3, 5.7, 2.5],\n",
      "       [6.7, 3. , 5.2, 2.3],\n",
      "       [6.3, 2.5, 5. , 1.9],\n",
      "       [6.5, 3. , 5.2, 2. ],\n",
      "       [6.2, 3.4, 5.4, 2.3],\n",
      "       [5.9, 3. , 5.1, 1.8]]), 'target': array([0, 0, 0, 0, 0, 0, 0, 0, 0, 0, 0, 0, 0, 0, 0, 0, 0, 0, 0, 0, 0, 0,\n",
      "       0, 0, 0, 0, 0, 0, 0, 0, 0, 0, 0, 0, 0, 0, 0, 0, 0, 0, 0, 0, 0, 0,\n",
      "       0, 0, 0, 0, 0, 0, 1, 1, 1, 1, 1, 1, 1, 1, 1, 1, 1, 1, 1, 1, 1, 1,\n",
      "       1, 1, 1, 1, 1, 1, 1, 1, 1, 1, 1, 1, 1, 1, 1, 1, 1, 1, 1, 1, 1, 1,\n",
      "       1, 1, 1, 1, 1, 1, 1, 1, 1, 1, 1, 1, 2, 2, 2, 2, 2, 2, 2, 2, 2, 2,\n",
      "       2, 2, 2, 2, 2, 2, 2, 2, 2, 2, 2, 2, 2, 2, 2, 2, 2, 2, 2, 2, 2, 2,\n",
      "       2, 2, 2, 2, 2, 2, 2, 2, 2, 2, 2, 2, 2, 2, 2, 2, 2, 2]), 'frame': None, 'target_names': array(['setosa', 'versicolor', 'virginica'], dtype='<U10'), 'DESCR': '.. _iris_dataset:\\n\\nIris plants dataset\\n--------------------\\n\\n**Data Set Characteristics:**\\n\\n    :Number of Instances: 150 (50 in each of three classes)\\n    :Number of Attributes: 4 numeric, predictive attributes and the class\\n    :Attribute Information:\\n        - sepal length in cm\\n        - sepal width in cm\\n        - petal length in cm\\n        - petal width in cm\\n        - class:\\n                - Iris-Setosa\\n                - Iris-Versicolour\\n                - Iris-Virginica\\n                \\n    :Summary Statistics:\\n\\n    ============== ==== ==== ======= ===== ====================\\n                    Min  Max   Mean    SD   Class Correlation\\n    ============== ==== ==== ======= ===== ====================\\n    sepal length:   4.3  7.9   5.84   0.83    0.7826\\n    sepal width:    2.0  4.4   3.05   0.43   -0.4194\\n    petal length:   1.0  6.9   3.76   1.76    0.9490  (high!)\\n    petal width:    0.1  2.5   1.20   0.76    0.9565  (high!)\\n    ============== ==== ==== ======= ===== ====================\\n\\n    :Missing Attribute Values: None\\n    :Class Distribution: 33.3% for each of 3 classes.\\n    :Creator: R.A. Fisher\\n    :Donor: Michael Marshall (MARSHALL%PLU@io.arc.nasa.gov)\\n    :Date: July, 1988\\n\\nThe famous Iris database, first used by Sir R.A. Fisher. The dataset is taken\\nfrom Fisher\\'s paper. Note that it\\'s the same as in R, but not as in the UCI\\nMachine Learning Repository, which has two wrong data points.\\n\\nThis is perhaps the best known database to be found in the\\npattern recognition literature.  Fisher\\'s paper is a classic in the field and\\nis referenced frequently to this day.  (See Duda & Hart, for example.)  The\\ndata set contains 3 classes of 50 instances each, where each class refers to a\\ntype of iris plant.  One class is linearly separable from the other 2; the\\nlatter are NOT linearly separable from each other.\\n\\n.. topic:: References\\n\\n   - Fisher, R.A. \"The use of multiple measurements in taxonomic problems\"\\n     Annual Eugenics, 7, Part II, 179-188 (1936); also in \"Contributions to\\n     Mathematical Statistics\" (John Wiley, NY, 1950).\\n   - Duda, R.O., & Hart, P.E. (1973) Pattern Classification and Scene Analysis.\\n     (Q327.D83) John Wiley & Sons.  ISBN 0-471-22361-1.  See page 218.\\n   - Dasarathy, B.V. (1980) \"Nosing Around the Neighborhood: A New System\\n     Structure and Classification Rule for Recognition in Partially Exposed\\n     Environments\".  IEEE Transactions on Pattern Analysis and Machine\\n     Intelligence, Vol. PAMI-2, No. 1, 67-71.\\n   - Gates, G.W. (1972) \"The Reduced Nearest Neighbor Rule\".  IEEE Transactions\\n     on Information Theory, May 1972, 431-433.\\n   - See also: 1988 MLC Proceedings, 54-64.  Cheeseman et al\"s AUTOCLASS II\\n     conceptual clustering system finds 3 classes in the data.\\n   - Many, many more ...', 'feature_names': ['sepal length (cm)', 'sepal width (cm)', 'petal length (cm)', 'petal width (cm)'], 'filename': 'C:\\\\Users\\\\Shalini-Anubhav\\\\anaconda3\\\\lib\\\\site-packages\\\\sklearn\\\\datasets\\\\data\\\\iris.csv'}\n",
      "feature_names: ['sepal length (cm)', 'sepal width (cm)', 'petal length (cm)', 'petal width (cm)']\n",
      "target_names: ['setosa' 'versicolor' 'virginica']\n"
     ]
    }
   ],
   "source": [
    "#loading data from sklearn\n",
    "\n",
    "from sklearn.datasets import load_iris\n",
    "iris=load_iris()\n",
    "print(iris)\n",
    "x=iris.data\n",
    "y=iris.target\n",
    "feature=iris.feature_names\n",
    "target=iris.target_names\n",
    "print(\"feature_names:\",feature)\n",
    "print(\"target_names:\",target)\n"
   ]
  },
  {
   "cell_type": "code",
   "execution_count": 3,
   "id": "afd8f2f6",
   "metadata": {},
   "outputs": [
    {
     "name": "stdout",
     "output_type": "stream",
     "text": [
      "    SepalLengthCm  SepalWidthCm  PetalLengthCm  PetalWidthCm      Species\n",
      "Id                                                                       \n",
      "1             5.1           3.5            1.4           0.2  Iris-setosa\n",
      "2             4.9           3.0            1.4           0.2  Iris-setosa\n",
      "3             4.7           3.2            1.3           0.2  Iris-setosa\n",
      "4             4.6           3.1            1.5           0.2  Iris-setosa\n",
      "5             5.0           3.6            1.4           0.2  Iris-setosa\n",
      "(150, 5)\n",
      "<class 'pandas.core.frame.DataFrame'>\n",
      "Int64Index: 150 entries, 1 to 150\n",
      "Data columns (total 5 columns):\n",
      " #   Column         Non-Null Count  Dtype  \n",
      "---  ------         --------------  -----  \n",
      " 0   SepalLengthCm  150 non-null    float64\n",
      " 1   SepalWidthCm   150 non-null    float64\n",
      " 2   PetalLengthCm  150 non-null    float64\n",
      " 3   PetalWidthCm   150 non-null    float64\n",
      " 4   Species        150 non-null    object \n",
      "dtypes: float64(4), object(1)\n",
      "memory usage: 7.0+ KB\n",
      "None\n",
      "       SepalLengthCm  SepalWidthCm  PetalLengthCm  PetalWidthCm\n",
      "count     150.000000    150.000000     150.000000    150.000000\n",
      "mean        5.843333      3.054000       3.758667      1.198667\n",
      "std         0.828066      0.433594       1.764420      0.763161\n",
      "min         4.300000      2.000000       1.000000      0.100000\n",
      "25%         5.100000      2.800000       1.600000      0.300000\n",
      "50%         5.800000      3.000000       4.350000      1.300000\n",
      "75%         6.400000      3.300000       5.100000      1.800000\n",
      "max         7.900000      4.400000       6.900000      2.500000\n",
      "Iris-setosa        50\n",
      "Iris-versicolor    50\n",
      "Iris-virginica     50\n",
      "Name: Species, dtype: int64\n"
     ]
    },
    {
     "data": {
      "image/png": "[encoded data removed]",
      "text/plain": [
       "<Figure size 432x288 with 1 Axes>"
      ]
     },
     "metadata": {
      "needs_background": "light"
     },
     "output_type": "display_data"
    }
   ],
   "source": [
    "#loading data from pandas\n",
    "\n",
    "data=pd.read_csv('./iris1.csv', index_col=['Id'])\n",
    "#data=pd.read_csv('./iris.csv',names=feature)\n",
    "print(data.head())\n",
    "print(data.shape)\n",
    "print(data.info())\n",
    "print(data.describe())\n",
    "ab=data.Species.value_counts()\n",
    "print(ab)\n",
    "#ab.plot(kind='pie',autopct='%1.2f%%')\n",
    "ab.plot(kind='bar')\n",
    "plt.show()"
   ]
  },
  {
   "cell_type": "code",
   "execution_count": 4,
   "id": "6c67b69e",
   "metadata": {},
   "outputs": [
    {
     "name": "stdout",
     "output_type": "stream",
     "text": [
      "   sepal_length  sepal_width  petal_length  petal_width species\n",
      "0           5.1          3.5           1.4          0.2  setosa\n",
      "1           4.9          3.0           1.4          0.2  setosa\n",
      "2           4.7          3.2           1.3          0.2  setosa\n",
      "3           4.6          3.1           1.5          0.2  setosa\n",
      "4           5.0          3.6           1.4          0.2  setosa\n",
      "{'axes.facecolor': '#EAEAF2', 'axes.edgecolor': 'white', 'axes.grid': True, 'axes.axisbelow': True, 'axes.labelcolor': '.15', 'figure.facecolor': 'white', 'grid.color': 'white', 'grid.linestyle': '-', 'text.color': '.15', 'xtick.color': '.15', 'ytick.color': '.15', 'xtick.direction': 'out', 'ytick.direction': 'out', 'lines.solid_capstyle': <CapStyle.round: 'round'>, 'patch.edgecolor': 'w', 'patch.force_edgecolor': True, 'image.cmap': 'rocket', 'font.family': ['sans-serif'], 'font.sans-serif': ['Arial', 'DejaVu Sans', 'Liberation Sans', 'Bitstream Vera Sans', 'sans-serif'], 'xtick.bottom': False, 'xtick.top': False, 'ytick.left': False, 'ytick.right': False, 'axes.spines.left': True, 'axes.spines.bottom': True, 'axes.spines.right': True, 'axes.spines.top': True}\n"
     ]
    },
    {
     "name": "stderr",
     "output_type": "stream",
     "text": [
      "C:\\Users\\Shalini-Anubhav\\anaconda3\\lib\\site-packages\\seaborn\\categorical.py:3717: UserWarning: The `factorplot` function has been renamed to `catplot`. The original name will be removed in a future release. Please update your code. Note that the default `kind` in `factorplot` (`'point'`) has changed `'strip'` in `catplot`.\n",
      "  warnings.warn(msg)\n",
      "C:\\Users\\Shalini-Anubhav\\anaconda3\\lib\\site-packages\\seaborn\\categorical.py:3717: UserWarning: The `factorplot` function has been renamed to `catplot`. The original name will be removed in a future release. Please update your code. Note that the default `kind` in `factorplot` (`'point'`) has changed `'strip'` in `catplot`.\n",
      "  warnings.warn(msg)\n"
     ]
    },
    {
     "data": {
      "text/plain": [
       "<seaborn.axisgrid.JointGrid at 0x2f92e7edfd0>"
      ]
     },
     "execution_count": 4,
     "metadata": {},
     "output_type": "execute_result"
    },
    {
     "data": {
      "image/png": "[encoded data removed]",
      "text/plain": [
       "<Figure size 360x360 with 1 Axes>"
      ]
     },
     "metadata": {},
     "output_type": "display_data"
    },
    {
     "data": {
      "image/png": "[encoded data removed]",
      "text/plain": [
       "<Figure size 360x360 with 1 Axes>"
      ]
     },
     "metadata": {},
     "output_type": "display_data"
    },
    {
     "data": {
      "image/png": "[encoded data removed]",
      "text/plain": [
       "<Figure size 360x360 with 1 Axes>"
      ]
     },
     "metadata": {},
     "output_type": "display_data"
    },
    {
     "data": {
      "image/png": "[encoded data removed]",
      "text/plain": [
       "<Figure size 360x360 with 1 Axes>"
      ]
     },
     "metadata": {},
     "output_type": "display_data"
    },
    {
     "data": {
      "image/png": "[encoded data removed]",
      "text/plain": [
       "<Figure size 432x432 with 3 Axes>"
      ]
     },
     "metadata": {},
     "output_type": "display_data"
    }
   ],
   "source": [
    "#loading data from seaborn and some plotting analysis\n",
    "\n",
    "iris=sb.load_dataset('iris')\n",
    "print(iris.head())\n",
    "#sb.set()\n",
    "sb.set_style('darkgrid')\n",
    "sb.set_context('notebook')\n",
    "print(sb.axes_style())\n",
    "#sb.pairplot(iris, hue='species', height=3,diag_kind='hist',kind='reg')\n",
    "sb.catplot(x='species', y='petal_length',data=iris,kind='violin')\n",
    "plt.title('petal_length vs species')\n",
    "sb.catplot(x='species', y='petal_width', data=iris)\n",
    "plt.title('petal_width vs species')\n",
    "#factorplot is renamed as catplot in new versions and default (pointplot in factorplot) is changed to (stripplot in catplot)\n",
    "sb.factorplot(x='species', y='sepal_length', data=iris,kind='bar')\n",
    "plt.title('sepal_length vs species')\n",
    "sb.factorplot(x='species', y='sepal_width', data=iris)\n",
    "plt.title('sepal_width vs species')\n",
    "\n",
    "#stripplot can also be used when one variable in categorical but it will overlap with one another....try and run to remember\n",
    "#sb.stripplot(x='species', y='sepal_width', data=iris)\n",
    "#plt.title('sepal_width vs species')\n",
    "\n",
    "sb.jointplot(x='sepal_length', y='sepal_width', data=iris)"
   ]
  },
  {
   "cell_type": "code",
   "execution_count": 5,
   "id": "e5dc8f7d",
   "metadata": {},
   "outputs": [
    {
     "data": {
      "text/plain": [
       "Text(0.5, 1.0, 'sepal_width vs species')"
      ]
     },
     "execution_count": 5,
     "metadata": {},
     "output_type": "execute_result"
    },
    {
     "data": {
      "image/png": "[encoded data removed]",
      "text/plain": [
       "<Figure size 432x288 with 1 Axes>"
      ]
     },
     "metadata": {},
     "output_type": "display_data"
    }
   ],
   "source": [
    "#boxplot also overlaps if u want diff inputs to be plotted against the target, so plot it individually, see in the code below\n",
    "\n",
    "sb.boxplot(x='species', y='sepal_width', data=iris)\n",
    "plt.title('sepal_width vs species')"
   ]
  },
  {
   "cell_type": "code",
   "execution_count": 6,
   "id": "87e1cd70",
   "metadata": {},
   "outputs": [
    {
     "data": {
      "text/plain": [
       "Text(0.5, 1.0, 'sepal_length vs species')"
      ]
     },
     "execution_count": 6,
     "metadata": {},
     "output_type": "execute_result"
    },
    {
     "data": {
      "image/png": "[encoded data removed]",
      "text/plain": [
       "<Figure size 432x288 with 1 Axes>"
      ]
     },
     "metadata": {},
     "output_type": "display_data"
    }
   ],
   "source": [
    "sb.boxplot(x='species', y='sepal_length', data=iris)\n",
    "plt.title('sepal_length vs species')"
   ]
  },
  {
   "cell_type": "code",
   "execution_count": 7,
   "id": "fc3c7bd4",
   "metadata": {},
   "outputs": [
    {
     "data": {
      "text/plain": [
       "Text(0.5, 1.0, 'petal_width vs species')"
      ]
     },
     "execution_count": 7,
     "metadata": {},
     "output_type": "execute_result"
    },
    {
     "data": {
      "image/png": "[encoded data removed]",
      "text/plain": [
       "<Figure size 432x288 with 1 Axes>"
      ]
     },
     "metadata": {},
     "output_type": "display_data"
    }
   ],
   "source": [
    "sb.boxplot(x='species', y='petal_width', data=iris)\n",
    "plt.title('petal_width vs species')"
   ]
  },
  {
   "cell_type": "code",
   "execution_count": 8,
   "id": "b4b5d886",
   "metadata": {},
   "outputs": [
    {
     "data": {
      "text/plain": [
       "Text(0.5, 1.0, 'petal_length vs species')"
      ]
     },
     "execution_count": 8,
     "metadata": {},
     "output_type": "execute_result"
    },
    {
     "data": {
      "image/png": "[encoded data removed]",
      "text/plain": [
       "<Figure size 432x288 with 1 Axes>"
      ]
     },
     "metadata": {},
     "output_type": "display_data"
    }
   ],
   "source": [
    "sb.boxplot(x='species', y='petal_length', data=iris)\n",
    "plt.title('petal_length vs species')"
   ]
  },
  {
   "cell_type": "code",
   "execution_count": 9,
   "id": "190a3bc7",
   "metadata": {},
   "outputs": [
    {
     "data": {
      "text/plain": [
       "<AxesSubplot:>"
      ]
     },
     "execution_count": 9,
     "metadata": {},
     "output_type": "execute_result"
    },
    {
     "data": {
      "image/png": "[encoded data removed]",
      "text/plain": [
       "<Figure size 432x288 with 1 Axes>"
      ]
     },
     "metadata": {},
     "output_type": "display_data"
    }
   ],
   "source": [
    "#if u want all inputs in 1 boxplot then no need to specify x anf y parameters\n",
    "\n",
    "sb.boxplot(data=iris, orient='h')\n",
    "#sb.boxplot(data=iris, orient='v')\n",
    "#sb.violinplot(data=iris, orient='v')\n",
    "\n",
    "#poinplot also overlaps if u want diff x to be plotted with target\n",
    "#sb.pointplot(x='petal_length', y= 'species', data=iris)\n",
    "#sb.pointplot(x='petal_width', y= 'species', data=iris)\n",
    "#sb.pointplot(x='sepal_length', y= 'species', data=iris)\n",
    "#sb.pointplot(x='sepal_width', y= 'species', data=iris)"
   ]
  },
  {
   "cell_type": "code",
   "execution_count": 10,
   "id": "4f399686",
   "metadata": {},
   "outputs": [
    {
     "name": "stdout",
     "output_type": "stream",
     "text": [
      "     sepal_length  sepal_width  petal_length  petal_width\n",
      "0             5.1          3.5           1.4          0.2\n",
      "1             4.9          3.0           1.4          0.2\n",
      "2             4.7          3.2           1.3          0.2\n",
      "3             4.6          3.1           1.5          0.2\n",
      "4             5.0          3.6           1.4          0.2\n",
      "..            ...          ...           ...          ...\n",
      "145           6.7          3.0           5.2          2.3\n",
      "146           6.3          2.5           5.0          1.9\n",
      "147           6.5          3.0           5.2          2.0\n",
      "148           6.2          3.4           5.4          2.3\n",
      "149           5.9          3.0           5.1          1.8\n",
      "\n",
      "[150 rows x 4 columns]\n",
      "0         setosa\n",
      "1         setosa\n",
      "2         setosa\n",
      "3         setosa\n",
      "4         setosa\n",
      "         ...    \n",
      "145    virginica\n",
      "146    virginica\n",
      "147    virginica\n",
      "148    virginica\n",
      "149    virginica\n",
      "Name: species, Length: 150, dtype: object\n"
     ]
    },
    {
     "data": {
      "text/plain": [
       "<matplotlib.legend.Legend at 0x2f92e6abfa0>"
      ]
     },
     "execution_count": 10,
     "metadata": {},
     "output_type": "execute_result"
    },
    {
     "data": {
      "image/png": "[encoded data removed]",
      "text/plain": [
       "<Figure size 432x288 with 1 Axes>"
      ]
     },
     "metadata": {},
     "output_type": "display_data"
    }
   ],
   "source": [
    "X_iris = iris.drop('species', axis=1)\n",
    "y_iris = iris['species']\n",
    "print (X_iris)\n",
    "print (y_iris)\n",
    "plt.plot(X_iris,y_iris)\n",
    "plt.legend(labels=('a','b','c','d'),loc='best')\n",
    "                            "
   ]
  },
  {
   "cell_type": "code",
   "execution_count": 11,
   "id": "a56b2e76",
   "metadata": {},
   "outputs": [
    {
     "data": {
      "text/plain": [
       "['anagrams',\n",
       " 'anscombe',\n",
       " 'attention',\n",
       " 'brain_networks',\n",
       " 'car_crashes',\n",
       " 'diamonds',\n",
       " 'dots',\n",
       " 'exercise',\n",
       " 'flights',\n",
       " 'fmri',\n",
       " 'gammas',\n",
       " 'geyser',\n",
       " 'iris',\n",
       " 'mpg',\n",
       " 'penguins',\n",
       " 'planets',\n",
       " 'taxis',\n",
       " 'tips',\n",
       " 'titanic']"
      ]
     },
     "execution_count": 11,
     "metadata": {},
     "output_type": "execute_result"
    }
   ],
   "source": [
    "sb.get_dataset_names()"
   ]
  },
  {
   "cell_type": "code",
   "execution_count": 12,
   "id": "c6d6234f",
   "metadata": {},
   "outputs": [
    {
     "data": {
      "text/plain": [
       "(array([37., 13.,  0.,  3.,  8., 26., 29., 18., 11.,  5.]),\n",
       " array([1.  , 1.59, 2.18, 2.77, 3.36, 3.95, 4.54, 5.13, 5.72, 6.31, 6.9 ]),\n",
       " <BarContainer object of 10 artists>)"
      ]
     },
     "execution_count": 12,
     "metadata": {},
     "output_type": "execute_result"
    },
    {
     "data": {
      "image/png": "[encoded data removed]",
      "text/plain": [
       "<Figure size 432x288 with 1 Axes>"
      ]
     },
     "metadata": {},
     "output_type": "display_data"
    }
   ],
   "source": [
    "plt.hist(iris.petal_length)\n",
    "#plt.hist(iris.petal_width)\n",
    "#plt.hist(iris.sepal_length)\n",
    "#plt.hist(iris.sepal_width)\n",
    "#plt.legend(['a','b','c','d'])"
   ]
  },
  {
   "cell_type": "code",
   "execution_count": 13,
   "id": "18397b62",
   "metadata": {},
   "outputs": [
    {
     "data": {
      "text/html": [
       "<svg  width=\"550\" height=\"55\"><rect x=\"0\" y=\"0\" width=\"55\" height=\"55\" style=\"fill:#1f77b4;stroke-width:2;stroke:rgb(255,255,255)\"/><rect x=\"55\" y=\"0\" width=\"55\" height=\"55\" style=\"fill:#ff7f0e;stroke-width:2;stroke:rgb(255,255,255)\"/><rect x=\"110\" y=\"0\" width=\"55\" height=\"55\" style=\"fill:#2ca02c;stroke-width:2;stroke:rgb(255,255,255)\"/><rect x=\"165\" y=\"0\" width=\"55\" height=\"55\" style=\"fill:#d62728;stroke-width:2;stroke:rgb(255,255,255)\"/><rect x=\"220\" y=\"0\" width=\"55\" height=\"55\" style=\"fill:#9467bd;stroke-width:2;stroke:rgb(255,255,255)\"/><rect x=\"275\" y=\"0\" width=\"55\" height=\"55\" style=\"fill:#8c564b;stroke-width:2;stroke:rgb(255,255,255)\"/><rect x=\"330\" y=\"0\" width=\"55\" height=\"55\" style=\"fill:#e377c2;stroke-width:2;stroke:rgb(255,255,255)\"/><rect x=\"385\" y=\"0\" width=\"55\" height=\"55\" style=\"fill:#7f7f7f;stroke-width:2;stroke:rgb(255,255,255)\"/><rect x=\"440\" y=\"0\" width=\"55\" height=\"55\" style=\"fill:#bcbd22;stroke-width:2;stroke:rgb(255,255,255)\"/><rect x=\"495\" y=\"0\" width=\"55\" height=\"55\" style=\"fill:#17becf;stroke-width:2;stroke:rgb(255,255,255)\"/></svg>"
      ],
      "text/plain": [
       "[(0.12156862745098039, 0.4666666666666667, 0.7058823529411765),\n",
       " (1.0, 0.4980392156862745, 0.054901960784313725),\n",
       " (0.17254901960784313, 0.6274509803921569, 0.17254901960784313),\n",
       " (0.8392156862745098, 0.15294117647058825, 0.1568627450980392),\n",
       " (0.5803921568627451, 0.403921568627451, 0.7411764705882353),\n",
       " (0.5490196078431373, 0.33725490196078434, 0.29411764705882354),\n",
       " (0.8901960784313725, 0.4666666666666667, 0.7607843137254902),\n",
       " (0.4980392156862745, 0.4980392156862745, 0.4980392156862745),\n",
       " (0.7372549019607844, 0.7411764705882353, 0.13333333333333333),\n",
       " (0.09019607843137255, 0.7450980392156863, 0.8117647058823529)]"
      ]
     },
     "execution_count": 13,
     "metadata": {},
     "output_type": "execute_result"
    },
    {
     "data": {
      "image/png": "[encoded data removed]",
      "text/plain": [
       "<Figure size 432x288 with 1 Axes>"
      ]
     },
     "metadata": {},
     "output_type": "display_data"
    }
   ],
   "source": [
    "sb.countplot(x='species',data=iris,palette='Blues')\n",
    "sb.despine()\n",
    "plt.title('count of diff species')\n",
    "sb.color_palette()"
   ]
  },
  {
   "cell_type": "code",
   "execution_count": 15,
   "id": "a757c5ba",
   "metadata": {},
   "outputs": [
    {
     "name": "stdout",
     "output_type": "stream",
     "text": [
      "     sepal_length  sepal_width  petal_length  petal_width  species\n",
      "0           False        False         False        False    False\n",
      "1           False        False         False        False    False\n",
      "2           False        False         False        False    False\n",
      "3           False        False         False        False    False\n",
      "4           False        False         False        False    False\n",
      "..            ...          ...           ...          ...      ...\n",
      "145         False        False         False        False    False\n",
      "146         False        False         False        False    False\n",
      "147         False        False         False        False    False\n",
      "148         False        False         False        False    False\n",
      "149         False        False         False        False    False\n",
      "\n",
      "[150 rows x 5 columns]\n",
      "sepal_length    0\n",
      "sepal_width     0\n",
      "petal_length    0\n",
      "petal_width     0\n",
      "species         0\n",
      "dtype: int64\n"
     ]
    },
    {
     "data": {
      "text/plain": [
       "<AxesSubplot:>"
      ]
     },
     "execution_count": 15,
     "metadata": {},
     "output_type": "execute_result"
    },
    {
     "data": {
      "image/png": "[encoded data removed]",
      "text/plain": [
       "<Figure size 432x288 with 2 Axes>"
      ]
     },
     "metadata": {},
     "output_type": "display_data"
    }
   ],
   "source": [
    "#run all statements one by one to remeber what has been done\n",
    "print(iris.isnull())\n",
    "print(iris.isnull().sum())\n",
    "sb.heatmap(iris.isnull())\n",
    "#sb.heatmap(iris.isnull(),cmap='viridis')\n",
    "#sb.heatmap(iris.isnull(),cbar=False)"
   ]
  },
  {
   "cell_type": "code",
   "execution_count": 16,
   "id": "5c1bf40a",
   "metadata": {},
   "outputs": [
    {
     "name": "stdout",
     "output_type": "stream",
     "text": [
      "     sepal_length  sepal_width  petal_length  petal_width  species\n",
      "0            True         True          True         True     True\n",
      "1            True         True          True         True     True\n",
      "2            True         True          True         True     True\n",
      "3            True         True          True         True     True\n",
      "4            True         True          True         True     True\n",
      "..            ...          ...           ...          ...      ...\n",
      "145          True         True          True         True     True\n",
      "146          True         True          True         True     True\n",
      "147          True         True          True         True     True\n",
      "148          True         True          True         True     True\n",
      "149          True         True          True         True     True\n",
      "\n",
      "[150 rows x 5 columns]\n"
     ]
    },
    {
     "data": {
      "text/plain": [
       "<AxesSubplot:>"
      ]
     },
     "execution_count": 16,
     "metadata": {},
     "output_type": "execute_result"
    },
    {
     "data": {
      "image/png": "[encoded data removed]",
      "text/plain": [
       "<Figure size 432x288 with 2 Axes>"
      ]
     },
     "metadata": {},
     "output_type": "display_data"
    }
   ],
   "source": [
    "print(iris.notnull())\n",
    "sb.heatmap(iris.notnull())"
   ]
  },
  {
   "cell_type": "code",
   "execution_count": 17,
   "id": "129d6cc3",
   "metadata": {},
   "outputs": [
    {
     "name": "stdout",
     "output_type": "stream",
     "text": [
      "              sepal_length  sepal_width  petal_length  petal_width\n",
      "sepal_length      1.000000    -0.117570      0.871754     0.817941\n",
      "sepal_width      -0.117570     1.000000     -0.428440    -0.366126\n",
      "petal_length      0.871754    -0.428440      1.000000     0.962865\n",
      "petal_width       0.817941    -0.366126      0.962865     1.000000\n"
     ]
    },
    {
     "data": {
      "text/plain": [
       "<AxesSubplot:>"
      ]
     },
     "execution_count": 17,
     "metadata": {},
     "output_type": "execute_result"
    },
    {
     "data": {
      "image/png": "[encoded data removed]",
      "text/plain": [
       "<Figure size 432x288 with 2 Axes>"
      ]
     },
     "metadata": {},
     "output_type": "display_data"
    }
   ],
   "source": [
    "corr = iris.corr(method=\"pearson\")\n",
    "print(corr)\n",
    "sb.heatmap(corr,annot=True)"
   ]
  },
  {
   "cell_type": "code",
   "execution_count": 18,
   "id": "f339d080",
   "metadata": {},
   "outputs": [
    {
     "name": "stdout",
     "output_type": "stream",
     "text": [
      "Sepal length range: [4.3, 7.9]\n",
      "Sepal width range:  [2.0, 7.9]\n",
      "Petal length range: [1.0, 6.9]\n",
      "Petal width range:  [0.1, 2.5]\n",
      "\n",
      "Sepal length variance:\t 0.681122\n",
      "Sepal width variance: \t 0.186751\n",
      "Petal length variance:\t 3.092425\n",
      "Petal width variance: \t 0.578532\n",
      "\n",
      "Sepal length stddev:\t 0.825301\n",
      "Sepal width stddev: \t 0.432147\n",
      "Petal length stddev:\t 1.758529\n",
      "Petal width stddev: \t 0.760613\n",
      "\n"
     ]
    }
   ],
   "source": [
    "print(\"Sepal length range: [%s, %s]\" % (min(data[\"SepalLengthCm\"]), max(data[\"SepalLengthCm\"])))\n",
    "print(\"Sepal width range:  [%s, %s]\" % (min(data[\"SepalWidthCm\"]), max(data[\"SepalLengthCm\"])))\n",
    "print(\"Petal length range: [%s, %s]\" % (min(data[\"PetalLengthCm\"]), max(data[\"PetalLengthCm\"])))\n",
    "print(\"Petal width range:  [%s, %s]\\n\" % (min(data[\"PetalWidthCm\"]), max(data[\"PetalWidthCm\"])))\n",
    "\n",
    "print(\"Sepal length variance:\\t %f\" % np.var(data[\"SepalLengthCm\"]))\n",
    "print(\"Sepal width variance: \\t %f\" % np.var(data[\"SepalWidthCm\"]))\n",
    "print(\"Petal length variance:\\t %f\" % np.var(data[\"PetalLengthCm\"]))\n",
    "print(\"Petal width variance: \\t %f\\n\" % np.var(data[\"PetalWidthCm\"]))\n",
    "\n",
    "print(\"Sepal length stddev:\\t %f\" % np.std(data[\"SepalLengthCm\"]))\n",
    "print(\"Sepal width stddev: \\t %f\" % np.std(data[\"SepalWidthCm\"]))\n",
    "print(\"Petal length stddev:\\t %f\" % np.std(data[\"PetalLengthCm\"]))\n",
    "print(\"Petal width stddev: \\t %f\\n\" % np.std(data[\"PetalWidthCm\"]))"
   ]
  },
  {
   "cell_type": "code",
   "execution_count": 19,
   "id": "e6b50351",
   "metadata": {},
   "outputs": [
    {
     "name": "stdout",
     "output_type": "stream",
     "text": [
      "1     setosa\n",
      "2     setosa\n",
      "3     setosa\n",
      "4     setosa\n",
      "5     setosa\n",
      "6     setosa\n",
      "7     setosa\n",
      "8     setosa\n",
      "9     setosa\n",
      "10    setosa\n",
      "11    setosa\n",
      "12    setosa\n",
      "13    setosa\n",
      "14    setosa\n",
      "15    setosa\n",
      "16    setosa\n",
      "17    setosa\n",
      "18    setosa\n",
      "19    setosa\n",
      "20    setosa\n",
      "21    setosa\n",
      "22    setosa\n",
      "23    setosa\n",
      "24    setosa\n",
      "25    setosa\n",
      "26    setosa\n",
      "27    setosa\n",
      "28    setosa\n",
      "29    setosa\n",
      "30    setosa\n",
      "31    setosa\n",
      "32    setosa\n",
      "33    setosa\n",
      "34    setosa\n",
      "35    setosa\n",
      "36    setosa\n",
      "37    setosa\n",
      "38    setosa\n",
      "39    setosa\n",
      "40    setosa\n",
      "41    setosa\n",
      "42    setosa\n",
      "43    setosa\n",
      "44    setosa\n",
      "45    setosa\n",
      "46    setosa\n",
      "47    setosa\n",
      "48    setosa\n",
      "49    setosa\n",
      "Name: species, dtype: object\n",
      "51    versicolor\n",
      "52    versicolor\n",
      "53    versicolor\n",
      "54    versicolor\n",
      "55    versicolor\n",
      "56    versicolor\n",
      "57    versicolor\n",
      "58    versicolor\n",
      "59    versicolor\n",
      "60    versicolor\n",
      "61    versicolor\n",
      "62    versicolor\n",
      "63    versicolor\n",
      "64    versicolor\n",
      "65    versicolor\n",
      "66    versicolor\n",
      "67    versicolor\n",
      "68    versicolor\n",
      "69    versicolor\n",
      "70    versicolor\n",
      "71    versicolor\n",
      "72    versicolor\n",
      "73    versicolor\n",
      "74    versicolor\n",
      "75    versicolor\n",
      "76    versicolor\n",
      "77    versicolor\n",
      "78    versicolor\n",
      "79    versicolor\n",
      "80    versicolor\n",
      "81    versicolor\n",
      "82    versicolor\n",
      "83    versicolor\n",
      "84    versicolor\n",
      "85    versicolor\n",
      "86    versicolor\n",
      "87    versicolor\n",
      "88    versicolor\n",
      "89    versicolor\n",
      "90    versicolor\n",
      "91    versicolor\n",
      "92    versicolor\n",
      "93    versicolor\n",
      "94    versicolor\n",
      "95    versicolor\n",
      "96    versicolor\n",
      "97    versicolor\n",
      "98    versicolor\n",
      "99    versicolor\n",
      "Name: species, dtype: object\n",
      "100    virginica\n",
      "101    virginica\n",
      "102    virginica\n",
      "103    virginica\n",
      "104    virginica\n",
      "105    virginica\n",
      "106    virginica\n",
      "107    virginica\n",
      "108    virginica\n",
      "109    virginica\n",
      "110    virginica\n",
      "111    virginica\n",
      "112    virginica\n",
      "113    virginica\n",
      "114    virginica\n",
      "115    virginica\n",
      "116    virginica\n",
      "117    virginica\n",
      "118    virginica\n",
      "119    virginica\n",
      "120    virginica\n",
      "121    virginica\n",
      "122    virginica\n",
      "123    virginica\n",
      "124    virginica\n",
      "125    virginica\n",
      "126    virginica\n",
      "127    virginica\n",
      "128    virginica\n",
      "129    virginica\n",
      "130    virginica\n",
      "131    virginica\n",
      "132    virginica\n",
      "133    virginica\n",
      "134    virginica\n",
      "135    virginica\n",
      "136    virginica\n",
      "137    virginica\n",
      "138    virginica\n",
      "139    virginica\n",
      "140    virginica\n",
      "141    virginica\n",
      "142    virginica\n",
      "143    virginica\n",
      "144    virginica\n",
      "145    virginica\n",
      "146    virginica\n",
      "147    virginica\n",
      "148    virginica\n",
      "149    virginica\n",
      "Name: species, dtype: object\n"
     ]
    }
   ],
   "source": [
    "print(iris['species'][1:50])\n",
    "print(iris['species'][51:100])\n",
    "print(iris['species'][100:150])"
   ]
  },
  {
   "cell_type": "code",
   "execution_count": 20,
   "id": "00ea646b",
   "metadata": {},
   "outputs": [
    {
     "data": {
      "image/png": "[encoded data removed]",
      "text/plain": [
       "<Figure size 432x288 with 1 Axes>"
      ]
     },
     "metadata": {},
     "output_type": "display_data"
    }
   ],
   "source": [
    "#data read through pandas\n",
    "x=data['Species']\n",
    "y=data['PetalLengthCm']\n",
    "plt.xlabel('species')\n",
    "plt.ylabel('petal_length')\n",
    "plt.scatter(x,y)\n",
    "plt.show()"
   ]
  },
  {
   "cell_type": "code",
   "execution_count": 21,
   "id": "8c6bcd16",
   "metadata": {},
   "outputs": [
    {
     "data": {
      "image/png": "[encoded data removed]",
      "text/plain": [
       "<Figure size 432x288 with 1 Axes>"
      ]
     },
     "metadata": {},
     "output_type": "display_data"
    }
   ],
   "source": [
    "##below are the 3 scatterplots of 3 inputs having highest correlationship\n",
    "\n",
    "plt.xlabel('petal_length')\n",
    "plt.ylabel('petal_width')\n",
    "plt.scatter(iris['petal_length'],iris['petal_width'])\n",
    "plt.show()"
   ]
  },
  {
   "cell_type": "code",
   "execution_count": 22,
   "id": "48575b04",
   "metadata": {},
   "outputs": [
    {
     "data": {
      "image/png": "[encoded data removed]",
      "text/plain": [
       "<Figure size 432x288 with 1 Axes>"
      ]
     },
     "metadata": {},
     "output_type": "display_data"
    }
   ],
   "source": [
    "plt.xlabel('petal_length')\n",
    "plt.ylabel('sepal_length')\n",
    "plt.scatter(iris['petal_length'],iris['sepal_length'])\n",
    "plt.show()"
   ]
  },
  {
   "cell_type": "code",
   "execution_count": 23,
   "id": "c4128642",
   "metadata": {},
   "outputs": [
    {
     "data": {
      "image/png": "[encoded data removed]",
      "text/plain": [
       "<Figure size 432x288 with 1 Axes>"
      ]
     },
     "metadata": {},
     "output_type": "display_data"
    }
   ],
   "source": [
    "plt.xlabel('petal_width')\n",
    "plt.ylabel('sepal_length')\n",
    "plt.scatter(iris['petal_width'],iris['sepal_length'])\n",
    "plt.show()"
   ]
  },
  {
   "cell_type": "markdown",
   "id": "4218edc2",
   "metadata": {},
   "source": [
    "# no need to preprocess iris data.....but if needed then below is a way but train_test_split has to be supplied x and y inividually so do it separately not like below i.e altogether\n",
    "###below are the examples of just how to preprocess the data\n"
   ]
  },
  {
   "cell_type": "code",
   "execution_count": 1,
   "id": "dd0739f0",
   "metadata": {},
   "outputs": [],
   "source": [
    "#pd.get_dummies(iris['species'])"
   ]
  },
  {
   "cell_type": "code",
   "execution_count": 2,
   "id": "bfd6c2bf",
   "metadata": {},
   "outputs": [],
   "source": [
    "#a=pd.get_dummies(iris['species'],drop_first=True)\n",
    "#print(a)"
   ]
  },
  {
   "cell_type": "code",
   "execution_count": 3,
   "id": "9fa43648",
   "metadata": {},
   "outputs": [],
   "source": [
    "#iris=pd.concat([iris,a],axis=1)\n",
    "#print(iris.head(5))"
   ]
  },
  {
   "cell_type": "code",
   "execution_count": 4,
   "id": "1966a12c",
   "metadata": {},
   "outputs": [],
   "source": [
    "#iris.drop(['species'],axis=1,inplace=True)\n",
    "#print(iris)"
   ]
  },
  {
   "cell_type": "code",
   "execution_count": 5,
   "id": "902551f0",
   "metadata": {},
   "outputs": [],
   "source": [
    "#from sklearn import preprocessing\n",
    "#minmax=preprocessing.MinMaxScaler(feature_range=(0,1))\n",
    "#minmax=minmax.fit_transform(iris)\n",
    "#print(\"scaled data:\\n\",minmax)\n",
    "#print(minmax.shape)"
   ]
  },
  {
   "cell_type": "markdown",
   "id": "9ba87c82",
   "metadata": {},
   "source": [
    "# Training, Testing and implementing"
   ]
  },
  {
   "cell_type": "code",
   "execution_count": 24,
   "id": "53ac1353",
   "metadata": {},
   "outputs": [
    {
     "name": "stdout",
     "output_type": "stream",
     "text": [
      "{'data': array([[5.1, 3.5, 1.4, 0.2],\n",
      "       [4.9, 3. , 1.4, 0.2],\n",
      "       [4.7, 3.2, 1.3, 0.2],\n",
      "       [4.6, 3.1, 1.5, 0.2],\n",
      "       [5. , 3.6, 1.4, 0.2],\n",
      "       [5.4, 3.9, 1.7, 0.4],\n",
      "       [4.6, 3.4, 1.4, 0.3],\n",
      "       [5. , 3.4, 1.5, 0.2],\n",
      "       [4.4, 2.9, 1.4, 0.2],\n",
      "       [4.9, 3.1, 1.5, 0.1],\n",
      "       [5.4, 3.7, 1.5, 0.2],\n",
      "       [4.8, 3.4, 1.6, 0.2],\n",
      "       [4.8, 3. , 1.4, 0.1],\n",
      "       [4.3, 3. , 1.1, 0.1],\n",
      "       [5.8, 4. , 1.2, 0.2],\n",
      "       [5.7, 4.4, 1.5, 0.4],\n",
      "       [5.4, 3.9, 1.3, 0.4],\n",
      "       [5.1, 3.5, 1.4, 0.3],\n",
      "       [5.7, 3.8, 1.7, 0.3],\n",
      "       [5.1, 3.8, 1.5, 0.3],\n",
      "       [5.4, 3.4, 1.7, 0.2],\n",
      "       [5.1, 3.7, 1.5, 0.4],\n",
      "       [4.6, 3.6, 1. , 0.2],\n",
      "       [5.1, 3.3, 1.7, 0.5],\n",
      "       [4.8, 3.4, 1.9, 0.2],\n",
      "       [5. , 3. , 1.6, 0.2],\n",
      "       [5. , 3.4, 1.6, 0.4],\n",
      "       [5.2, 3.5, 1.5, 0.2],\n",
      "       [5.2, 3.4, 1.4, 0.2],\n",
      "       [4.7, 3.2, 1.6, 0.2],\n",
      "       [4.8, 3.1, 1.6, 0.2],\n",
      "       [5.4, 3.4, 1.5, 0.4],\n",
      "       [5.2, 4.1, 1.5, 0.1],\n",
      "       [5.5, 4.2, 1.4, 0.2],\n",
      "       [4.9, 3.1, 1.5, 0.2],\n",
      "       [5. , 3.2, 1.2, 0.2],\n",
      "       [5.5, 3.5, 1.3, 0.2],\n",
      "       [4.9, 3.6, 1.4, 0.1],\n",
      "       [4.4, 3. , 1.3, 0.2],\n",
      "       [5.1, 3.4, 1.5, 0.2],\n",
      "       [5. , 3.5, 1.3, 0.3],\n",
      "       [4.5, 2.3, 1.3, 0.3],\n",
      "       [4.4, 3.2, 1.3, 0.2],\n",
      "       [5. , 3.5, 1.6, 0.6],\n",
      "       [5.1, 3.8, 1.9, 0.4],\n",
      "       [4.8, 3. , 1.4, 0.3],\n",
      "       [5.1, 3.8, 1.6, 0.2],\n",
      "       [4.6, 3.2, 1.4, 0.2],\n",
      "       [5.3, 3.7, 1.5, 0.2],\n",
      "       [5. , 3.3, 1.4, 0.2],\n",
      "       [7. , 3.2, 4.7, 1.4],\n",
      "       [6.4, 3.2, 4.5, 1.5],\n",
      "       [6.9, 3.1, 4.9, 1.5],\n",
      "       [5.5, 2.3, 4. , 1.3],\n",
      "       [6.5, 2.8, 4.6, 1.5],\n",
      "       [5.7, 2.8, 4.5, 1.3],\n",
      "       [6.3, 3.3, 4.7, 1.6],\n",
      "       [4.9, 2.4, 3.3, 1. ],\n",
      "       [6.6, 2.9, 4.6, 1.3],\n",
      "       [5.2, 2.7, 3.9, 1.4],\n",
      "       [5. , 2. , 3.5, 1. ],\n",
      "       [5.9, 3. , 4.2, 1.5],\n",
      "       [6. , 2.2, 4. , 1. ],\n",
      "       [6.1, 2.9, 4.7, 1.4],\n",
      "       [5.6, 2.9, 3.6, 1.3],\n",
      "       [6.7, 3.1, 4.4, 1.4],\n",
      "       [5.6, 3. , 4.5, 1.5],\n",
      "       [5.8, 2.7, 4.1, 1. ],\n",
      "       [6.2, 2.2, 4.5, 1.5],\n",
      "       [5.6, 2.5, 3.9, 1.1],\n",
      "       [5.9, 3.2, 4.8, 1.8],\n",
      "       [6.1, 2.8, 4. , 1.3],\n",
      "       [6.3, 2.5, 4.9, 1.5],\n",
      "       [6.1, 2.8, 4.7, 1.2],\n",
      "       [6.4, 2.9, 4.3, 1.3],\n",
      "       [6.6, 3. , 4.4, 1.4],\n",
      "       [6.8, 2.8, 4.8, 1.4],\n",
      "       [6.7, 3. , 5. , 1.7],\n",
      "       [6. , 2.9, 4.5, 1.5],\n",
      "       [5.7, 2.6, 3.5, 1. ],\n",
      "       [5.5, 2.4, 3.8, 1.1],\n",
      "       [5.5, 2.4, 3.7, 1. ],\n",
      "       [5.8, 2.7, 3.9, 1.2],\n",
      "       [6. , 2.7, 5.1, 1.6],\n",
      "       [5.4, 3. , 4.5, 1.5],\n",
      "       [6. , 3.4, 4.5, 1.6],\n",
      "       [6.7, 3.1, 4.7, 1.5],\n",
      "       [6.3, 2.3, 4.4, 1.3],\n",
      "       [5.6, 3. , 4.1, 1.3],\n",
      "       [5.5, 2.5, 4. , 1.3],\n",
      "       [5.5, 2.6, 4.4, 1.2],\n",
      "       [6.1, 3. , 4.6, 1.4],\n",
      "       [5.8, 2.6, 4. , 1.2],\n",
      "       [5. , 2.3, 3.3, 1. ],\n",
      "       [5.6, 2.7, 4.2, 1.3],\n",
      "       [5.7, 3. , 4.2, 1.2],\n",
      "       [5.7, 2.9, 4.2, 1.3],\n",
      "       [6.2, 2.9, 4.3, 1.3],\n",
      "       [5.1, 2.5, 3. , 1.1],\n",
      "       [5.7, 2.8, 4.1, 1.3],\n",
      "       [6.3, 3.3, 6. , 2.5],\n",
      "       [5.8, 2.7, 5.1, 1.9],\n",
      "       [7.1, 3. , 5.9, 2.1],\n",
      "       [6.3, 2.9, 5.6, 1.8],\n",
      "       [6.5, 3. , 5.8, 2.2],\n",
      "       [7.6, 3. , 6.6, 2.1],\n",
      "       [4.9, 2.5, 4.5, 1.7],\n",
      "       [7.3, 2.9, 6.3, 1.8],\n",
      "       [6.7, 2.5, 5.8, 1.8],\n",
      "       [7.2, 3.6, 6.1, 2.5],\n",
      "       [6.5, 3.2, 5.1, 2. ],\n",
      "       [6.4, 2.7, 5.3, 1.9],\n",
      "       [6.8, 3. , 5.5, 2.1],\n",
      "       [5.7, 2.5, 5. , 2. ],\n",
      "       [5.8, 2.8, 5.1, 2.4],\n",
      "       [6.4, 3.2, 5.3, 2.3],\n",
      "       [6.5, 3. , 5.5, 1.8],\n",
      "       [7.7, 3.8, 6.7, 2.2],\n",
      "       [7.7, 2.6, 6.9, 2.3],\n",
      "       [6. , 2.2, 5. , 1.5],\n",
      "       [6.9, 3.2, 5.7, 2.3],\n",
      "       [5.6, 2.8, 4.9, 2. ],\n",
      "       [7.7, 2.8, 6.7, 2. ],\n",
      "       [6.3, 2.7, 4.9, 1.8],\n",
      "       [6.7, 3.3, 5.7, 2.1],\n",
      "       [7.2, 3.2, 6. , 1.8],\n",
      "       [6.2, 2.8, 4.8, 1.8],\n",
      "       [6.1, 3. , 4.9, 1.8],\n",
      "       [6.4, 2.8, 5.6, 2.1],\n",
      "       [7.2, 3. , 5.8, 1.6],\n",
      "       [7.4, 2.8, 6.1, 1.9],\n",
      "       [7.9, 3.8, 6.4, 2. ],\n",
      "       [6.4, 2.8, 5.6, 2.2],\n",
      "       [6.3, 2.8, 5.1, 1.5],\n",
      "       [6.1, 2.6, 5.6, 1.4],\n",
      "       [7.7, 3. , 6.1, 2.3],\n",
      "       [6.3, 3.4, 5.6, 2.4],\n",
      "       [6.4, 3.1, 5.5, 1.8],\n",
      "       [6. , 3. , 4.8, 1.8],\n",
      "       [6.9, 3.1, 5.4, 2.1],\n",
      "       [6.7, 3.1, 5.6, 2.4],\n",
      "       [6.9, 3.1, 5.1, 2.3],\n",
      "       [5.8, 2.7, 5.1, 1.9],\n",
      "       [6.8, 3.2, 5.9, 2.3],\n",
      "       [6.7, 3.3, 5.7, 2.5],\n",
      "       [6.7, 3. , 5.2, 2.3],\n",
      "       [6.3, 2.5, 5. , 1.9],\n",
      "       [6.5, 3. , 5.2, 2. ],\n",
      "       [6.2, 3.4, 5.4, 2.3],\n",
      "       [5.9, 3. , 5.1, 1.8]]), 'target': array([0, 0, 0, 0, 0, 0, 0, 0, 0, 0, 0, 0, 0, 0, 0, 0, 0, 0, 0, 0, 0, 0,\n",
      "       0, 0, 0, 0, 0, 0, 0, 0, 0, 0, 0, 0, 0, 0, 0, 0, 0, 0, 0, 0, 0, 0,\n",
      "       0, 0, 0, 0, 0, 0, 1, 1, 1, 1, 1, 1, 1, 1, 1, 1, 1, 1, 1, 1, 1, 1,\n",
      "       1, 1, 1, 1, 1, 1, 1, 1, 1, 1, 1, 1, 1, 1, 1, 1, 1, 1, 1, 1, 1, 1,\n",
      "       1, 1, 1, 1, 1, 1, 1, 1, 1, 1, 1, 1, 2, 2, 2, 2, 2, 2, 2, 2, 2, 2,\n",
      "       2, 2, 2, 2, 2, 2, 2, 2, 2, 2, 2, 2, 2, 2, 2, 2, 2, 2, 2, 2, 2, 2,\n",
      "       2, 2, 2, 2, 2, 2, 2, 2, 2, 2, 2, 2, 2, 2, 2, 2, 2, 2]), 'frame': None, 'target_names': array(['setosa', 'versicolor', 'virginica'], dtype='<U10'), 'DESCR': '.. _iris_dataset:\\n\\nIris plants dataset\\n--------------------\\n\\n**Data Set Characteristics:**\\n\\n    :Number of Instances: 150 (50 in each of three classes)\\n    :Number of Attributes: 4 numeric, predictive attributes and the class\\n    :Attribute Information:\\n        - sepal length in cm\\n        - sepal width in cm\\n        - petal length in cm\\n        - petal width in cm\\n        - class:\\n                - Iris-Setosa\\n                - Iris-Versicolour\\n                - Iris-Virginica\\n                \\n    :Summary Statistics:\\n\\n    ============== ==== ==== ======= ===== ====================\\n                    Min  Max   Mean    SD   Class Correlation\\n    ============== ==== ==== ======= ===== ====================\\n    sepal length:   4.3  7.9   5.84   0.83    0.7826\\n    sepal width:    2.0  4.4   3.05   0.43   -0.4194\\n    petal length:   1.0  6.9   3.76   1.76    0.9490  (high!)\\n    petal width:    0.1  2.5   1.20   0.76    0.9565  (high!)\\n    ============== ==== ==== ======= ===== ====================\\n\\n    :Missing Attribute Values: None\\n    :Class Distribution: 33.3% for each of 3 classes.\\n    :Creator: R.A. Fisher\\n    :Donor: Michael Marshall (MARSHALL%PLU@io.arc.nasa.gov)\\n    :Date: July, 1988\\n\\nThe famous Iris database, first used by Sir R.A. Fisher. The dataset is taken\\nfrom Fisher\\'s paper. Note that it\\'s the same as in R, but not as in the UCI\\nMachine Learning Repository, which has two wrong data points.\\n\\nThis is perhaps the best known database to be found in the\\npattern recognition literature.  Fisher\\'s paper is a classic in the field and\\nis referenced frequently to this day.  (See Duda & Hart, for example.)  The\\ndata set contains 3 classes of 50 instances each, where each class refers to a\\ntype of iris plant.  One class is linearly separable from the other 2; the\\nlatter are NOT linearly separable from each other.\\n\\n.. topic:: References\\n\\n   - Fisher, R.A. \"The use of multiple measurements in taxonomic problems\"\\n     Annual Eugenics, 7, Part II, 179-188 (1936); also in \"Contributions to\\n     Mathematical Statistics\" (John Wiley, NY, 1950).\\n   - Duda, R.O., & Hart, P.E. (1973) Pattern Classification and Scene Analysis.\\n     (Q327.D83) John Wiley & Sons.  ISBN 0-471-22361-1.  See page 218.\\n   - Dasarathy, B.V. (1980) \"Nosing Around the Neighborhood: A New System\\n     Structure and Classification Rule for Recognition in Partially Exposed\\n     Environments\".  IEEE Transactions on Pattern Analysis and Machine\\n     Intelligence, Vol. PAMI-2, No. 1, 67-71.\\n   - Gates, G.W. (1972) \"The Reduced Nearest Neighbor Rule\".  IEEE Transactions\\n     on Information Theory, May 1972, 431-433.\\n   - See also: 1988 MLC Proceedings, 54-64.  Cheeseman et al\"s AUTOCLASS II\\n     conceptual clustering system finds 3 classes in the data.\\n   - Many, many more ...', 'feature_names': ['sepal length (cm)', 'sepal width (cm)', 'petal length (cm)', 'petal width (cm)'], 'filename': 'C:\\\\Users\\\\Shalini-Anubhav\\\\anaconda3\\\\lib\\\\site-packages\\\\sklearn\\\\datasets\\\\data\\\\iris.csv'}\n",
      "feature_names: ['sepal length (cm)', 'sepal width (cm)', 'petal length (cm)', 'petal width (cm)']\n",
      "target_names: ['setosa' 'versicolor' 'virginica']\n",
      "480\n",
      "(120, 4)\n",
      "120\n",
      "(30, 4)\n",
      "120\n",
      "(120,)\n",
      "30\n",
      "(30,)\n"
     ]
    }
   ],
   "source": [
    "from sklearn.datasets import load_iris\n",
    "iris=load_iris()\n",
    "print(iris)\n",
    "x=iris.data\n",
    "y=iris.target\n",
    "feature=iris.feature_names\n",
    "target=iris.target_names\n",
    "print(\"feature_names:\",feature)\n",
    "print(\"target_names:\",target)\n",
    "from sklearn.model_selection import train_test_split\n",
    "x_train,x_test,y_train,y_test=train_test_split(x,y,test_size=0.2,random_state=1)\n",
    "print(x_train.size)\n",
    "print(x_train.shape)\n",
    "print(x_test.size)\n",
    "print(x_test.shape)\n",
    "print(y_train.size)\n",
    "print(y_train.shape)\n",
    "print(y_test.size)\n",
    "print(y_test.shape)"
   ]
  },
  {
   "cell_type": "markdown",
   "id": "61af4967",
   "metadata": {},
   "source": [
    "# Below is training and model implementation without scaling the data by LogisticRegression"
   ]
  },
  {
   "cell_type": "code",
   "execution_count": 26,
   "id": "d042ff3d",
   "metadata": {},
   "outputs": [
    {
     "name": "stdout",
     "output_type": "stream",
     "text": [
      "              precision    recall  f1-score   support\n",
      "\n",
      "           0       1.00      1.00      1.00        11\n",
      "           1       1.00      0.92      0.96        13\n",
      "           2       0.86      1.00      0.92         6\n",
      "\n",
      "    accuracy                           0.97        30\n",
      "   macro avg       0.95      0.97      0.96        30\n",
      "weighted avg       0.97      0.97      0.97        30\n",
      "\n",
      "[[11  0  0]\n",
      " [ 0 12  1]\n",
      " [ 0  0  6]]\n",
      "96.66666666666667\n",
      "predictions: ['virginica', 'setosa']\n"
     ]
    }
   ],
   "source": [
    "from sklearn.linear_model import LogisticRegression\n",
    "logmodel=LogisticRegression(max_iter=200)\n",
    "logmodel.fit(x_train, y_train)\n",
    "y_pred=logmodel.predict(x_test)\n",
    "from sklearn.metrics import classification_report, confusion_matrix,accuracy_score\n",
    "print(classification_report(y_test,y_pred))\n",
    "print(confusion_matrix(y_test,y_pred))\n",
    "print(accuracy_score(y_test,y_pred)*100)\n",
    "samples=[[1,9,6,4],[5,4,1,0]]\n",
    "new_pred=logmodel.predict(samples)\n",
    "species=[iris.target_names[n] for n in new_pred]\n",
    "print (\"predictions:\",species)\n",
    "#max_iter is default set to 100 in logistic regression. Increase the no if ur dataset contains more than 100 input samples if error or warning occurs.Do it with passing inside logistic regression (max_iter=200)"
   ]
  },
  {
   "cell_type": "markdown",
   "id": "3b5ff836",
   "metadata": {},
   "source": [
    "# Iris dataset with knn algorithm"
   ]
  },
  {
   "cell_type": "code",
   "execution_count": 27,
   "id": "a5314f06",
   "metadata": {},
   "outputs": [
    {
     "name": "stdout",
     "output_type": "stream",
     "text": [
      "              precision    recall  f1-score   support\n",
      "\n",
      "           0       1.00      1.00      1.00        11\n",
      "           1       1.00      1.00      1.00        13\n",
      "           2       1.00      1.00      1.00         6\n",
      "\n",
      "    accuracy                           1.00        30\n",
      "   macro avg       1.00      1.00      1.00        30\n",
      "weighted avg       1.00      1.00      1.00        30\n",
      "\n",
      "[[11  0  0]\n",
      " [ 0 13  0]\n",
      " [ 0  0  6]]\n",
      "1.0\n",
      "predictions: ['virginica', 'setosa']\n"
     ]
    }
   ],
   "source": [
    "from sklearn.neighbors import KNeighborsClassifier\n",
    "knn=KNeighborsClassifier(n_neighbors=3)\n",
    "knn.fit(x_train, y_train)\n",
    "y_pred=knn.predict (x_test)\n",
    "from sklearn.metrics import classification_report, confusion_matrix,accuracy_score\n",
    "print(classification_report(y_test,y_pred))\n",
    "print(confusion_matrix(y_test,y_pred))\n",
    "print(accuracy_score(y_test,y_pred))\n",
    "samples=[[1,9,6,4],[5,4,1,0]]\n",
    "new_pred=knn.predict(samples)\n",
    "species=[iris.target_names[n] for n in new_pred]\n",
    "print (\"predictions:\",species)"
   ]
  },
  {
   "cell_type": "markdown",
   "id": "ec280a1f",
   "metadata": {},
   "source": [
    "# Iris data with svm"
   ]
  },
  {
   "cell_type": "code",
   "execution_count": 28,
   "id": "fc7e385a",
   "metadata": {},
   "outputs": [
    {
     "name": "stdout",
     "output_type": "stream",
     "text": [
      "              precision    recall  f1-score   support\n",
      "\n",
      "           0       1.00      1.00      1.00        11\n",
      "           1       1.00      0.92      0.96        13\n",
      "           2       0.86      1.00      0.92         6\n",
      "\n",
      "    accuracy                           0.97        30\n",
      "   macro avg       0.95      0.97      0.96        30\n",
      "weighted avg       0.97      0.97      0.97        30\n",
      "\n",
      "[[11  0  0]\n",
      " [ 0 12  1]\n",
      " [ 0  0  6]]\n",
      "0.9666666666666667\n",
      "predictions: ['virginica', 'setosa']\n"
     ]
    }
   ],
   "source": [
    "from sklearn.svm import SVC\n",
    "svm = SVC(kernel='rbf', random_state=0, gamma=.10, C=1.0)\n",
    "svm.fit(x_train, y_train)\n",
    "y_pred=svm.predict(x_test)\n",
    "from sklearn.metrics import classification_report, confusion_matrix,accuracy_score\n",
    "print(classification_report(y_test,y_pred))\n",
    "print(confusion_matrix(y_test,y_pred))\n",
    "print(accuracy_score(y_test,y_pred))\n",
    "samples=[[1,9,6,4],[5,4,1,0]]\n",
    "new_pred=svm.predict(samples)\n",
    "species=[iris.target_names[n] for n in new_pred]\n",
    "print (\"predictions:\",species)"
   ]
  },
  {
   "cell_type": "markdown",
   "id": "c88b0e03",
   "metadata": {},
   "source": [
    "# Iris data with Decision tree"
   ]
  },
  {
   "cell_type": "code",
   "execution_count": 29,
   "id": "36ada93c",
   "metadata": {},
   "outputs": [
    {
     "name": "stdout",
     "output_type": "stream",
     "text": [
      "              precision    recall  f1-score   support\n",
      "\n",
      "           0       1.00      1.00      1.00        11\n",
      "           1       1.00      0.92      0.96        13\n",
      "           2       0.86      1.00      0.92         6\n",
      "\n",
      "    accuracy                           0.97        30\n",
      "   macro avg       0.95      0.97      0.96        30\n",
      "weighted avg       0.97      0.97      0.97        30\n",
      "\n",
      "[[11  0  0]\n",
      " [ 0 12  1]\n",
      " [ 0  0  6]]\n",
      "0.9666666666666667\n",
      "predictions: ['virginica', 'setosa']\n"
     ]
    }
   ],
   "source": [
    "from sklearn.tree import DecisionTreeClassifier\n",
    "decision_tree = DecisionTreeClassifier(criterion='gini')\n",
    "decision_tree.fit(x_train, y_train)\n",
    "y_pred=decision_tree.predict(x_test)\n",
    "from sklearn.metrics import classification_report, confusion_matrix,accuracy_score\n",
    "print(classification_report(y_test,y_pred))\n",
    "print(confusion_matrix(y_test,y_pred))\n",
    "print(accuracy_score(y_test,y_pred))\n",
    "samples=[[1,9,6,4],[5,4,1,0]]\n",
    "new_pred=decision_tree.predict(samples)\n",
    "species=[iris.target_names[n] for n in new_pred]\n",
    "print (\"predictions:\",species)"
   ]
  },
  {
   "cell_type": "markdown",
   "id": "7516df1f",
   "metadata": {},
   "source": [
    "# Iris data with gradient boosting"
   ]
  },
  {
   "cell_type": "code",
   "execution_count": 30,
   "id": "bac44c2e",
   "metadata": {},
   "outputs": [
    {
     "name": "stdout",
     "output_type": "stream",
     "text": [
      "[18:11:08] WARNING: ..\\src\\learner.cc:1115: Starting in XGBoost 1.3.0, the default evaluation metric used with the objective 'multi:softprob' was changed from 'merror' to 'mlogloss'. Explicitly set eval_metric if you'd like to restore the old behavior.\n",
      "              precision    recall  f1-score   support\n",
      "\n",
      "           0       1.00      1.00      1.00        11\n",
      "           1       1.00      0.92      0.96        13\n",
      "           2       0.86      1.00      0.92         6\n",
      "\n",
      "    accuracy                           0.97        30\n",
      "   macro avg       0.95      0.97      0.96        30\n",
      "weighted avg       0.97      0.97      0.97        30\n",
      "\n",
      "[[11  0  0]\n",
      " [ 0 12  1]\n",
      " [ 0  0  6]]\n",
      "0.9666666666666667\n",
      "predictions: ['virginica', 'setosa']\n"
     ]
    }
   ],
   "source": [
    "import xgboost as xgb\n",
    "xgb_clf = xgb.XGBClassifier(use_label_encoder=False)\n",
    "xgb_clf = xgb_clf.fit(x_train, y_train)\n",
    "y_pred=xgb_clf.predict(x_test)\n",
    "from sklearn.metrics import classification_report, confusion_matrix,accuracy_score\n",
    "print(classification_report(y_test,y_pred))\n",
    "print(confusion_matrix(y_test,y_pred))\n",
    "print(accuracy_score(y_test,y_pred))\n",
    "samples=[[1,9,6,4],[5,4,1,0]]\n",
    "new_pred=xgb_clf.predict(samples)\n",
    "species=[iris.target_names[n] for n in new_pred]\n",
    "print (\"predictions:\",species)"
   ]
  },
  {
   "cell_type": "markdown",
   "id": "4bb79143",
   "metadata": {},
   "source": [
    "# Iris data with Naive Bayes"
   ]
  },
  {
   "cell_type": "code",
   "execution_count": 31,
   "id": "7809f582",
   "metadata": {},
   "outputs": [
    {
     "name": "stdout",
     "output_type": "stream",
     "text": [
      "              precision    recall  f1-score   support\n",
      "\n",
      "           0       1.00      1.00      1.00        11\n",
      "           1       1.00      0.92      0.96        13\n",
      "           2       0.86      1.00      0.92         6\n",
      "\n",
      "    accuracy                           0.97        30\n",
      "   macro avg       0.95      0.97      0.96        30\n",
      "weighted avg       0.97      0.97      0.97        30\n",
      "\n",
      "[[11  0  0]\n",
      " [ 0 12  1]\n",
      " [ 0  0  6]]\n",
      "0.9666666666666667\n",
      "predictions: ['virginica', 'setosa']\n"
     ]
    }
   ],
   "source": [
    "from sklearn.naive_bayes import GaussianNB\n",
    "GNB = GaussianNB()\n",
    "GNB.fit(x_train, y_train)\n",
    "y_pred=GNB.predict(x_test)\n",
    "from sklearn.metrics import classification_report, confusion_matrix,accuracy_score\n",
    "print(classification_report(y_test,y_pred))\n",
    "print(confusion_matrix(y_test,y_pred))\n",
    "print(accuracy_score(y_test,y_pred))\n",
    "samples=[[1,9,6,4],[5,4,1,0]]\n",
    "new_pred=GNB.predict(samples)\n",
    "species=[iris.target_names[n] for n in new_pred]\n",
    "print (\"predictions:\",species)"
   ]
  },
  {
   "cell_type": "markdown",
   "id": "0bc8e436",
   "metadata": {},
   "source": [
    "## preprocessing Iris dataset indivially acc to species"
   ]
  },
  {
   "cell_type": "code",
   "execution_count": 32,
   "id": "e065413e",
   "metadata": {},
   "outputs": [
    {
     "name": "stdout",
     "output_type": "stream",
     "text": [
      "[[ 0.11186818 -0.00491776  0.2682388   0.05747516]\n",
      " [ 2.05740176 -0.00491776  1.12432008  1.23310333]\n",
      " [-0.49611106 -1.23435823 -0.1312658  -0.3344009 ]\n",
      " [ 0.47665573 -0.49669395  0.83895965  0.97185263]\n",
      " [-0.25291936 -0.49669395  0.55359922  1.36372869]\n",
      " [-0.86089861  1.71629889 -1.50099584 -1.51002908]\n",
      " [-0.61770691 -1.72613441 -0.07419371 -0.0731502 ]\n",
      " [-0.98249446  0.97863461 -1.55806792 -1.51002908]\n",
      " [ 0.59825157 -0.49669395  0.2682388   0.18810051]\n",
      " [ 0.84144327 -1.23435823  0.95310382  0.57997657]\n",
      " [ 0.96303912 -0.00491776  0.78188757  0.97185263]\n",
      " [-1.1040903   1.2245227  -1.55806792 -1.37940373]\n",
      " [-0.00972767 -1.97202251  0.49652714  0.18810051]\n",
      " [ 0.35505988 -0.25080585  0.83895965  0.57997657]\n",
      " [ 0.71984742 -0.25080585  0.2682388  -0.0731502 ]\n",
      " [ 2.05740176 -0.98847013  1.58089676  1.23310333]\n",
      " [-0.37451521  1.96218698 -1.38685167 -1.37940373]\n",
      " [-1.22568615  1.4704108  -1.55806792 -1.51002908]\n",
      " [-1.46887785 -0.00491776 -1.55806792 -1.37940373]\n",
      " [-0.98249446 -0.74258204 -0.1312658   0.05747516]\n",
      " [-1.1040903   0.97863461 -1.50099584 -1.51002908]\n",
      " [-0.61770691  1.2245227  -1.61514001 -1.51002908]\n",
      " [ 2.05740176  1.96218698  1.46675259  1.10247798]\n",
      " [ 1.08463497  0.24097033  0.72481548  0.97185263]\n",
      " [ 1.57101836 -0.25080585  1.23846425  0.57997657]\n",
      " [ 0.47665573 -0.49669395  0.83895965  1.10247798]\n",
      " [ 0.23346403 -0.49669395  0.38238297  0.57997657]\n",
      " [-0.00972767  0.97863461  0.21116671  0.31872586]\n",
      " [ 2.05740176 -0.49669395  1.46675259  0.84122727]\n",
      " [-0.37451521 -0.00491776  0.03995046 -0.20377555]\n",
      " [-1.46887785  0.97863461 -1.44392375 -1.51002908]\n",
      " [-0.37451521 -1.23435823  0.49652714  0.84122727]\n",
      " [ 0.35505988 -0.74258204  0.43945505  0.57997657]\n",
      " [-1.46887785 -0.00491776 -1.55806792 -1.64065444]\n",
      " [-1.5904737   0.48685842 -1.61514001 -1.51002908]\n",
      " [ 0.59825157 -0.00491776  0.95310382  1.10247798]\n",
      " [-1.71206955  0.97863461 -1.55806792 -1.37940373]\n",
      " [ 0.11186818 -0.00491776  0.43945505  0.57997657]\n",
      " [ 0.59825157  0.48685842  0.55359922  0.84122727]\n",
      " [ 0.84144327  0.24097033  0.15409463  0.05747516]\n",
      " [-0.37451521 -0.49669395  0.21116671 -0.0731502 ]\n",
      " [ 0.84144327  0.73274652  0.89603174  1.49435404]\n",
      " [-0.00972767 -0.00491776  0.38238297  0.57997657]\n",
      " [-1.1040903   1.96218698 -1.44392375 -1.51002908]\n",
      " [-0.00972767 -1.97202251 -0.07419371 -0.46502626]\n",
      " [ 0.47665573 -0.25080585  0.09702254 -0.0731502 ]\n",
      " [ 0.59825157 -0.00491776  0.78188757  0.57997657]\n",
      " [-1.22568615 -1.72613441 -0.47369831 -0.46502626]\n",
      " [ 0.35505988  0.73274652  1.06724799  1.49435404]\n",
      " [-0.61770691 -1.23435823 -0.07419371 -0.0731502 ]]\n",
      "(50, 4)\n",
      "200\n",
      "[-1.71206955 -1.97202251 -1.61514001 -1.64065444]\n",
      "[2.05740176 1.96218698 1.58089676 1.49435404]\n",
      "feature_names: ['sepal length (cm)', 'sepal width (cm)', 'petal length (cm)', 'petal width (cm)']\n"
     ]
    }
   ],
   "source": [
    "from sklearn.preprocessing import StandardScaler\n",
    "sc = StandardScaler()\n",
    "#sc.fit(x_train)\n",
    "x_train_std = sc.fit_transform(x_train[0:50])\n",
    "print(x_train_std)\n",
    "print(x_train_std.shape)\n",
    "print(x_train_std.size)\n",
    "a=x_train_std\n",
    "print(np.amin(a,0))\n",
    "print(np.amax(a,0))\n",
    "print(\"feature_names:\",feature)\n"
   ]
  },
  {
   "cell_type": "code",
   "execution_count": 33,
   "id": "3b45fba4",
   "metadata": {},
   "outputs": [
    {
     "name": "stdout",
     "output_type": "stream",
     "text": [
      "[[-0.26494061  1.43419637 -1.0833485  -1.10746716]\n",
      " [-0.86165371  0.10212544 -1.0833485  -1.10746716]\n",
      " [-0.50362585  2.32224366 -1.0833485  -1.23162267]\n",
      " [ 1.28651343  0.54614908  1.27664305  1.25148755]\n",
      " [-1.45836681 -0.11988638 -1.19572905 -1.10746716]\n",
      " [ 0.4511151  -0.78592185  0.9395014   0.63070999]\n",
      " [ 0.92848558 -0.78592185  1.05188195  1.00317653]\n",
      " [ 0.33177248 -0.11988638  0.9395014   0.87902102]\n",
      " [-0.50362585  0.99017273 -1.0833485  -1.10746716]\n",
      " [-0.62296847  0.54614908 -0.97096795 -0.73500062]\n",
      " [ 0.21242986 -0.78592185  0.37759865 -0.11422307]\n",
      " [-0.86165371  0.10212544 -1.0833485  -1.23162267]\n",
      " [ 2.12191177 -0.56391003  1.50140415  1.00317653]\n",
      " [ 0.68980034 -0.34189821  0.4899792   0.25824346]\n",
      " [ 2.36059701 -0.11988638  1.78235553  1.25148755]\n",
      " [ 1.28651343 -0.11988638  0.99569168  1.49979857]\n",
      " [ 0.80914296 -1.67396914  0.54616947  0.25824346]\n",
      " [ 0.68980034  0.7681609   1.10807223  1.49979857]\n",
      " [ 1.88322653  1.21218455  1.50140415  1.74810959]\n",
      " [-0.02625538 -0.34189821  0.09664727  0.25824346]\n",
      " [ 0.09308724  2.98827912 -1.0833485  -0.85915613]\n",
      " [ 0.21242986 -0.78592185  0.2652181   0.13408795]\n",
      " [-1.33902419 -1.67396914 -1.19572905 -0.98331164]\n",
      " [-0.145598   -1.45195731  0.20902782  0.00993244]\n",
      " [ 1.52519867  0.10212544  0.82712085  0.50655448]\n",
      " [-0.74231109  0.7681609  -1.02715823 -0.85915613]\n",
      " [ 1.40585605 -0.56391003  0.77093057  0.38239897]\n",
      " [-0.74231109  0.99017273 -1.02715823 -0.61084511]\n",
      " [-0.98099633  0.7681609  -0.8585874  -1.10746716]\n",
      " [ 0.80914296  0.7681609   1.22045278  1.62395408]\n",
      " [-0.02625538 -0.56391003  0.82712085  1.12733204]\n",
      " [ 1.40585605  0.32413726  1.3890236   1.49979857]\n",
      " [-0.74231109  0.54614908 -1.13953878 -1.10746716]\n",
      " [-0.62296847  1.43419637 -1.0833485  -0.85915613]\n",
      " [ 0.33177248  0.32413726  0.77093057  0.87902102]\n",
      " [-1.21968157  0.10212544 -1.0833485  -1.10746716]\n",
      " [ 0.21242986 -0.78592185  0.9395014   1.00317653]\n",
      " [-0.98099633  0.10212544 -1.02715823 -1.10746716]\n",
      " [ 1.0478282  -0.11988638  0.99569168  1.12733204]\n",
      " [-0.86165371 -1.22994549  0.60235975  0.75486551]\n",
      " [-1.21968157  0.32413726 -1.13953878 -1.10746716]\n",
      " [ 0.92848558  0.32413726  1.05188195  1.49979857]\n",
      " [-1.57770943 -0.11988638 -1.30810961 -1.23162267]\n",
      " [-0.02625538 -0.11988638  0.37759865  0.25824346]\n",
      " [-1.45836681 -0.34189821 -1.13953878 -1.10746716]\n",
      " [-0.145598   -1.45195731  0.15283755 -0.11422307]\n",
      " [-0.74231109 -2.3400046   0.040457   -0.11422307]\n",
      " [-0.62296847  0.99017273 -1.13953878 -1.10746716]\n",
      " [-0.86165371 -0.11988638 -1.13953878 -1.10746716]\n",
      " [-0.86165371 -1.45195731 -0.07192355 -0.11422307]]\n",
      "(50, 4)\n",
      "200\n",
      "[-1.57770943 -2.3400046  -1.30810961 -1.23162267]\n",
      "[2.36059701 2.98827912 1.78235553 1.74810959]\n",
      "feature_names: ['sepal length (cm)', 'sepal width (cm)', 'petal length (cm)', 'petal width (cm)']\n"
     ]
    }
   ],
   "source": [
    "from sklearn.preprocessing import StandardScaler\n",
    "sc = StandardScaler()\n",
    "#sc.fit(x_train)\n",
    "x_train_std = sc.fit_transform(x_train[50:100])\n",
    "print(x_train_std)\n",
    "print(x_train_std.shape)\n",
    "print(x_train_std.size)\n",
    "a=x_train_std\n",
    "print(np.amin(a,0))\n",
    "print(np.amax(a,0))\n",
    "print(\"feature_names:\",feature)"
   ]
  },
  {
   "cell_type": "code",
   "execution_count": 34,
   "id": "aa599eb5",
   "metadata": {},
   "outputs": [
    {
     "name": "stdout",
     "output_type": "stream",
     "text": [
      "[[-1.96093851  1.7686515  -1.89571069 -1.54551744]\n",
      " [-0.07959529  0.07074606  0.15025026  0.47375158]\n",
      " [ 0.20984213 -0.21223818  0.46993166  0.31842319]\n",
      " [-1.38206368  1.20268302 -1.57602929 -1.54551744]\n",
      " [ 1.07815439  0.3537303   0.46993166  0.47375158]\n",
      " [-0.36903271 -0.21223818  0.15025026  0.16309481]\n",
      " [ 0.35456084 -2.19312786  0.3420591   0.47375158]\n",
      " [ 1.51231051  0.63671454  0.46993166  0.31842319]\n",
      " [-0.224314   -0.77820666  0.72567677  1.09506512]\n",
      " [-0.80318884  1.20268302 -1.44815673 -1.54551744]\n",
      " [-1.38206368  0.07074606 -1.51209301 -1.54551744]\n",
      " [ 0.20984213 -1.0611909   1.04535817  0.31842319]\n",
      " [ 0.20984213 -0.49522242  0.0223777   0.16309481]\n",
      " [ 1.80174793  0.07074606  1.17323073  0.62907996]\n",
      " [-0.36903271 -1.0611909  -0.2973037  -0.30289035]\n",
      " [ 0.49927955 -0.49522242  0.72567677  0.47375158]\n",
      " [ 0.64399826  0.3537303   0.98142189  0.93973674]\n",
      " [ 0.49927955 -1.34417514  0.59780421  0.47375158]\n",
      " [ 1.07815439  0.3537303   1.04535817  1.87170705]\n",
      " [-1.52678239  1.7686515  -1.63996557 -1.70084583]]\n",
      "(20, 4)\n",
      "80\n",
      "[-1.96093851 -2.19312786 -1.89571069 -1.70084583]\n",
      "[1.80174793 1.7686515  1.17323073 1.87170705]\n",
      "feature_names: ['sepal length (cm)', 'sepal width (cm)', 'petal length (cm)', 'petal width (cm)']\n",
      "[[-0.07829545  1.70946556 -1.3642592  -1.32113381]\n",
      " [-0.94366618 -1.53635513 -0.31929471 -0.0287203 ]\n",
      " [ 0.91069968 -0.4544149   0.49345546  0.4020842 ]\n",
      " [-0.57279301  1.49307752 -1.30620562 -1.03393081]\n",
      " [ 2.51781676  1.27668947  1.65452712  1.26369321]\n",
      " [ 0.53982651  0.19474924  0.6676162   0.68928721]\n",
      " [ 1.28157285 -0.23802685  0.89983054  1.69449772]\n",
      " [-0.94366618  1.27668947 -0.95788412 -1.03393081]\n",
      " [-1.43816375 -0.0216388  -1.13204487 -1.32113381]\n",
      " [ 1.28157285 -0.0216388   1.24815204  1.69449772]\n",
      " [-0.32554423 -1.10357903  0.37734829  0.2584827 ]\n",
      " [-0.57279301  1.49307752 -1.07399129 -1.03393081]\n",
      " [ 1.52882163 -0.4544149   1.3642592   1.40729472]\n",
      " [ 0.6634509  -0.0216388   0.55150904  0.54568571]\n",
      " [ 0.16895333 -0.67080294  0.55150904  0.54568571]\n",
      " [-1.80903692 -0.0216388  -1.30620562 -1.32113381]\n",
      " [-0.07829545 -1.31996708  0.26124112  0.1148812 ]\n",
      " [-0.32554423 -0.4544149   0.55150904  0.54568571]\n",
      " [-0.57279301  0.41113729 -1.19009845 -1.03393081]\n",
      " [-1.06729058 -0.0216388  -1.3642592  -1.32113381]\n",
      " [-0.44916862 -1.31996708  0.49345546  0.1148812 ]\n",
      " [-0.57279301 -0.4544149   0.55150904  0.54568571]\n",
      " [ 1.03432407 -0.4544149   0.84177695  0.83288871]\n",
      " [-1.06729058  0.62752533 -1.30620562 -1.17753231]\n",
      " [ 1.65244603 -0.0216388   1.42231278  0.97649021]\n",
      " [-0.20191984 -0.88719099  0.31929471  0.2584827 ]\n",
      " [-0.44916862  2.14224166 -1.24815204 -1.32113381]\n",
      " [-0.94366618  1.27668947 -1.19009845 -1.17753231]\n",
      " [ 0.29257773 -0.88719099  0.6676162   0.1148812 ]\n",
      " [ 0.53982651 -1.53635513  0.84177695  1.12009171]]\n",
      "(30, 4)\n",
      "120\n",
      "[-1.80903692 -1.53635513 -1.3642592  -1.32113381]\n",
      "[2.51781676 2.14224166 1.65452712 1.69449772]\n",
      "feature_names: ['sepal length (cm)', 'sepal width (cm)', 'petal length (cm)', 'petal width (cm)']\n"
     ]
    }
   ],
   "source": [
    "from sklearn.preprocessing import StandardScaler\n",
    "sc = StandardScaler()\n",
    "#sc.fit(x_train)\n",
    "x_train_std = sc.fit_transform(x_train[100:150])\n",
    "print(x_train_std)\n",
    "print(x_train_std.shape)\n",
    "print(x_train_std.size)\n",
    "a=x_train_std\n",
    "print(np.amin(a,0))\n",
    "print(np.amax(a,0))\n",
    "print(\"feature_names:\",feature)\n",
    "x_test_std = sc.fit_transform(x_test[0:30])\n",
    "print(x_test_std)\n",
    "print(x_test_std.shape)\n",
    "print(x_test_std.size)\n",
    "a=x_test_std\n",
    "print(np.amin(a,0))\n",
    "print(np.amax(a,0))\n",
    "print(\"feature_names:\",feature)"
   ]
  },
  {
   "cell_type": "markdown",
   "id": "7102a5f1",
   "metadata": {},
   "source": [
    "# Below is the Implementation of iris with scaled data by LogisticRegression"
   ]
  },
  {
   "cell_type": "code",
   "execution_count": 35,
   "id": "2cf639d3",
   "metadata": {},
   "outputs": [
    {
     "name": "stdout",
     "output_type": "stream",
     "text": [
      "[[ 0.31553662 -0.04578885  0.44767531  0.23380268]\n",
      " [ 2.2449325  -0.04578885  1.29769171  1.39742892]\n",
      " [-0.2873996  -1.24028061  0.05100098 -0.15407273]\n",
      " [ 0.67729835 -0.52358555  1.01435291  1.13884531]\n",
      " [-0.04622511 -0.52358555  0.73101411  1.52672073]\n",
      " [-0.64916132  1.62649961 -1.30902526 -1.31769898]\n",
      " [-0.40798684 -1.71807731  0.10766874  0.10451088]\n",
      " [-0.76974857  0.90980456 -1.36569302 -1.31769898]\n",
      " [ 0.79788559 -0.52358555  0.44767531  0.36309449]\n",
      " [ 1.03906007 -1.24028061  1.12768843  0.7509699 ]\n",
      " [ 1.15964732 -0.04578885  0.95768515  1.13884531]\n",
      " [-0.89033581  1.14870291 -1.36569302 -1.18840717]\n",
      " [ 0.19494938 -1.95697567  0.67434635  0.36309449]\n",
      " [ 0.5567111  -0.2846872   1.01435291  0.7509699 ]\n",
      " [ 0.91847283 -0.2846872   0.44767531  0.10451088]\n",
      " [ 2.2449325  -1.00138226  1.75103379  1.39742892]\n",
      " [-0.16681235  1.86539796 -1.19568974 -1.18840717]\n",
      " [-1.01092305  1.38760126 -1.36569302 -1.31769898]\n",
      " [-1.25209754 -0.04578885 -1.36569302 -1.18840717]\n",
      " [-0.76974857 -0.76248391  0.05100098  0.23380268]\n",
      " [-0.89033581  0.90980456 -1.30902526 -1.31769898]\n",
      " [-0.40798684  1.14870291 -1.42236078 -1.31769898]\n",
      " [ 2.2449325   1.86539796  1.63769827  1.26813712]\n",
      " [ 1.28023456  0.1931095   0.90101739  1.13884531]\n",
      " [ 1.76258353 -0.2846872   1.41102723  0.7509699 ]\n",
      " [ 0.67729835 -0.52358555  1.01435291  1.26813712]\n",
      " [ 0.43612386 -0.52358555  0.56101083  0.7509699 ]\n",
      " [ 0.19494938  0.90980456  0.39100755  0.49238629]\n",
      " [ 2.2449325  -0.52358555  1.63769827  1.00955351]\n",
      " [-0.16681235 -0.04578885  0.22100426 -0.02478093]\n",
      " [-1.25209754  0.90980456 -1.2523575  -1.31769898]\n",
      " [-0.16681235 -1.24028061  0.67434635  1.00955351]\n",
      " [ 0.5567111  -0.76248391  0.61767859  0.7509699 ]\n",
      " [-1.25209754 -0.04578885 -1.36569302 -1.44699078]\n",
      " [-1.37268478  0.43200785 -1.42236078 -1.31769898]\n",
      " [ 0.79788559 -0.04578885  1.12768843  1.26813712]\n",
      " [-1.49327202  0.90980456 -1.36569302 -1.18840717]\n",
      " [ 0.31553662 -0.04578885  0.61767859  0.7509699 ]\n",
      " [ 0.79788559  0.43200785  0.73101411  1.00955351]\n",
      " [ 1.03906007  0.1931095   0.33433978  0.23380268]\n",
      " [-0.16681235 -0.52358555  0.39100755  0.10451088]\n",
      " [ 1.03906007  0.6709062   1.07102067  1.65601253]\n",
      " [ 0.19494938 -0.04578885  0.56101083  0.7509699 ]\n",
      " [-0.89033581  1.86539796 -1.2523575  -1.31769898]\n",
      " [ 0.19494938 -1.95697567  0.10766874 -0.28336454]\n",
      " [ 0.67729835 -0.2846872   0.27767202  0.10451088]\n",
      " [ 0.79788559 -0.04578885  0.95768515  0.7509699 ]\n",
      " [-1.01092305 -1.71807731 -0.28900558 -0.28336454]\n",
      " [ 0.5567111   0.6709062   1.24102395  1.65601253]\n",
      " [-0.40798684 -1.24028061  0.10766874  0.10451088]\n",
      " [-0.52857408  1.62649961 -1.30902526 -1.31769898]\n",
      " [-1.13151029  0.1931095  -1.30902526 -1.31769898]\n",
      " [-0.76974857  2.58209302 -1.30902526 -1.44699078]\n",
      " [ 1.03906007  0.6709062   1.07102067  1.13884531]\n",
      " [-1.73444651 -0.04578885 -1.42236078 -1.31769898]\n",
      " [ 0.19494938 -0.76248391  0.73101411  0.49238629]\n",
      " [ 0.67729835 -0.76248391  0.84434963  0.8802617 ]\n",
      " [ 0.07436213 -0.04578885  0.73101411  0.7509699 ]\n",
      " [-0.76974857  1.14870291 -1.30902526 -1.31769898]\n",
      " [-0.89033581  0.6709062  -1.19568974 -0.92982356]\n",
      " [-0.04622511 -0.76248391  0.1643365  -0.28336454]\n",
      " [-1.13151029  0.1931095  -1.30902526 -1.44699078]\n",
      " [ 1.88317077 -0.52358555  1.29769171  0.8802617 ]\n",
      " [ 0.43612386 -0.2846872   0.27767202  0.10451088]\n",
      " [ 2.12434526 -0.04578885  1.58103051  1.13884531]\n",
      " [ 1.03906007 -0.04578885  0.78768187  1.39742892]\n",
      " [ 0.5567111  -1.71807731  0.33433978  0.10451088]\n",
      " [ 0.43612386  0.90980456  0.90101739  1.39742892]\n",
      " [ 1.64199629  1.38760126  1.29769171  1.65601253]\n",
      " [-0.2873996  -0.2846872  -0.1190023   0.10451088]\n",
      " [-0.16681235  3.29878808 -1.30902526 -1.05911537]\n",
      " [-0.04622511 -0.76248391  0.05100098 -0.02478093]\n",
      " [-1.61385927 -1.71807731 -1.42236078 -1.18840717]\n",
      " [-0.40798684 -1.47917896 -0.00566678 -0.15407273]\n",
      " [ 1.28023456  0.1931095   0.61767859  0.36309449]\n",
      " [-1.01092305  0.90980456 -1.2523575  -1.05911537]\n",
      " [ 1.15964732 -0.52358555  0.56101083  0.23380268]\n",
      " [-1.01092305  1.14870291 -1.2523575  -0.80053176]\n",
      " [-1.25209754  0.90980456 -1.08235422 -1.31769898]\n",
      " [ 0.5567111   0.90980456  1.01435291  1.52672073]\n",
      " [-0.2873996  -0.52358555  0.61767859  1.00955351]\n",
      " [ 1.15964732  0.43200785  1.18435619  1.39742892]\n",
      " [-1.01092305  0.6709062  -1.36569302 -1.31769898]\n",
      " [-0.89033581  1.62649961 -1.30902526 -1.05911537]\n",
      " [ 0.07436213  0.43200785  0.56101083  0.7509699 ]\n",
      " [-1.49327202  0.1931095  -1.30902526 -1.31769898]\n",
      " [-0.04622511 -0.76248391  0.73101411  0.8802617 ]\n",
      " [-1.25209754  0.1931095  -1.2523575  -1.31769898]\n",
      " [ 0.79788559 -0.04578885  0.78768187  1.00955351]\n",
      " [-1.13151029 -1.24028061  0.39100755  0.62167809]\n",
      " [-1.49327202  0.43200785 -1.36569302 -1.31769898]\n",
      " [ 0.67729835  0.43200785  0.84434963  1.39742892]\n",
      " [-1.85503375 -0.04578885 -1.5356963  -1.44699078]\n",
      " [-0.2873996  -0.04578885  0.1643365   0.10451088]\n",
      " [-1.73444651 -0.2846872  -1.36569302 -1.31769898]\n",
      " [-0.40798684 -1.47917896 -0.06233454 -0.28336454]\n",
      " [-1.01092305 -2.43477237 -0.17567006 -0.28336454]\n",
      " [-0.89033581  1.14870291 -1.36569302 -1.31769898]\n",
      " [-1.13151029 -0.04578885 -1.36569302 -1.31769898]\n",
      " [-1.13151029 -1.47917896 -0.28900558 -0.28336454]\n",
      " [-1.49327202  1.38760126 -1.59236406 -1.31769898]\n",
      " [ 0.07436213 -0.04578885  0.22100426  0.36309449]\n",
      " [ 0.31553662 -0.2846872   0.50434307  0.23380268]\n",
      " [-1.01092305  0.90980456 -1.30902526 -1.31769898]\n",
      " [ 1.03906007  0.1931095   0.50434307  0.36309449]\n",
      " [-0.16681235 -0.2846872   0.22100426  0.10451088]\n",
      " [ 0.43612386 -1.95697567  0.39100755  0.36309449]\n",
      " [ 1.4008218   0.43200785  0.50434307  0.23380268]\n",
      " [-0.04622511 -0.76248391  0.73101411  0.8802617 ]\n",
      " [-0.52857408  0.90980456 -1.19568974 -1.31769898]\n",
      " [-1.01092305 -0.04578885 -1.2523575  -1.31769898]\n",
      " [ 0.31553662 -1.00138226  1.01435291  0.23380268]\n",
      " [ 0.31553662 -0.52358555  0.10766874  0.10451088]\n",
      " [ 1.64199629 -0.04578885  1.12768843  0.49238629]\n",
      " [-0.16681235 -1.00138226 -0.17567006 -0.28336454]\n",
      " [ 0.5567111  -0.52358555  0.73101411  0.36309449]\n",
      " [ 0.67729835  0.1931095   0.95768515  0.7509699 ]\n",
      " [ 0.5567111  -1.24028061  0.61767859  0.36309449]\n",
      " [ 1.03906007  0.1931095   1.01435291  1.52672073]\n",
      " [-1.13151029  1.38760126 -1.36569302 -1.44699078]]\n",
      "(120, 4)\n",
      "scaling testing data\n",
      "[[-0.04622511  2.34319467 -1.47902854 -1.31769898]\n",
      " [-0.89033581 -1.24028061 -0.45900886 -0.15407273]\n",
      " [ 0.91847283 -0.04578885  0.33433978  0.23380268]\n",
      " [-0.52857408  2.10429632 -1.42236078 -1.05911537]\n",
      " [ 2.48610699  1.86539796  1.46769499  1.00955351]\n",
      " [ 0.5567111   0.6709062   0.50434307  0.49238629]\n",
      " [ 1.28023456  0.1931095   0.73101411  1.39742892]\n",
      " [-0.89033581  1.86539796 -1.08235422 -1.05911537]\n",
      " [-1.37268478  0.43200785 -1.2523575  -1.31769898]\n",
      " [ 1.28023456  0.43200785  1.07102067  1.39742892]\n",
      " [-0.2873996  -0.76248391  0.22100426  0.10451088]\n",
      " [-0.52857408  2.10429632 -1.19568974 -1.05911537]\n",
      " [ 1.52140905 -0.04578885  1.18435619  1.13884531]\n",
      " [ 0.67729835  0.43200785  0.39100755  0.36309449]\n",
      " [ 0.19494938 -0.2846872   0.39100755  0.36309449]\n",
      " [-1.73444651  0.43200785 -1.42236078 -1.31769898]\n",
      " [-0.04622511 -1.00138226  0.10766874 -0.02478093]\n",
      " [-0.2873996  -0.04578885  0.39100755  0.36309449]\n",
      " [-0.52857408  0.90980456 -1.30902526 -1.05911537]\n",
      " [-1.01092305  0.43200785 -1.47902854 -1.31769898]\n",
      " [-0.40798684 -1.00138226  0.33433978 -0.02478093]\n",
      " [-0.52857408 -0.04578885  0.39100755  0.36309449]\n",
      " [ 1.03906007 -0.04578885  0.67434635  0.62167809]\n",
      " [-1.01092305  1.14870291 -1.42236078 -1.18840717]\n",
      " [ 1.64199629  0.43200785  1.24102395  0.7509699 ]\n",
      " [-0.16681235 -0.52358555  0.1643365   0.10451088]\n",
      " [-0.40798684  2.82099137 -1.36569302 -1.31769898]\n",
      " [-0.89033581  1.86539796 -1.30902526 -1.18840717]\n",
      " [ 0.31553662 -0.52358555  0.50434307 -0.02478093]\n",
      " [ 0.5567111  -1.24028061  0.67434635  0.8802617 ]]\n",
      "(30, 4)\n"
     ]
    }
   ],
   "source": [
    "from sklearn.preprocessing import StandardScaler\n",
    "sc = StandardScaler()\n",
    "sc.fit(x_train)\n",
    "x_train_std = sc.transform(x_train)\n",
    "x_test_std = sc.transform(x_test)\n",
    "print(x_train_std)\n",
    "print(x_train_std.shape)\n",
    "print(\"scaling testing data\")\n",
    "print(x_test_std)\n",
    "print(x_test_std.shape)\n",
    "#a=x_train_std\n",
    "#print (np.amin(a,0))"
   ]
  },
  {
   "cell_type": "code",
   "execution_count": 36,
   "id": "9eb111f7",
   "metadata": {},
   "outputs": [
    {
     "name": "stdout",
     "output_type": "stream",
     "text": [
      "              precision    recall  f1-score   support\n",
      "\n",
      "           0       1.00      1.00      1.00        11\n",
      "           1       1.00      0.92      0.96        13\n",
      "           2       0.86      1.00      0.92         6\n",
      "\n",
      "    accuracy                           0.97        30\n",
      "   macro avg       0.95      0.97      0.96        30\n",
      "weighted avg       0.97      0.97      0.97        30\n",
      "\n",
      "[[11  0  0]\n",
      " [ 0 12  1]\n",
      " [ 0  0  6]]\n",
      "96.66666666666667\n",
      "predictions: ['setosa', 'virginica']\n"
     ]
    }
   ],
   "source": [
    "from sklearn.linear_model import LogisticRegression\n",
    "logmodel=LogisticRegression()\n",
    "logmodel.fit(x_train_std,y_train)\n",
    "y_pred=logmodel.predict(x_test_std)\n",
    "from sklearn.metrics import classification_report, confusion_matrix,accuracy_score\n",
    "print(classification_report(y_test,y_pred))\n",
    "print(confusion_matrix(y_test,y_pred))\n",
    "print(accuracy_score(y_test,y_pred)*100)\n",
    "samples=[[-0.89033581,1.28023456,-0.65456565 ,0.67434635],[1.30902526,0.50434307,1.31769898, 2.10429632]]\n",
    "new_pred=logmodel.predict(samples)\n",
    "species=[iris.target_names[n] for n in new_pred]\n",
    "print (\"predictions:\",species)"
   ]
  },
  {
   "cell_type": "markdown",
   "id": "b5fea19f",
   "metadata": {},
   "source": [
    "# iris dataset with knn algorithm"
   ]
  },
  {
   "cell_type": "code",
   "execution_count": 37,
   "id": "53eac068",
   "metadata": {},
   "outputs": [
    {
     "name": "stdout",
     "output_type": "stream",
     "text": [
      "              precision    recall  f1-score   support\n",
      "\n",
      "           0       1.00      1.00      1.00        11\n",
      "           1       1.00      1.00      1.00        13\n",
      "           2       1.00      1.00      1.00         6\n",
      "\n",
      "    accuracy                           1.00        30\n",
      "   macro avg       1.00      1.00      1.00        30\n",
      "weighted avg       1.00      1.00      1.00        30\n",
      "\n",
      "[[11  0  0]\n",
      " [ 0 13  0]\n",
      " [ 0  0  6]]\n",
      "1.0\n",
      "predictions: ['versicolor', 'virginica']\n"
     ]
    }
   ],
   "source": [
    "from sklearn.neighbors import KNeighborsClassifier\n",
    "knn=KNeighborsClassifier(n_neighbors=3)\n",
    "knn.fit(x_train_std, y_train)\n",
    "y_pred=knn.predict (x_test_std)\n",
    "from sklearn.metrics import classification_report, confusion_matrix,accuracy_score\n",
    "print(classification_report(y_test,y_pred))\n",
    "print(confusion_matrix(y_test,y_pred))\n",
    "print(accuracy_score(y_test,y_pred))\n",
    "samples=[[-0.89033581,1.28023456,-0.65456565 ,0.67434635],[1.30902526,0.50434307,1.31769898, 2.10429632]]\n",
    "new_pred=knn.predict(samples)\n",
    "species=[iris.target_names[n] for n in new_pred]\n",
    "print (\"predictions:\",species)"
   ]
  },
  {
   "cell_type": "markdown",
   "id": "38a6f459",
   "metadata": {},
   "source": [
    "# iris dataset with svm algorithm"
   ]
  },
  {
   "cell_type": "code",
   "execution_count": 38,
   "id": "b1088ecb",
   "metadata": {},
   "outputs": [
    {
     "name": "stdout",
     "output_type": "stream",
     "text": [
      "              precision    recall  f1-score   support\n",
      "\n",
      "           0       1.00      1.00      1.00        11\n",
      "           1       1.00      0.92      0.96        13\n",
      "           2       0.86      1.00      0.92         6\n",
      "\n",
      "    accuracy                           0.97        30\n",
      "   macro avg       0.95      0.97      0.96        30\n",
      "weighted avg       0.97      0.97      0.97        30\n",
      "\n",
      "[[11  0  0]\n",
      " [ 0 12  1]\n",
      " [ 0  0  6]]\n",
      "0.9666666666666667\n",
      "predictions: ['versicolor', 'virginica']\n"
     ]
    }
   ],
   "source": [
    "from sklearn.svm import SVC\n",
    "svm = SVC(kernel='rbf', random_state=0, gamma=.10, C=1.0)\n",
    "svm.fit(x_train_std, y_train)\n",
    "y_pred=svm.predict(x_test_std)\n",
    "from sklearn.metrics import classification_report, confusion_matrix,accuracy_score\n",
    "print(classification_report(y_test,y_pred))\n",
    "print(confusion_matrix(y_test,y_pred))\n",
    "print(accuracy_score(y_test,y_pred))\n",
    "samples=[[-0.89033581,1.28023456,-0.65456565 ,0.67434635],[1.30902526,0.50434307,1.31769898, 2.10429632]]\n",
    "new_pred=svm.predict(samples)\n",
    "species=[iris.target_names[n] for n in new_pred]\n",
    "print (\"predictions:\",species)"
   ]
  },
  {
   "cell_type": "markdown",
   "id": "7067964d",
   "metadata": {},
   "source": [
    "# iris data with Decision tree"
   ]
  },
  {
   "cell_type": "code",
   "execution_count": 39,
   "id": "ca484578",
   "metadata": {},
   "outputs": [
    {
     "name": "stdout",
     "output_type": "stream",
     "text": [
      "              precision    recall  f1-score   support\n",
      "\n",
      "           0       1.00      1.00      1.00        11\n",
      "           1       1.00      0.92      0.96        13\n",
      "           2       0.86      1.00      0.92         6\n",
      "\n",
      "    accuracy                           0.97        30\n",
      "   macro avg       0.95      0.97      0.96        30\n",
      "weighted avg       0.97      0.97      0.97        30\n",
      "\n",
      "[[11  0  0]\n",
      " [ 0 12  1]\n",
      " [ 0  0  6]]\n",
      "0.9666666666666667\n",
      "predictions: ['versicolor', 'virginica']\n"
     ]
    }
   ],
   "source": [
    "from sklearn.tree import DecisionTreeClassifier\n",
    "decision_tree = DecisionTreeClassifier(criterion='gini')\n",
    "decision_tree.fit(x_train_std, y_train)\n",
    "y_pred=decision_tree.predict(x_test_std)\n",
    "from sklearn.metrics import classification_report, confusion_matrix,accuracy_score\n",
    "print(classification_report(y_test,y_pred))\n",
    "print(confusion_matrix(y_test,y_pred))\n",
    "print(accuracy_score(y_test,y_pred))\n",
    "samples=[[-0.89033581,1.28023456,-0.65456565 ,0.67434635],[1.30902526,0.50434307,1.31769898, 2.10429632]]\n",
    "new_pred=decision_tree.predict(samples)\n",
    "species=[iris.target_names[n] for n in new_pred]\n",
    "print (\"predictions:\",species)"
   ]
  },
  {
   "cell_type": "markdown",
   "id": "69970dca",
   "metadata": {},
   "source": [
    "# iris data with gradient boosting"
   ]
  },
  {
   "cell_type": "code",
   "execution_count": 40,
   "id": "4294f3a8",
   "metadata": {},
   "outputs": [
    {
     "name": "stdout",
     "output_type": "stream",
     "text": [
      "[18:11:52] WARNING: ..\\src\\learner.cc:1115: Starting in XGBoost 1.3.0, the default evaluation metric used with the objective 'multi:softprob' was changed from 'merror' to 'mlogloss'. Explicitly set eval_metric if you'd like to restore the old behavior.\n",
      "              precision    recall  f1-score   support\n",
      "\n",
      "           0       1.00      1.00      1.00        11\n",
      "           1       1.00      0.92      0.96        13\n",
      "           2       0.86      1.00      0.92         6\n",
      "\n",
      "    accuracy                           0.97        30\n",
      "   macro avg       0.95      0.97      0.96        30\n",
      "weighted avg       0.97      0.97      0.97        30\n",
      "\n",
      "[[11  0  0]\n",
      " [ 0 12  1]\n",
      " [ 0  0  6]]\n",
      "0.9666666666666667\n",
      "predictions: ['virginica', 'virginica']\n"
     ]
    }
   ],
   "source": [
    "import xgboost as xgb\n",
    "xgb_clf = xgb.XGBClassifier(use_label_encoder=False)\n",
    "xgb_clf = xgb_clf.fit(x_train_std, y_train)\n",
    "y_pred=xgb_clf.predict(x_test_std)\n",
    "from sklearn.metrics import classification_report, confusion_matrix,accuracy_score\n",
    "print(classification_report(y_test,y_pred))\n",
    "print(confusion_matrix(y_test,y_pred))\n",
    "print(accuracy_score(y_test,y_pred))\n",
    "samples=[[-0.89033581,1.28023456,-0.65456565 ,0.67434635],[1.30902526,0.50434307,1.31769898, 2.10429632]]\n",
    "new_pred=xgb_clf.predict(samples)\n",
    "species=[iris.target_names[n] for n in new_pred]\n",
    "print (\"predictions:\",species)"
   ]
  },
  {
   "cell_type": "markdown",
   "id": "cb6d0fcf",
   "metadata": {},
   "source": [
    "# iris data with Decision tree"
   ]
  },
  {
   "cell_type": "code",
   "execution_count": 41,
   "id": "47216b56",
   "metadata": {},
   "outputs": [
    {
     "name": "stdout",
     "output_type": "stream",
     "text": [
      "              precision    recall  f1-score   support\n",
      "\n",
      "           0       1.00      1.00      1.00        11\n",
      "           1       1.00      0.92      0.96        13\n",
      "           2       0.86      1.00      0.92         6\n",
      "\n",
      "    accuracy                           0.97        30\n",
      "   macro avg       0.95      0.97      0.96        30\n",
      "weighted avg       0.97      0.97      0.97        30\n",
      "\n",
      "[[11  0  0]\n",
      " [ 0 12  1]\n",
      " [ 0  0  6]]\n",
      "0.9666666666666667\n",
      "predictions: ['virginica', 'virginica']\n"
     ]
    }
   ],
   "source": [
    "from sklearn.naive_bayes import GaussianNB\n",
    "GNB = GaussianNB()\n",
    "GNB.fit(x_train_std, y_train)\n",
    "y_pred=GNB.predict(x_test_std)\n",
    "from sklearn.metrics import classification_report, confusion_matrix,accuracy_score\n",
    "print(classification_report(y_test,y_pred))\n",
    "print(confusion_matrix(y_test,y_pred))\n",
    "print(accuracy_score(y_test,y_pred))\n",
    "samples=[[1,9,6,4],[5,4,1,0]]\n",
    "new_pred=GNB.predict(samples)\n",
    "species=[iris.target_names[n] for n in new_pred]\n",
    "print (\"predictions:\",species)"
   ]
  }
 ],
 "metadata": {
  "kernelspec": {
   "display_name": "Python 3 (ipykernel)",
   "language": "python",
   "name": "python3"
  },
  "language_info": {
   "codemirror_mode": {
    "name": "ipython",
    "version": 3
   },
   "file_extension": ".py",
   "mimetype": "text/x-python",
   "name": "python",
   "nbconvert_exporter": "python",
   "pygments_lexer": "ipython3",
   "version": "3.9.7"
  }
 },
 "nbformat": 4,
 "nbformat_minor": 5
}
