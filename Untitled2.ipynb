{
 "cells": [
  {
   "cell_type": "code",
   "execution_count": 26,
   "id": "fbc8126e",
   "metadata": {},
   "outputs": [
    {
     "name": "stdout",
     "output_type": "stream",
     "text": [
      "{674824, 12812, 140301, 949775, 514577, 280597, 87065, 670237, 870947, 815147, 641068, 377906, 19513, 295482, 180802, 594502, 480843, 284754, 901715, 321109, 560728, 166008, 476802, 928901, 73364, 109717, 857766, 513712, 365233, 955063, 295610, 66237, 227007, 536264, 680649, 512715, 442586, 785114, 457949, 710366, 746733, 182003, 600826, 15613, 700669, 178434, 993545, 484118, 240413, 757022, 67362, 929065, 568122, 225088, 478535, 175945, 730442, 692043, 923982, 360272, 302930, 80213, 911703, 212826, 310620, 228700, 199531, 221549, 524656, 474484, 768895, 718211, 906628, 185224, 712601, 567197, 353700, 510893, 445874, 316339, 201653, 643523, 270276, 269783, 565728, 632802, 368615, 562669, 501744, 901116, 449021}\n"
     ]
    }
   ],
   "source": [
    "import random\n",
    "import numpy as np\n",
    "list_1 = random.sample(range(0,1000000), 10000)\n",
    "list_2 = random.sample(range(0,1000000), 10000)\n",
    "#print(list_1[:5], list_2[:5])\n",
    "def common_member(list_1, list_2):\n",
    "    a_set = set(list_1)\n",
    "    b_set = set(list_2)\n",
    "    if (a_set & b_set):\n",
    "        print(a_set & b_set)\n",
    "    else:\n",
    "        print(\"No common elements\")\n",
    "common_member(list_1, list_2)"
   ]
  },
  {
   "cell_type": "code",
   "execution_count": 27,
   "id": "9b604b58",
   "metadata": {},
   "outputs": [
    {
     "name": "stdout",
     "output_type": "stream",
     "text": [
      "[524656, 87065, 929065, 718211, 225088, 928901, 513712, 442586, 457949, 310620, 182003, 66237, 670237, 710366, 565728, 923982, 594502, 536264, 201653, 377906, 632802, 712601, 270276, 857766, 474484, 600826, 280597, 269783, 562669, 185224, 140301, 785114, 353700, 567197, 284754, 67362, 15613, 746733, 478535, 643523, 445874, 906628, 228700, 757022, 692043, 368615, 178434, 641068, 12812, 295482, 80213, 901715, 321109, 484118, 199531, 568122, 449021, 109717, 514577, 175945, 512715, 240413, 19513, 870947, 302930, 227007, 955063, 674824, 700669, 480843, 221549, 901116, 365233, 501744, 680649, 510893, 73364, 949775, 360272, 212826, 560728, 180802, 730442, 476802, 993545, 768895, 316339, 166008, 815147, 295610, 911703]\n"
     ]
    }
   ],
   "source": [
    "def common(list_1,list_2): \n",
    "    c = [value for value in list_1 if value in list_2] \n",
    "    return c\n",
    "d=common(list_1,list_2)\n",
    "print(d)"
   ]
  },
  {
   "cell_type": "code",
   "execution_count": 30,
   "id": "9ef1587d",
   "metadata": {},
   "outputs": [
    {
     "name": "stdout",
     "output_type": "stream",
     "text": [
      "Original String :  The quick Brown Fox\n",
      "No. of Upper case characters :  3\n",
      "No. of Lower case Characters :  13\n"
     ]
    }
   ],
   "source": [
    "def string_test(s):\n",
    "    d={\"UPPER_CASE\":0, \"LOWER_CASE\":0}\n",
    "    for c in s:\n",
    "        if c.isupper():\n",
    "           d[\"UPPER_CASE\"]+=1\n",
    "        elif c.islower():\n",
    "           d[\"LOWER_CASE\"]+=1\n",
    "        else:\n",
    "           pass\n",
    "    print (\"Original String : \", s)\n",
    "    print (\"No. of Upper case characters : \", d[\"UPPER_CASE\"])\n",
    "    print (\"No. of Lower case Characters : \", d[\"LOWER_CASE\"])\n",
    "\n",
    "string_test('The quick Brown Fox')"
   ]
  },
  {
   "cell_type": "code",
   "execution_count": 32,
   "id": "d35c2f5d",
   "metadata": {},
   "outputs": [],
   "source": [
    "sent_1 = \"My name Is Soumadiptya Chakraborty. I live in Kolkata\"\n",
    "sent_2 = \"your name is Rajesh Chakraborty, you live in Bangalore.\"\n",
    "\n",
    "##max_value=[]\n",
    "import nltk\n",
    "import re\n",
    "for i in range(0,len(sent_1)):\n",
    "    \n",
    "    def similarity(sent_1,sent_2):\n",
    "        sent_1=sent_1.lower()\n",
    "        sent_2=sent_2.lower()\n",
    "        cleansent_1 = re.sub('\\W+',' ', sent_1)\n",
    "        cleanSent_2 = re.sub('\\W+',' ', sent_2)\n",
    "        s1=set(sent_1)\n",
    "        s2=set(sent_2)\n",
    "        return float(len(s1.intersection(s2))/len(s1.union(s2)))\n",
    "result=similarity(\"My name Is Soumadiptya Chakraborty. I live in Kolkata\",\"your name is Rajesh Chakraborty, you live in Bangalore.\")\n",
    "    "
   ]
  },
  {
   "cell_type": "code",
   "execution_count": 64,
   "id": "6e808e63",
   "metadata": {},
   "outputs": [
    {
     "name": "stdout",
     "output_type": "stream",
     "text": [
      "matrix1= [[0.32342782 0.6580501  0.30627594]\n",
      " [0.20142699 0.55875465 0.61522029]\n",
      " [0.43211652 0.60661054 0.11034314]\n",
      " [0.01217473 0.5575344  0.94852931]]\n",
      "matrix2= [[0.34608395 0.97069248 0.65484721 0.47353708]\n",
      " [0.28125816 0.09729946 0.1015877  0.37421931]\n",
      " [0.26530376 0.65661454 0.48348973 0.15368137]]\n",
      "[[0.3782713  0.5790821  0.42672687 0.44647903]\n",
      " [0.39008521 0.65385278 0.48611919 0.39902783]\n",
      " [0.34943721 0.55092805 0.39794424 0.44858626]\n",
      " [0.41267297 0.68888385 0.5232154  0.36017661]]\n"
     ]
    }
   ],
   "source": [
    "import numpy as np\n",
    "import numpy.matlib\n",
    "i=np.matlib.rand(4,3)\n",
    "matrix1=i\n",
    "print(\"matrix1=\", matrix1)\n",
    "j=np.matlib.rand(3,4)\n",
    "matrix2=j\n",
    "print (\"matrix2=\", matrix2)\n",
    "k=np.matmul(i,j)\n",
    "print(k)"
   ]
  },
  {
   "cell_type": "code",
   "execution_count": 65,
   "id": "4181f63c",
   "metadata": {},
   "outputs": [
    {
     "name": "stdout",
     "output_type": "stream",
     "text": [
      "matrix1= [[0.36769474 0.84064666 0.8313835 ]\n",
      " [0.7537396  0.59782368 0.19029382]\n",
      " [0.56284838 0.17765568 0.06672316]\n",
      " [0.09790489 0.92147104 0.68073568]]\n",
      "matrix2= [[8.76021495e-01 3.98519012e-01 7.42083624e-02 1.20877349e-01]\n",
      " [4.63187193e-01 4.00822827e-02 3.34494859e-01 6.04112374e-01]\n",
      " [4.61784686e-01 5.85964343e-05 1.97102048e-01 1.17946429e-01]]\n"
     ]
    },
    {
     "ename": "TypeError",
     "evalue": "'float' object is not subscriptable",
     "output_type": "error",
     "traceback": [
      "\u001b[1;31m---------------------------------------------------------------------------\u001b[0m",
      "\u001b[1;31mTypeError\u001b[0m                                 Traceback (most recent call last)",
      "\u001b[1;32mC:\\Users\\SHALIN~1\\AppData\\Local\\Temp/ipykernel_7876/1308107872.py\u001b[0m in \u001b[0;36m<module>\u001b[1;34m\u001b[0m\n\u001b[0;32m     12\u001b[0m        \u001b[1;31m# iterate through rows of Y\u001b[0m\u001b[1;33m\u001b[0m\u001b[1;33m\u001b[0m\u001b[0m\n\u001b[0;32m     13\u001b[0m        \u001b[1;32mfor\u001b[0m \u001b[0mc\u001b[0m \u001b[1;32min\u001b[0m \u001b[0mrange\u001b[0m\u001b[1;33m(\u001b[0m\u001b[0mlen\u001b[0m\u001b[1;33m(\u001b[0m\u001b[0mj\u001b[0m\u001b[1;33m)\u001b[0m\u001b[1;33m)\u001b[0m\u001b[1;33m:\u001b[0m\u001b[1;33m\u001b[0m\u001b[1;33m\u001b[0m\u001b[0m\n\u001b[1;32m---> 14\u001b[1;33m            \u001b[0mresult\u001b[0m\u001b[1;33m[\u001b[0m\u001b[0ma\u001b[0m\u001b[1;33m]\u001b[0m\u001b[1;33m[\u001b[0m\u001b[0mb\u001b[0m\u001b[1;33m]\u001b[0m \u001b[1;33m+=\u001b[0m \u001b[0mi\u001b[0m\u001b[1;33m[\u001b[0m\u001b[0ma\u001b[0m\u001b[1;33m]\u001b[0m\u001b[1;33m[\u001b[0m\u001b[0mc\u001b[0m\u001b[1;33m]\u001b[0m \u001b[1;33m*\u001b[0m \u001b[0mj\u001b[0m\u001b[1;33m[\u001b[0m\u001b[0mc\u001b[0m\u001b[1;33m]\u001b[0m\u001b[1;33m[\u001b[0m\u001b[0mb\u001b[0m\u001b[1;33m]\u001b[0m\u001b[1;33m\u001b[0m\u001b[1;33m\u001b[0m\u001b[0m\n\u001b[0m\u001b[0;32m     15\u001b[0m \u001b[1;33m\u001b[0m\u001b[0m\n\u001b[0;32m     16\u001b[0m \u001b[1;32mfor\u001b[0m \u001b[0mr\u001b[0m \u001b[1;32min\u001b[0m \u001b[0mresult\u001b[0m\u001b[1;33m:\u001b[0m\u001b[1;33m\u001b[0m\u001b[1;33m\u001b[0m\u001b[0m\n",
      "\u001b[1;31mTypeError\u001b[0m: 'float' object is not subscriptable"
     ]
    }
   ],
   "source": [
    "import numpy as np\n",
    "import numpy.matlib\n",
    "i=np.matlib.rand(4,3)\n",
    "matrix1=i\n",
    "print(\"matrix1=\", matrix1)\n",
    "j=np.matlib.rand(3,4)\n",
    "matrix2=j\n",
    "print (\"matrix2=\", matrix2)\n",
    "for a in range(len(i)):\n",
    "   # iterate through columns of Y\n",
    "   for b in range(len(j[0])):\n",
    "       # iterate through rows of Y\n",
    "       for c in range(len(j)):\n",
    "           result[a][b] += i[a][c] * j[c][b]\n",
    "\n",
    "for r in result:\n",
    "   print(r)"
   ]
  }
 ],
 "metadata": {
  "kernelspec": {
   "display_name": "Python 3 (ipykernel)",
   "language": "python",
   "name": "python3"
  },
  "language_info": {
   "codemirror_mode": {
    "name": "ipython",
    "version": 3
   },
   "file_extension": ".py",
   "mimetype": "text/x-python",
   "name": "python",
   "nbconvert_exporter": "python",
   "pygments_lexer": "ipython3",
   "version": "3.9.7"
  }
 },
 "nbformat": 4,
 "nbformat_minor": 5
}
