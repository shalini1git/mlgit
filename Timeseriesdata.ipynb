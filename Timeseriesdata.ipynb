{
 "cells": [
  {
   "cell_type": "code",
   "execution_count": 118,
   "id": "1910aa93",
   "metadata": {},
   "outputs": [
    {
     "name": "stdout",
     "output_type": "stream",
     "text": [
      "         Date   close     volume    open      high     low\n",
      "0  05/16/2022  145.54   86643780  145.55  147.5199  144.18\n",
      "1  05/13/2022  147.11  113990900  144.59  148.1050  143.11\n",
      "2  05-12-2022  142.56  182602000  142.77  146.2000  138.80\n",
      "3  05-11-2022  146.50  142689800  153.50  155.4500  145.81\n",
      "4  05-10-2022  154.51  115366700  155.52  156.7400  152.93\n",
      "(253, 6)\n",
      "<class 'pandas.core.frame.DataFrame'>\n",
      "RangeIndex: 253 entries, 0 to 252\n",
      "Data columns (total 6 columns):\n",
      " #   Column  Non-Null Count  Dtype  \n",
      "---  ------  --------------  -----  \n",
      " 0   Date    253 non-null    object \n",
      " 1   close   253 non-null    float64\n",
      " 2   volume  253 non-null    int64  \n",
      " 3   open    253 non-null    float64\n",
      " 4   high    253 non-null    float64\n",
      " 5   low     253 non-null    float64\n",
      "dtypes: float64(4), int64(1), object(1)\n",
      "memory usage: 12.0+ KB\n",
      "None\n",
      "            close        volume        open        high         low\n",
      "count  253.000000  2.530000e+02  253.000000  253.000000  253.000000\n",
      "mean   154.558775  8.766663e+07  154.414111  156.195760  152.792330\n",
      "std     14.902882  2.651715e+07   14.953647   15.287245   14.524729\n",
      "min    123.540000  4.099995e+07  123.160000  124.850000  122.860000\n",
      "25%    145.640000  6.902394e+07  144.810000  146.720000  144.000000\n",
      "50%    152.060000  8.277267e+07  151.890000  154.630000  150.380000\n",
      "75%    166.560000  1.005894e+08  167.480000  169.680000  165.500000\n",
      "max    182.010000  1.959234e+08  182.630000  182.940000  179.120000\n"
     ]
    }
   ],
   "source": [
    "import pandas as pd\n",
    "df=pd.read_csv(\"HistoricalData_1652777280909.csv\")\n",
    "print(df.head())\n",
    "print(df.shape)\n",
    "print(df.info())\n",
    "print(df.describe())"
   ]
  },
  {
   "cell_type": "code",
   "execution_count": 119,
   "id": "21181fc9",
   "metadata": {},
   "outputs": [
    {
     "data": {
      "text/plain": [
       "str"
      ]
     },
     "execution_count": 119,
     "metadata": {},
     "output_type": "execute_result"
    }
   ],
   "source": [
    "type(df.Date[0])"
   ]
  },
  {
   "cell_type": "markdown",
   "id": "007ea2fe",
   "metadata": {},
   "source": [
    "# The 'Date' column is of type string. To change its type to date we use parse_dates."
   ]
  },
  {
   "cell_type": "code",
   "execution_count": 120,
   "id": "2dc3134c",
   "metadata": {},
   "outputs": [
    {
     "data": {
      "text/html": [
       "<div>\n",
       "<style scoped>\n",
       "    .dataframe tbody tr th:only-of-type {\n",
       "        vertical-align: middle;\n",
       "    }\n",
       "\n",
       "    .dataframe tbody tr th {\n",
       "        vertical-align: top;\n",
       "    }\n",
       "\n",
       "    .dataframe thead th {\n",
       "        text-align: right;\n",
       "    }\n",
       "</style>\n",
       "<table border=\"1\" class=\"dataframe\">\n",
       "  <thead>\n",
       "    <tr style=\"text-align: right;\">\n",
       "      <th></th>\n",
       "      <th>Date</th>\n",
       "      <th>close</th>\n",
       "      <th>volume</th>\n",
       "      <th>open</th>\n",
       "      <th>high</th>\n",
       "      <th>low</th>\n",
       "    </tr>\n",
       "  </thead>\n",
       "  <tbody>\n",
       "    <tr>\n",
       "      <th>0</th>\n",
       "      <td>2022-05-16</td>\n",
       "      <td>145.54</td>\n",
       "      <td>86643780</td>\n",
       "      <td>145.55</td>\n",
       "      <td>147.5199</td>\n",
       "      <td>144.18</td>\n",
       "    </tr>\n",
       "    <tr>\n",
       "      <th>1</th>\n",
       "      <td>2022-05-13</td>\n",
       "      <td>147.11</td>\n",
       "      <td>113990900</td>\n",
       "      <td>144.59</td>\n",
       "      <td>148.1050</td>\n",
       "      <td>143.11</td>\n",
       "    </tr>\n",
       "    <tr>\n",
       "      <th>2</th>\n",
       "      <td>2022-05-12</td>\n",
       "      <td>142.56</td>\n",
       "      <td>182602000</td>\n",
       "      <td>142.77</td>\n",
       "      <td>146.2000</td>\n",
       "      <td>138.80</td>\n",
       "    </tr>\n",
       "    <tr>\n",
       "      <th>3</th>\n",
       "      <td>2022-05-11</td>\n",
       "      <td>146.50</td>\n",
       "      <td>142689800</td>\n",
       "      <td>153.50</td>\n",
       "      <td>155.4500</td>\n",
       "      <td>145.81</td>\n",
       "    </tr>\n",
       "    <tr>\n",
       "      <th>4</th>\n",
       "      <td>2022-05-10</td>\n",
       "      <td>154.51</td>\n",
       "      <td>115366700</td>\n",
       "      <td>155.52</td>\n",
       "      <td>156.7400</td>\n",
       "      <td>152.93</td>\n",
       "    </tr>\n",
       "  </tbody>\n",
       "</table>\n",
       "</div>"
      ],
      "text/plain": [
       "        Date   close     volume    open      high     low\n",
       "0 2022-05-16  145.54   86643780  145.55  147.5199  144.18\n",
       "1 2022-05-13  147.11  113990900  144.59  148.1050  143.11\n",
       "2 2022-05-12  142.56  182602000  142.77  146.2000  138.80\n",
       "3 2022-05-11  146.50  142689800  153.50  155.4500  145.81\n",
       "4 2022-05-10  154.51  115366700  155.52  156.7400  152.93"
      ]
     },
     "execution_count": 120,
     "metadata": {},
     "output_type": "execute_result"
    }
   ],
   "source": [
    "df=pd.read_csv(\"HistoricalData_1652777280909.csv\",parse_dates=['Date'])\n",
    "df.head()"
   ]
  },
  {
   "cell_type": "code",
   "execution_count": 121,
   "id": "ddb61670",
   "metadata": {},
   "outputs": [
    {
     "data": {
      "text/plain": [
       "pandas._libs.tslibs.timestamps.Timestamp"
      ]
     },
     "execution_count": 121,
     "metadata": {},
     "output_type": "execute_result"
    }
   ],
   "source": [
    "type(df.Date[0])"
   ]
  },
  {
   "cell_type": "code",
   "execution_count": 122,
   "id": "38bcfc15",
   "metadata": {},
   "outputs": [
    {
     "data": {
      "text/html": [
       "<div>\n",
       "<style scoped>\n",
       "    .dataframe tbody tr th:only-of-type {\n",
       "        vertical-align: middle;\n",
       "    }\n",
       "\n",
       "    .dataframe tbody tr th {\n",
       "        vertical-align: top;\n",
       "    }\n",
       "\n",
       "    .dataframe thead th {\n",
       "        text-align: right;\n",
       "    }\n",
       "</style>\n",
       "<table border=\"1\" class=\"dataframe\">\n",
       "  <thead>\n",
       "    <tr style=\"text-align: right;\">\n",
       "      <th></th>\n",
       "      <th>close</th>\n",
       "      <th>volume</th>\n",
       "      <th>open</th>\n",
       "      <th>high</th>\n",
       "      <th>low</th>\n",
       "    </tr>\n",
       "    <tr>\n",
       "      <th>Date</th>\n",
       "      <th></th>\n",
       "      <th></th>\n",
       "      <th></th>\n",
       "      <th></th>\n",
       "      <th></th>\n",
       "    </tr>\n",
       "  </thead>\n",
       "  <tbody>\n",
       "    <tr>\n",
       "      <th>2022-05-16</th>\n",
       "      <td>145.54</td>\n",
       "      <td>86643780</td>\n",
       "      <td>145.55</td>\n",
       "      <td>147.5199</td>\n",
       "      <td>144.18</td>\n",
       "    </tr>\n",
       "    <tr>\n",
       "      <th>2022-05-13</th>\n",
       "      <td>147.11</td>\n",
       "      <td>113990900</td>\n",
       "      <td>144.59</td>\n",
       "      <td>148.1050</td>\n",
       "      <td>143.11</td>\n",
       "    </tr>\n",
       "    <tr>\n",
       "      <th>2022-05-12</th>\n",
       "      <td>142.56</td>\n",
       "      <td>182602000</td>\n",
       "      <td>142.77</td>\n",
       "      <td>146.2000</td>\n",
       "      <td>138.80</td>\n",
       "    </tr>\n",
       "    <tr>\n",
       "      <th>2022-05-11</th>\n",
       "      <td>146.50</td>\n",
       "      <td>142689800</td>\n",
       "      <td>153.50</td>\n",
       "      <td>155.4500</td>\n",
       "      <td>145.81</td>\n",
       "    </tr>\n",
       "    <tr>\n",
       "      <th>2022-05-10</th>\n",
       "      <td>154.51</td>\n",
       "      <td>115366700</td>\n",
       "      <td>155.52</td>\n",
       "      <td>156.7400</td>\n",
       "      <td>152.93</td>\n",
       "    </tr>\n",
       "  </tbody>\n",
       "</table>\n",
       "</div>"
      ],
      "text/plain": [
       "             close     volume    open      high     low\n",
       "Date                                                   \n",
       "2022-05-16  145.54   86643780  145.55  147.5199  144.18\n",
       "2022-05-13  147.11  113990900  144.59  148.1050  143.11\n",
       "2022-05-12  142.56  182602000  142.77  146.2000  138.80\n",
       "2022-05-11  146.50  142689800  153.50  155.4500  145.81\n",
       "2022-05-10  154.51  115366700  155.52  156.7400  152.93"
      ]
     },
     "execution_count": 122,
     "metadata": {},
     "output_type": "execute_result"
    }
   ],
   "source": [
    "df=pd.read_csv(\"HistoricalData_1652777280909.csv\",parse_dates=['Date'],index_col=[\"Date\"])\n",
    "df.head()"
   ]
  },
  {
   "cell_type": "code",
   "execution_count": 123,
   "id": "94ad7fb4",
   "metadata": {},
   "outputs": [
    {
     "data": {
      "text/plain": [
       "DatetimeIndex(['2022-05-16', '2022-05-13', '2022-05-12', '2022-05-11',\n",
       "               '2022-05-10', '2022-05-09', '2022-05-06', '2022-05-05',\n",
       "               '2022-05-04', '2022-05-03',\n",
       "               ...\n",
       "               '2021-05-28', '2021-05-27', '2021-05-26', '2021-05-25',\n",
       "               '2021-05-24', '2021-05-21', '2021-05-20', '2021-05-19',\n",
       "               '2021-05-18', '2021-05-17'],\n",
       "              dtype='datetime64[ns]', name='Date', length=253, freq=None)"
      ]
     },
     "execution_count": 123,
     "metadata": {},
     "output_type": "execute_result"
    }
   ],
   "source": [
    "df.index"
   ]
  },
  {
   "cell_type": "code",
   "execution_count": 124,
   "id": "902c674e",
   "metadata": {},
   "outputs": [
    {
     "name": "stderr",
     "output_type": "stream",
     "text": [
      "C:\\Users\\SHALIN~1\\AppData\\Local\\Temp/ipykernel_804/2716185654.py:1: FutureWarning: Indexing a DataFrame with a datetimelike index using a single string to slice the rows, like `frame[string]`, is deprecated and will be removed in a future version. Use `frame.loc[string]` instead.\n",
      "  df[\"2022-05\"]\n"
     ]
    },
    {
     "data": {
      "text/html": [
       "<div>\n",
       "<style scoped>\n",
       "    .dataframe tbody tr th:only-of-type {\n",
       "        vertical-align: middle;\n",
       "    }\n",
       "\n",
       "    .dataframe tbody tr th {\n",
       "        vertical-align: top;\n",
       "    }\n",
       "\n",
       "    .dataframe thead th {\n",
       "        text-align: right;\n",
       "    }\n",
       "</style>\n",
       "<table border=\"1\" class=\"dataframe\">\n",
       "  <thead>\n",
       "    <tr style=\"text-align: right;\">\n",
       "      <th></th>\n",
       "      <th>close</th>\n",
       "      <th>volume</th>\n",
       "      <th>open</th>\n",
       "      <th>high</th>\n",
       "      <th>low</th>\n",
       "    </tr>\n",
       "    <tr>\n",
       "      <th>Date</th>\n",
       "      <th></th>\n",
       "      <th></th>\n",
       "      <th></th>\n",
       "      <th></th>\n",
       "      <th></th>\n",
       "    </tr>\n",
       "  </thead>\n",
       "  <tbody>\n",
       "    <tr>\n",
       "      <th>2022-05-16</th>\n",
       "      <td>145.54</td>\n",
       "      <td>86643780</td>\n",
       "      <td>145.550</td>\n",
       "      <td>147.5199</td>\n",
       "      <td>144.18</td>\n",
       "    </tr>\n",
       "    <tr>\n",
       "      <th>2022-05-13</th>\n",
       "      <td>147.11</td>\n",
       "      <td>113990900</td>\n",
       "      <td>144.590</td>\n",
       "      <td>148.1050</td>\n",
       "      <td>143.11</td>\n",
       "    </tr>\n",
       "    <tr>\n",
       "      <th>2022-05-12</th>\n",
       "      <td>142.56</td>\n",
       "      <td>182602000</td>\n",
       "      <td>142.770</td>\n",
       "      <td>146.2000</td>\n",
       "      <td>138.80</td>\n",
       "    </tr>\n",
       "    <tr>\n",
       "      <th>2022-05-11</th>\n",
       "      <td>146.50</td>\n",
       "      <td>142689800</td>\n",
       "      <td>153.500</td>\n",
       "      <td>155.4500</td>\n",
       "      <td>145.81</td>\n",
       "    </tr>\n",
       "    <tr>\n",
       "      <th>2022-05-10</th>\n",
       "      <td>154.51</td>\n",
       "      <td>115366700</td>\n",
       "      <td>155.520</td>\n",
       "      <td>156.7400</td>\n",
       "      <td>152.93</td>\n",
       "    </tr>\n",
       "    <tr>\n",
       "      <th>2022-05-09</th>\n",
       "      <td>152.06</td>\n",
       "      <td>131577900</td>\n",
       "      <td>154.925</td>\n",
       "      <td>155.8300</td>\n",
       "      <td>151.49</td>\n",
       "    </tr>\n",
       "    <tr>\n",
       "      <th>2022-05-06</th>\n",
       "      <td>157.28</td>\n",
       "      <td>116124600</td>\n",
       "      <td>156.010</td>\n",
       "      <td>159.4400</td>\n",
       "      <td>154.18</td>\n",
       "    </tr>\n",
       "    <tr>\n",
       "      <th>2022-05-05</th>\n",
       "      <td>156.77</td>\n",
       "      <td>130525300</td>\n",
       "      <td>163.850</td>\n",
       "      <td>164.0800</td>\n",
       "      <td>154.95</td>\n",
       "    </tr>\n",
       "    <tr>\n",
       "      <th>2022-05-04</th>\n",
       "      <td>166.02</td>\n",
       "      <td>108256500</td>\n",
       "      <td>159.670</td>\n",
       "      <td>166.4800</td>\n",
       "      <td>159.26</td>\n",
       "    </tr>\n",
       "    <tr>\n",
       "      <th>2022-05-03</th>\n",
       "      <td>159.48</td>\n",
       "      <td>88966530</td>\n",
       "      <td>158.150</td>\n",
       "      <td>160.7100</td>\n",
       "      <td>156.32</td>\n",
       "    </tr>\n",
       "    <tr>\n",
       "      <th>2022-05-02</th>\n",
       "      <td>157.96</td>\n",
       "      <td>123055300</td>\n",
       "      <td>156.710</td>\n",
       "      <td>158.2300</td>\n",
       "      <td>153.27</td>\n",
       "    </tr>\n",
       "  </tbody>\n",
       "</table>\n",
       "</div>"
      ],
      "text/plain": [
       "             close     volume     open      high     low\n",
       "Date                                                    \n",
       "2022-05-16  145.54   86643780  145.550  147.5199  144.18\n",
       "2022-05-13  147.11  113990900  144.590  148.1050  143.11\n",
       "2022-05-12  142.56  182602000  142.770  146.2000  138.80\n",
       "2022-05-11  146.50  142689800  153.500  155.4500  145.81\n",
       "2022-05-10  154.51  115366700  155.520  156.7400  152.93\n",
       "2022-05-09  152.06  131577900  154.925  155.8300  151.49\n",
       "2022-05-06  157.28  116124600  156.010  159.4400  154.18\n",
       "2022-05-05  156.77  130525300  163.850  164.0800  154.95\n",
       "2022-05-04  166.02  108256500  159.670  166.4800  159.26\n",
       "2022-05-03  159.48   88966530  158.150  160.7100  156.32\n",
       "2022-05-02  157.96  123055300  156.710  158.2300  153.27"
      ]
     },
     "execution_count": 124,
     "metadata": {},
     "output_type": "execute_result"
    }
   ],
   "source": [
    "df[\"2022-05\"]"
   ]
  },
  {
   "cell_type": "code",
   "execution_count": 125,
   "id": "39b1ddf1",
   "metadata": {},
   "outputs": [
    {
     "data": {
      "text/html": [
       "<div>\n",
       "<style scoped>\n",
       "    .dataframe tbody tr th:only-of-type {\n",
       "        vertical-align: middle;\n",
       "    }\n",
       "\n",
       "    .dataframe tbody tr th {\n",
       "        vertical-align: top;\n",
       "    }\n",
       "\n",
       "    .dataframe thead th {\n",
       "        text-align: right;\n",
       "    }\n",
       "</style>\n",
       "<table border=\"1\" class=\"dataframe\">\n",
       "  <thead>\n",
       "    <tr style=\"text-align: right;\">\n",
       "      <th></th>\n",
       "      <th>close</th>\n",
       "      <th>volume</th>\n",
       "      <th>open</th>\n",
       "      <th>high</th>\n",
       "      <th>low</th>\n",
       "    </tr>\n",
       "    <tr>\n",
       "      <th>Date</th>\n",
       "      <th></th>\n",
       "      <th></th>\n",
       "      <th></th>\n",
       "      <th></th>\n",
       "      <th></th>\n",
       "    </tr>\n",
       "  </thead>\n",
       "  <tbody>\n",
       "    <tr>\n",
       "      <th>2022-05-16</th>\n",
       "      <td>145.54</td>\n",
       "      <td>86643780</td>\n",
       "      <td>145.550</td>\n",
       "      <td>147.5199</td>\n",
       "      <td>144.18</td>\n",
       "    </tr>\n",
       "    <tr>\n",
       "      <th>2022-05-13</th>\n",
       "      <td>147.11</td>\n",
       "      <td>113990900</td>\n",
       "      <td>144.590</td>\n",
       "      <td>148.1050</td>\n",
       "      <td>143.11</td>\n",
       "    </tr>\n",
       "    <tr>\n",
       "      <th>2022-05-12</th>\n",
       "      <td>142.56</td>\n",
       "      <td>182602000</td>\n",
       "      <td>142.770</td>\n",
       "      <td>146.2000</td>\n",
       "      <td>138.80</td>\n",
       "    </tr>\n",
       "    <tr>\n",
       "      <th>2022-05-11</th>\n",
       "      <td>146.50</td>\n",
       "      <td>142689800</td>\n",
       "      <td>153.500</td>\n",
       "      <td>155.4500</td>\n",
       "      <td>145.81</td>\n",
       "    </tr>\n",
       "    <tr>\n",
       "      <th>2022-05-10</th>\n",
       "      <td>154.51</td>\n",
       "      <td>115366700</td>\n",
       "      <td>155.520</td>\n",
       "      <td>156.7400</td>\n",
       "      <td>152.93</td>\n",
       "    </tr>\n",
       "    <tr>\n",
       "      <th>2022-05-09</th>\n",
       "      <td>152.06</td>\n",
       "      <td>131577900</td>\n",
       "      <td>154.925</td>\n",
       "      <td>155.8300</td>\n",
       "      <td>151.49</td>\n",
       "    </tr>\n",
       "    <tr>\n",
       "      <th>2022-05-06</th>\n",
       "      <td>157.28</td>\n",
       "      <td>116124600</td>\n",
       "      <td>156.010</td>\n",
       "      <td>159.4400</td>\n",
       "      <td>154.18</td>\n",
       "    </tr>\n",
       "    <tr>\n",
       "      <th>2022-05-05</th>\n",
       "      <td>156.77</td>\n",
       "      <td>130525300</td>\n",
       "      <td>163.850</td>\n",
       "      <td>164.0800</td>\n",
       "      <td>154.95</td>\n",
       "    </tr>\n",
       "    <tr>\n",
       "      <th>2022-05-04</th>\n",
       "      <td>166.02</td>\n",
       "      <td>108256500</td>\n",
       "      <td>159.670</td>\n",
       "      <td>166.4800</td>\n",
       "      <td>159.26</td>\n",
       "    </tr>\n",
       "    <tr>\n",
       "      <th>2022-05-03</th>\n",
       "      <td>159.48</td>\n",
       "      <td>88966530</td>\n",
       "      <td>158.150</td>\n",
       "      <td>160.7100</td>\n",
       "      <td>156.32</td>\n",
       "    </tr>\n",
       "    <tr>\n",
       "      <th>2022-05-02</th>\n",
       "      <td>157.96</td>\n",
       "      <td>123055300</td>\n",
       "      <td>156.710</td>\n",
       "      <td>158.2300</td>\n",
       "      <td>153.27</td>\n",
       "    </tr>\n",
       "  </tbody>\n",
       "</table>\n",
       "</div>"
      ],
      "text/plain": [
       "             close     volume     open      high     low\n",
       "Date                                                    \n",
       "2022-05-16  145.54   86643780  145.550  147.5199  144.18\n",
       "2022-05-13  147.11  113990900  144.590  148.1050  143.11\n",
       "2022-05-12  142.56  182602000  142.770  146.2000  138.80\n",
       "2022-05-11  146.50  142689800  153.500  155.4500  145.81\n",
       "2022-05-10  154.51  115366700  155.520  156.7400  152.93\n",
       "2022-05-09  152.06  131577900  154.925  155.8300  151.49\n",
       "2022-05-06  157.28  116124600  156.010  159.4400  154.18\n",
       "2022-05-05  156.77  130525300  163.850  164.0800  154.95\n",
       "2022-05-04  166.02  108256500  159.670  166.4800  159.26\n",
       "2022-05-03  159.48   88966530  158.150  160.7100  156.32\n",
       "2022-05-02  157.96  123055300  156.710  158.2300  153.27"
      ]
     },
     "execution_count": 125,
     "metadata": {},
     "output_type": "execute_result"
    }
   ],
   "source": [
    "df.loc[\"2022-05\"]"
   ]
  },
  {
   "cell_type": "code",
   "execution_count": 126,
   "id": "5aeca0f1",
   "metadata": {},
   "outputs": [
    {
     "data": {
      "text/plain": [
       "numpy.float64"
      ]
     },
     "execution_count": 126,
     "metadata": {},
     "output_type": "execute_result"
    }
   ],
   "source": [
    "type(df.low[0])"
   ]
  },
  {
   "cell_type": "code",
   "execution_count": 127,
   "id": "1e2f6445",
   "metadata": {},
   "outputs": [
    {
     "data": {
      "text/plain": [
       "close     float64\n",
       "volume      int64\n",
       "open      float64\n",
       "high      float64\n",
       "low       float64\n",
       "dtype: object"
      ]
     },
     "execution_count": 127,
     "metadata": {},
     "output_type": "execute_result"
    }
   ],
   "source": [
    "df.dtypes"
   ]
  },
  {
   "cell_type": "markdown",
   "id": "1ae1e9f3",
   "metadata": {},
   "source": [
    "# how to convert string to float \n",
    "df['High']=pd.to_numeric(df['High'],errors='coerce')\n"
   ]
  },
  {
   "cell_type": "code",
   "execution_count": 128,
   "id": "d536b0bf",
   "metadata": {},
   "outputs": [
    {
     "name": "stderr",
     "output_type": "stream",
     "text": [
      "C:\\Users\\SHALIN~1\\AppData\\Local\\Temp/ipykernel_804/3036325923.py:1: FutureWarning: Indexing a DataFrame with a datetimelike index using a single string to slice the rows, like `frame[string]`, is deprecated and will be removed in a future version. Use `frame.loc[string]` instead.\n",
      "  df[\"2022-05\"].close.mean()\n"
     ]
    },
    {
     "data": {
      "text/plain": [
       "153.25363636363636"
      ]
     },
     "execution_count": 128,
     "metadata": {},
     "output_type": "execute_result"
    }
   ],
   "source": [
    "df[\"2022-05\"].close.mean()"
   ]
  },
  {
   "cell_type": "code",
   "execution_count": 129,
   "id": "f8ab619c",
   "metadata": {},
   "outputs": [
    {
     "name": "stderr",
     "output_type": "stream",
     "text": [
      "C:\\Users\\SHALIN~1\\AppData\\Local\\Temp/ipykernel_804/1719686262.py:1: FutureWarning: Indexing a DataFrame with a datetimelike index using a single string to slice the rows, like `frame[string]`, is deprecated and will be removed in a future version. Use `frame.loc[string]` instead.\n",
      "  df[\"2022-05-11\"]\n"
     ]
    },
    {
     "data": {
      "text/html": [
       "<div>\n",
       "<style scoped>\n",
       "    .dataframe tbody tr th:only-of-type {\n",
       "        vertical-align: middle;\n",
       "    }\n",
       "\n",
       "    .dataframe tbody tr th {\n",
       "        vertical-align: top;\n",
       "    }\n",
       "\n",
       "    .dataframe thead th {\n",
       "        text-align: right;\n",
       "    }\n",
       "</style>\n",
       "<table border=\"1\" class=\"dataframe\">\n",
       "  <thead>\n",
       "    <tr style=\"text-align: right;\">\n",
       "      <th></th>\n",
       "      <th>close</th>\n",
       "      <th>volume</th>\n",
       "      <th>open</th>\n",
       "      <th>high</th>\n",
       "      <th>low</th>\n",
       "    </tr>\n",
       "    <tr>\n",
       "      <th>Date</th>\n",
       "      <th></th>\n",
       "      <th></th>\n",
       "      <th></th>\n",
       "      <th></th>\n",
       "      <th></th>\n",
       "    </tr>\n",
       "  </thead>\n",
       "  <tbody>\n",
       "    <tr>\n",
       "      <th>2022-05-11</th>\n",
       "      <td>146.5</td>\n",
       "      <td>142689800</td>\n",
       "      <td>153.5</td>\n",
       "      <td>155.45</td>\n",
       "      <td>145.81</td>\n",
       "    </tr>\n",
       "  </tbody>\n",
       "</table>\n",
       "</div>"
      ],
      "text/plain": [
       "            close     volume   open    high     low\n",
       "Date                                               \n",
       "2022-05-11  146.5  142689800  153.5  155.45  145.81"
      ]
     },
     "execution_count": 129,
     "metadata": {},
     "output_type": "execute_result"
    }
   ],
   "source": [
    "df[\"2022-05-11\"]"
   ]
  },
  {
   "cell_type": "code",
   "execution_count": 130,
   "id": "b6ad0ffe",
   "metadata": {},
   "outputs": [
    {
     "data": {
      "text/html": [
       "<div>\n",
       "<style scoped>\n",
       "    .dataframe tbody tr th:only-of-type {\n",
       "        vertical-align: middle;\n",
       "    }\n",
       "\n",
       "    .dataframe tbody tr th {\n",
       "        vertical-align: top;\n",
       "    }\n",
       "\n",
       "    .dataframe thead th {\n",
       "        text-align: right;\n",
       "    }\n",
       "</style>\n",
       "<table border=\"1\" class=\"dataframe\">\n",
       "  <thead>\n",
       "    <tr style=\"text-align: right;\">\n",
       "      <th></th>\n",
       "      <th>close</th>\n",
       "      <th>volume</th>\n",
       "      <th>open</th>\n",
       "      <th>high</th>\n",
       "      <th>low</th>\n",
       "    </tr>\n",
       "    <tr>\n",
       "      <th>Date</th>\n",
       "      <th></th>\n",
       "      <th></th>\n",
       "      <th></th>\n",
       "      <th></th>\n",
       "      <th></th>\n",
       "    </tr>\n",
       "  </thead>\n",
       "  <tbody>\n",
       "    <tr>\n",
       "      <th>2022-05-11</th>\n",
       "      <td>146.50</td>\n",
       "      <td>142689800</td>\n",
       "      <td>153.500</td>\n",
       "      <td>155.45</td>\n",
       "      <td>145.81</td>\n",
       "    </tr>\n",
       "    <tr>\n",
       "      <th>2022-05-10</th>\n",
       "      <td>154.51</td>\n",
       "      <td>115366700</td>\n",
       "      <td>155.520</td>\n",
       "      <td>156.74</td>\n",
       "      <td>152.93</td>\n",
       "    </tr>\n",
       "    <tr>\n",
       "      <th>2022-05-09</th>\n",
       "      <td>152.06</td>\n",
       "      <td>131577900</td>\n",
       "      <td>154.925</td>\n",
       "      <td>155.83</td>\n",
       "      <td>151.49</td>\n",
       "    </tr>\n",
       "    <tr>\n",
       "      <th>2022-05-06</th>\n",
       "      <td>157.28</td>\n",
       "      <td>116124600</td>\n",
       "      <td>156.010</td>\n",
       "      <td>159.44</td>\n",
       "      <td>154.18</td>\n",
       "    </tr>\n",
       "  </tbody>\n",
       "</table>\n",
       "</div>"
      ],
      "text/plain": [
       "             close     volume     open    high     low\n",
       "Date                                                  \n",
       "2022-05-11  146.50  142689800  153.500  155.45  145.81\n",
       "2022-05-10  154.51  115366700  155.520  156.74  152.93\n",
       "2022-05-09  152.06  131577900  154.925  155.83  151.49\n",
       "2022-05-06  157.28  116124600  156.010  159.44  154.18"
      ]
     },
     "execution_count": 130,
     "metadata": {},
     "output_type": "execute_result"
    }
   ],
   "source": [
    "df[\"2022-05-05\":\"2022-05-11\"]"
   ]
  },
  {
   "cell_type": "code",
   "execution_count": 131,
   "id": "4fd9c970",
   "metadata": {},
   "outputs": [
    {
     "data": {
      "text/plain": [
       "Date\n",
       "2021-05-31    125.929000\n",
       "2021-06-30    129.958636\n",
       "2021-07-31    145.139524\n",
       "2021-08-31    148.177727\n",
       "2021-09-30    148.306190\n",
       "2021-10-31    145.563810\n",
       "2021-11-30    154.255714\n",
       "2021-12-31    173.552727\n",
       "2022-01-31    169.861500\n",
       "2022-02-28    169.830000\n",
       "2022-03-31    165.310435\n",
       "2022-04-30    166.821000\n",
       "2022-05-31    153.253636\n",
       "Freq: M, Name: close, dtype: float64"
      ]
     },
     "execution_count": 131,
     "metadata": {},
     "output_type": "execute_result"
    }
   ],
   "source": [
    "df.close.resample('M').mean()"
   ]
  },
  {
   "cell_type": "code",
   "execution_count": 132,
   "id": "bd11a2ab",
   "metadata": {},
   "outputs": [
    {
     "data": {
      "text/plain": [
       "<AxesSubplot:xlabel='Date'>"
      ]
     },
     "execution_count": 132,
     "metadata": {},
     "output_type": "execute_result"
    },
    {
     "data": {
      "image/png": "[encoded data removed]",
      "text/plain": [
       "<Figure size 432x288 with 1 Axes>"
      ]
     },
     "metadata": {
      "needs_background": "light"
     },
     "output_type": "display_data"
    }
   ],
   "source": [
    "%matplotlib inline\n",
    "df.close.resample('M').mean().plot() "
   ]
  },
  {
   "cell_type": "code",
   "execution_count": 133,
   "id": "22d21aca",
   "metadata": {},
   "outputs": [
    {
     "data": {
      "text/plain": [
       "<AxesSubplot:xlabel='Date'>"
      ]
     },
     "execution_count": 133,
     "metadata": {},
     "output_type": "execute_result"
    },
    {
     "data": {
      "image/png": "[encoded data removed]",
      "text/plain": [
       "<Figure size 432x288 with 1 Axes>"
      ]
     },
     "metadata": {
      "needs_background": "light"
     },
     "output_type": "display_data"
    }
   ],
   "source": [
    "df.close.resample('Q').mean().plot(kind='bar')"
   ]
  },
  {
   "cell_type": "code",
   "execution_count": 134,
   "id": "842a6c96",
   "metadata": {},
   "outputs": [
    {
     "data": {
      "text/plain": [
       "<AxesSubplot:xlabel='Date'>"
      ]
     },
     "execution_count": 134,
     "metadata": {},
     "output_type": "execute_result"
    },
    {
     "data": {
      "image/png": "[encoded data removed]",
      "text/plain": [
       "<Figure size 432x288 with 1 Axes>"
      ]
     },
     "metadata": {
      "needs_background": "light"
     },
     "output_type": "display_data"
    }
   ],
   "source": [
    "df.close.plot()"
   ]
  },
  {
   "cell_type": "markdown",
   "id": "30a0b11e",
   "metadata": {},
   "source": [
    "# shift+tab to know more in any row "
   ]
  },
  {
   "cell_type": "code",
   "execution_count": 135,
   "id": "402b5519",
   "metadata": {},
   "outputs": [
    {
     "data": {
      "text/plain": [
       "<AxesSubplot:xlabel='Date'>"
      ]
     },
     "execution_count": 135,
     "metadata": {},
     "output_type": "execute_result"
    },
    {
     "data": {
      "image/png": "[encoded data removed]",
      "text/plain": [
       "<Figure size 432x288 with 1 Axes>"
      ]
     },
     "metadata": {
      "needs_background": "light"
     },
     "output_type": "display_data"
    }
   ],
   "source": [
    "df.high.resample('BQ').mean().plot(kind='bar') "
   ]
  },
  {
   "cell_type": "code",
   "execution_count": 136,
   "id": "26e87b9e",
   "metadata": {},
   "outputs": [
    {
     "name": "stderr",
     "output_type": "stream",
     "text": [
      "C:\\Users\\SHALIN~1\\AppData\\Local\\Temp/ipykernel_804/627754903.py:1: FutureWarning: The pandas.datetime class is deprecated and will be removed from pandas in a future version. Import from datetime module instead.\n",
      "  pd.datetime.now()\n"
     ]
    },
    {
     "data": {
      "text/plain": [
       "datetime.datetime(2022, 5, 18, 14, 7, 45, 383829)"
      ]
     },
     "execution_count": 136,
     "metadata": {},
     "output_type": "execute_result"
    }
   ],
   "source": [
    "pd.datetime.now()"
   ]
  },
  {
   "cell_type": "code",
   "execution_count": 137,
   "id": "798f27e7",
   "metadata": {},
   "outputs": [
    {
     "name": "stdout",
     "output_type": "stream",
     "text": [
      "2022-05-17 00:00:00\n"
     ]
    }
   ],
   "source": [
    "print(pd.Timestamp('2022-05-17'))"
   ]
  },
  {
   "cell_type": "markdown",
   "id": "97a33525",
   "metadata": {},
   "source": [
    "# epochs or unix time i.e no of seconds that have passed since Jan 1, 1970 00:00:00 UTC"
   ]
  },
  {
   "cell_type": "code",
   "execution_count": 138,
   "id": "4a981018",
   "metadata": {},
   "outputs": [
    {
     "name": "stdout",
     "output_type": "stream",
     "text": [
      "2023-06-25 10:00:55\n"
     ]
    }
   ],
   "source": [
    "print(pd.Timestamp(1687687255,unit='s'))"
   ]
  },
  {
   "cell_type": "code",
   "execution_count": 139,
   "id": "4e6646de",
   "metadata": {},
   "outputs": [
    {
     "name": "stdout",
     "output_type": "stream",
     "text": [
      "2023-06-25 10:00:55\n"
     ]
    }
   ],
   "source": [
    "print(pd.to_datetime(1687687255,unit='s'))"
   ]
  },
  {
   "cell_type": "markdown",
   "id": "5eb0c695",
   "metadata": {},
   "source": [
    "# convert it to DateTimeIndex by supplying as an array"
   ]
  },
  {
   "cell_type": "code",
   "execution_count": 140,
   "id": "27470aab",
   "metadata": {},
   "outputs": [
    {
     "data": {
      "text/plain": [
       "DatetimeIndex(['2023-06-25 10:00:55'], dtype='datetime64[ns]', freq=None)"
      ]
     },
     "execution_count": 140,
     "metadata": {},
     "output_type": "execute_result"
    }
   ],
   "source": [
    "t=1687687255\n",
    "ts=pd.to_datetime([t], unit='s')\n",
    "ts"
   ]
  },
  {
   "cell_type": "markdown",
   "id": "7ede3afc",
   "metadata": {},
   "source": [
    "# convert back DateTimeIndex to epochs"
   ]
  },
  {
   "cell_type": "code",
   "execution_count": 141,
   "id": "8f26640e",
   "metadata": {},
   "outputs": [
    {
     "data": {
      "text/plain": [
       "array([1687687255000000000], dtype=int64)"
      ]
     },
     "execution_count": 141,
     "metadata": {},
     "output_type": "execute_result"
    }
   ],
   "source": [
    "ts.view('int64')                 #extra zeros for ns coz default unit is ns"
   ]
  },
  {
   "cell_type": "code",
   "execution_count": 142,
   "id": "a3a42b9d",
   "metadata": {},
   "outputs": [
    {
     "name": "stdout",
     "output_type": "stream",
     "text": [
      "[datetime.time(11, 0) datetime.time(11, 30) datetime.time(12, 0)\n",
      " datetime.time(12, 30) datetime.time(13, 0) datetime.time(13, 30)]\n"
     ]
    }
   ],
   "source": [
    "print (pd.date_range(\"11:00\", \"13:30\", freq=\"30min\").time)"
   ]
  },
  {
   "cell_type": "code",
   "execution_count": 143,
   "id": "b04ec780",
   "metadata": {},
   "outputs": [
    {
     "name": "stdout",
     "output_type": "stream",
     "text": [
      "[datetime.time(11, 0) datetime.time(12, 0) datetime.time(13, 0)]\n"
     ]
    }
   ],
   "source": [
    "print (pd.date_range(\"11:00\", \"13:30\", freq=\"H\").time)"
   ]
  },
  {
   "cell_type": "code",
   "execution_count": 144,
   "id": "9ddc4fd1",
   "metadata": {},
   "outputs": [
    {
     "name": "stdout",
     "output_type": "stream",
     "text": [
      "0   2022-07-31\n",
      "1   2022-01-10\n",
      "2          NaT\n",
      "dtype: datetime64[ns]\n"
     ]
    }
   ],
   "source": [
    "print (pd.to_datetime(pd.Series(['Jul 31, 2022','2022-01-10', None])))"
   ]
  },
  {
   "cell_type": "code",
   "execution_count": 145,
   "id": "9330559f",
   "metadata": {},
   "outputs": [
    {
     "name": "stdout",
     "output_type": "stream",
     "text": [
      "DatetimeIndex(['2022-05-01', '2022-03-30', 'NaT'], dtype='datetime64[ns]', freq=None)\n"
     ]
    }
   ],
   "source": [
    "print (pd.to_datetime(['2022/05/01', '2022.03.30', None]))"
   ]
  },
  {
   "cell_type": "code",
   "execution_count": 146,
   "id": "4e5bf586",
   "metadata": {},
   "outputs": [
    {
     "name": "stdout",
     "output_type": "stream",
     "text": [
      "DatetimeIndex(['2022-05-10', '2022-05-11', '2022-05-12', '2022-05-13',\n",
      "               '2022-05-14'],\n",
      "              dtype='datetime64[ns]', freq='D')\n"
     ]
    }
   ],
   "source": [
    "print(pd.date_range('2022-05-10',periods = 5))"
   ]
  },
  {
   "cell_type": "code",
   "execution_count": 147,
   "id": "a5ee38ff",
   "metadata": {},
   "outputs": [
    {
     "name": "stdout",
     "output_type": "stream",
     "text": [
      "DatetimeIndex(['2022-05-31', '2022-06-30', '2022-07-31', '2022-08-31',\n",
      "               '2022-09-30'],\n",
      "              dtype='datetime64[ns]', freq='M')\n"
     ]
    }
   ],
   "source": [
    "print(pd.date_range('2022-05-10',periods = 5,freq='M'))"
   ]
  },
  {
   "cell_type": "code",
   "execution_count": 148,
   "id": "f5526cde",
   "metadata": {},
   "outputs": [
    {
     "name": "stdout",
     "output_type": "stream",
     "text": [
      "DatetimeIndex(['2022-05-12', '2022-05-13', '2022-05-16', '2022-05-17',\n",
      "               '2022-05-18'],\n",
      "              dtype='datetime64[ns]', freq='B')\n"
     ]
    }
   ],
   "source": [
    "print(pd.bdate_range('2022-05-12',periods = 5))"
   ]
  },
  {
   "cell_type": "code",
   "execution_count": 149,
   "id": "0dd57f08",
   "metadata": {},
   "outputs": [
    {
     "name": "stdout",
     "output_type": "stream",
     "text": [
      "DatetimeIndex(['2022-05-01', '2022-05-02', '2022-05-03', '2022-05-04',\n",
      "               '2022-05-05'],\n",
      "              dtype='datetime64[ns]', freq='D')\n"
     ]
    },
    {
     "name": "stderr",
     "output_type": "stream",
     "text": [
      "C:\\Users\\SHALIN~1\\AppData\\Local\\Temp/ipykernel_804/3383469537.py:1: FutureWarning: The pandas.datetime class is deprecated and will be removed from pandas in a future version. Import from datetime module instead.\n",
      "  start = pd.datetime(2022, 5, 1)\n",
      "C:\\Users\\SHALIN~1\\AppData\\Local\\Temp/ipykernel_804/3383469537.py:2: FutureWarning: The pandas.datetime class is deprecated and will be removed from pandas in a future version. Import from datetime module instead.\n",
      "  end = pd.datetime(2022, 5, 5)\n"
     ]
    }
   ],
   "source": [
    "start = pd.datetime(2022, 5, 1)\n",
    "end = pd.datetime(2022, 5, 5)\n",
    "\n",
    "print (pd.date_range(start, end))"
   ]
  },
  {
   "cell_type": "code",
   "execution_count": 150,
   "id": "d1d56848",
   "metadata": {},
   "outputs": [
    {
     "name": "stdout",
     "output_type": "stream",
     "text": [
      "DatetimeIndex(['2022-05-12', '2022-05-13', '2022-05-16', '2022-05-17',\n",
      "               '2022-05-18', '2022-05-19', '2022-05-20', '2022-05-23',\n",
      "               '2022-05-24', '2022-05-25', '2022-05-26', '2022-05-27',\n",
      "               '2022-05-30', '2022-05-31'],\n",
      "              dtype='datetime64[ns]', freq='B')\n"
     ]
    }
   ],
   "source": [
    "print(pd.date_range(start='2022-05-12',end='2022-05-31',freq='B'))"
   ]
  },
  {
   "cell_type": "markdown",
   "id": "f78d9985",
   "metadata": {},
   "source": [
    "# asfreq allows to regenerate dataframe according to the new specified frequency                            df.asfreq('D/W/H',method='ffill/pad/bfill/backfill')"
   ]
  },
  {
   "cell_type": "code",
   "execution_count": 151,
   "id": "eda03462",
   "metadata": {},
   "outputs": [
    {
     "data": {
      "text/html": [
       "<div>\n",
       "<style scoped>\n",
       "    .dataframe tbody tr th:only-of-type {\n",
       "        vertical-align: middle;\n",
       "    }\n",
       "\n",
       "    .dataframe tbody tr th {\n",
       "        vertical-align: top;\n",
       "    }\n",
       "\n",
       "    .dataframe thead th {\n",
       "        text-align: right;\n",
       "    }\n",
       "</style>\n",
       "<table border=\"1\" class=\"dataframe\">\n",
       "  <thead>\n",
       "    <tr style=\"text-align: right;\">\n",
       "      <th></th>\n",
       "      <th>close</th>\n",
       "      <th>volume</th>\n",
       "      <th>open</th>\n",
       "      <th>high</th>\n",
       "      <th>low</th>\n",
       "    </tr>\n",
       "    <tr>\n",
       "      <th>Date</th>\n",
       "      <th></th>\n",
       "      <th></th>\n",
       "      <th></th>\n",
       "      <th></th>\n",
       "      <th></th>\n",
       "    </tr>\n",
       "  </thead>\n",
       "  <tbody>\n",
       "    <tr>\n",
       "      <th>2022-05-16</th>\n",
       "      <td>145.54</td>\n",
       "      <td>86643780</td>\n",
       "      <td>145.55</td>\n",
       "      <td>147.5199</td>\n",
       "      <td>144.18</td>\n",
       "    </tr>\n",
       "    <tr>\n",
       "      <th>2022-05-13</th>\n",
       "      <td>147.11</td>\n",
       "      <td>113990900</td>\n",
       "      <td>144.59</td>\n",
       "      <td>148.1050</td>\n",
       "      <td>143.11</td>\n",
       "    </tr>\n",
       "    <tr>\n",
       "      <th>2022-05-12</th>\n",
       "      <td>142.56</td>\n",
       "      <td>182602000</td>\n",
       "      <td>142.77</td>\n",
       "      <td>146.2000</td>\n",
       "      <td>138.80</td>\n",
       "    </tr>\n",
       "    <tr>\n",
       "      <th>2022-05-11</th>\n",
       "      <td>146.50</td>\n",
       "      <td>142689800</td>\n",
       "      <td>153.50</td>\n",
       "      <td>155.4500</td>\n",
       "      <td>145.81</td>\n",
       "    </tr>\n",
       "    <tr>\n",
       "      <th>2022-05-10</th>\n",
       "      <td>154.51</td>\n",
       "      <td>115366700</td>\n",
       "      <td>155.52</td>\n",
       "      <td>156.7400</td>\n",
       "      <td>152.93</td>\n",
       "    </tr>\n",
       "  </tbody>\n",
       "</table>\n",
       "</div>"
      ],
      "text/plain": [
       "             close     volume    open      high     low\n",
       "Date                                                   \n",
       "2022-05-16  145.54   86643780  145.55  147.5199  144.18\n",
       "2022-05-13  147.11  113990900  144.59  148.1050  143.11\n",
       "2022-05-12  142.56  182602000  142.77  146.2000  138.80\n",
       "2022-05-11  146.50  142689800  153.50  155.4500  145.81\n",
       "2022-05-10  154.51  115366700  155.52  156.7400  152.93"
      ]
     },
     "execution_count": 151,
     "metadata": {},
     "output_type": "execute_result"
    }
   ],
   "source": [
    "df.head()"
   ]
  },
  {
   "cell_type": "code",
   "execution_count": 152,
   "id": "80b2a54f",
   "metadata": {},
   "outputs": [
    {
     "data": {
      "text/plain": [
       "DatetimeIndex(['2022-05-01 00:00:00', '2022-05-01 01:00:00',\n",
       "               '2022-05-01 02:00:00', '2022-05-01 03:00:00',\n",
       "               '2022-05-01 04:00:00', '2022-05-01 05:00:00',\n",
       "               '2022-05-01 06:00:00', '2022-05-01 07:00:00',\n",
       "               '2022-05-01 08:00:00', '2022-05-01 09:00:00',\n",
       "               '2022-05-01 10:00:00', '2022-05-01 11:00:00',\n",
       "               '2022-05-01 12:00:00', '2022-05-01 13:00:00',\n",
       "               '2022-05-01 14:00:00', '2022-05-01 15:00:00',\n",
       "               '2022-05-01 16:00:00', '2022-05-01 17:00:00',\n",
       "               '2022-05-01 18:00:00', '2022-05-01 19:00:00',\n",
       "               '2022-05-01 20:00:00', '2022-05-01 21:00:00',\n",
       "               '2022-05-01 22:00:00', '2022-05-01 23:00:00',\n",
       "               '2022-05-02 00:00:00', '2022-05-02 01:00:00',\n",
       "               '2022-05-02 02:00:00', '2022-05-02 03:00:00',\n",
       "               '2022-05-02 04:00:00', '2022-05-02 05:00:00',\n",
       "               '2022-05-02 06:00:00', '2022-05-02 07:00:00',\n",
       "               '2022-05-02 08:00:00', '2022-05-02 09:00:00',\n",
       "               '2022-05-02 10:00:00', '2022-05-02 11:00:00',\n",
       "               '2022-05-02 12:00:00', '2022-05-02 13:00:00',\n",
       "               '2022-05-02 14:00:00', '2022-05-02 15:00:00',\n",
       "               '2022-05-02 16:00:00', '2022-05-02 17:00:00',\n",
       "               '2022-05-02 18:00:00', '2022-05-02 19:00:00',\n",
       "               '2022-05-02 20:00:00', '2022-05-02 21:00:00',\n",
       "               '2022-05-02 22:00:00', '2022-05-02 23:00:00',\n",
       "               '2022-05-03 00:00:00', '2022-05-03 01:00:00',\n",
       "               '2022-05-03 02:00:00', '2022-05-03 03:00:00',\n",
       "               '2022-05-03 04:00:00', '2022-05-03 05:00:00',\n",
       "               '2022-05-03 06:00:00', '2022-05-03 07:00:00',\n",
       "               '2022-05-03 08:00:00', '2022-05-03 09:00:00',\n",
       "               '2022-05-03 10:00:00', '2022-05-03 11:00:00',\n",
       "               '2022-05-03 12:00:00', '2022-05-03 13:00:00',\n",
       "               '2022-05-03 14:00:00', '2022-05-03 15:00:00',\n",
       "               '2022-05-03 16:00:00', '2022-05-03 17:00:00',\n",
       "               '2022-05-03 18:00:00', '2022-05-03 19:00:00',\n",
       "               '2022-05-03 20:00:00', '2022-05-03 21:00:00',\n",
       "               '2022-05-03 22:00:00', '2022-05-03 23:00:00',\n",
       "               '2022-05-04 00:00:00', '2022-05-04 01:00:00',\n",
       "               '2022-05-04 02:00:00', '2022-05-04 03:00:00',\n",
       "               '2022-05-04 04:00:00', '2022-05-04 05:00:00',\n",
       "               '2022-05-04 06:00:00', '2022-05-04 07:00:00',\n",
       "               '2022-05-04 08:00:00', '2022-05-04 09:00:00',\n",
       "               '2022-05-04 10:00:00', '2022-05-04 11:00:00',\n",
       "               '2022-05-04 12:00:00', '2022-05-04 13:00:00',\n",
       "               '2022-05-04 14:00:00', '2022-05-04 15:00:00',\n",
       "               '2022-05-04 16:00:00', '2022-05-04 17:00:00',\n",
       "               '2022-05-04 18:00:00', '2022-05-04 19:00:00',\n",
       "               '2022-05-04 20:00:00', '2022-05-04 21:00:00',\n",
       "               '2022-05-04 22:00:00', '2022-05-04 23:00:00',\n",
       "               '2022-05-05 00:00:00', '2022-05-05 01:00:00',\n",
       "               '2022-05-05 02:00:00', '2022-05-05 03:00:00'],\n",
       "              dtype='datetime64[ns]', freq='H')"
      ]
     },
     "execution_count": 152,
     "metadata": {},
     "output_type": "execute_result"
    }
   ],
   "source": [
    "range=pd.date_range('2022-05-01',periods=100,freq='H')\n",
    "range"
   ]
  },
  {
   "cell_type": "code",
   "execution_count": 153,
   "id": "53922070",
   "metadata": {},
   "outputs": [
    {
     "data": {
      "text/plain": [
       "2022-05-01 00:00:00    4\n",
       "2022-05-01 01:00:00    5\n",
       "2022-05-01 02:00:00    3\n",
       "2022-05-01 03:00:00    1\n",
       "2022-05-01 04:00:00    3\n",
       "2022-05-01 05:00:00    2\n",
       "2022-05-01 06:00:00    4\n",
       "2022-05-01 07:00:00    3\n",
       "2022-05-01 08:00:00    2\n",
       "2022-05-01 09:00:00    3\n",
       "Freq: H, dtype: int32"
      ]
     },
     "execution_count": 153,
     "metadata": {},
     "output_type": "execute_result"
    }
   ],
   "source": [
    "import numpy as np\n",
    "t=pd.Series(np.random.randint(1,10,len(range)),index=range)\n",
    "t.head(10)"
   ]
  },
  {
   "cell_type": "code",
   "execution_count": 154,
   "id": "1b80ba35",
   "metadata": {},
   "outputs": [
    {
     "data": {
      "text/plain": [
       "array([[[0.10328146, 0.06973621, 0.67223823, 0.74493318],\n",
       "        [0.74179851, 0.31538492, 0.88738369, 0.39288381],\n",
       "        [0.82553465, 0.11813751, 0.67169785, 0.27018026],\n",
       "        [0.61542709, 0.19133573, 0.84175566, 0.21507972],\n",
       "        [0.32173734, 0.52505673, 0.33627606, 0.77185678],\n",
       "        [0.87990969, 0.55441918, 0.54752546, 0.34053866],\n",
       "        [0.99589623, 0.64627064, 0.19117725, 0.21918002],\n",
       "        [0.12233091, 0.65255691, 0.10366972, 0.78226705],\n",
       "        [0.54122667, 0.32941532, 0.83643972, 0.44349342],\n",
       "        [0.23072131, 0.73172153, 0.76725927, 0.67584897]]])"
      ]
     },
     "execution_count": 154,
     "metadata": {},
     "output_type": "execute_result"
    }
   ],
   "source": [
    "np.random.rand(1,10,4)"
   ]
  },
  {
   "cell_type": "code",
   "execution_count": 155,
   "id": "317839ec",
   "metadata": {},
   "outputs": [
    {
     "data": {
      "text/plain": [
       "array([[[-0.14741607,  1.29257815, -0.57530625,  0.1214673 ],\n",
       "        [-1.58955353, -0.99588569, -0.87278755,  0.05448129],\n",
       "        [ 0.58314756,  0.19788603,  0.26438275, -0.14819393],\n",
       "        [-0.13894341,  1.33053613, -1.08711011,  1.14362924],\n",
       "        [-0.0547768 ,  0.82418349, -0.79408254, -0.02163714],\n",
       "        [-0.25712029,  0.17866869,  1.64574343, -0.96560277],\n",
       "        [ 1.04470133, -0.680234  ,  0.2978145 ,  2.9610886 ],\n",
       "        [ 0.11336448,  0.74618918, -0.84013976, -0.84803384],\n",
       "        [ 0.24264166, -0.47236578,  0.08606098, -1.2590966 ],\n",
       "        [-0.73926459, -0.30217236, -0.29029027,  0.26316199]]])"
      ]
     },
     "execution_count": 155,
     "metadata": {},
     "output_type": "execute_result"
    }
   ],
   "source": [
    "np.random.randn(1,10,4)"
   ]
  },
  {
   "cell_type": "code",
   "execution_count": 156,
   "id": "674d667a",
   "metadata": {},
   "outputs": [
    {
     "data": {
      "text/plain": [
       "DatetimeIndex(['2022-05-01 00:00:00', '2022-05-02 00:00:00',\n",
       "               '2022-05-03 16:30:00', '2022-05-04 14:30:00',\n",
       "               '2022-05-05 00:00:00'],\n",
       "              dtype='datetime64[ns]', freq=None)"
      ]
     },
     "execution_count": 156,
     "metadata": {},
     "output_type": "execute_result"
    }
   ],
   "source": [
    "dates=[\"2022-05-01\",\"2022/05/02\",\"20220503 1630\",\"May 4,2022 2:30 PM\",\"2022.05.05\"]\n",
    "pd.to_datetime(dates)"
   ]
  },
  {
   "cell_type": "code",
   "execution_count": 157,
   "id": "2f4cd71d",
   "metadata": {},
   "outputs": [
    {
     "data": {
      "text/plain": [
       "Timestamp('2022-05-08 00:00:00')"
      ]
     },
     "execution_count": 157,
     "metadata": {},
     "output_type": "execute_result"
    }
   ],
   "source": [
    "pd.to_datetime(\"05.08.2022\")"
   ]
  },
  {
   "cell_type": "code",
   "execution_count": 158,
   "id": "2c402f73",
   "metadata": {},
   "outputs": [
    {
     "data": {
      "text/plain": [
       "Timestamp('2022-08-05 00:00:00')"
      ]
     },
     "execution_count": 158,
     "metadata": {},
     "output_type": "execute_result"
    }
   ],
   "source": [
    "pd.to_datetime(\"05.08.2022\",dayfirst=True)"
   ]
  },
  {
   "cell_type": "code",
   "execution_count": 159,
   "id": "b7c97e15",
   "metadata": {
    "scrolled": true
   },
   "outputs": [
    {
     "data": {
      "text/plain": [
       "Timestamp('2022-08-05 00:00:00')"
      ]
     },
     "execution_count": 159,
     "metadata": {},
     "output_type": "execute_result"
    }
   ],
   "source": [
    "pd.to_datetime(\"05$08$2022\",format='%d$%m$%Y')"
   ]
  },
  {
   "cell_type": "code",
   "execution_count": 160,
   "id": "3c7ffc66",
   "metadata": {},
   "outputs": [
    {
     "data": {
      "text/plain": [
       "Timestamp('2022-08-05 00:00:00')"
      ]
     },
     "execution_count": 160,
     "metadata": {},
     "output_type": "execute_result"
    }
   ],
   "source": [
    "pd.to_datetime(\"05#08#2022\",format='%d#%m#%Y')"
   ]
  },
  {
   "cell_type": "code",
   "execution_count": 161,
   "id": "cc179791",
   "metadata": {},
   "outputs": [
    {
     "data": {
      "text/plain": [
       "Index(['2022-05-01', '2022/05/02', '20220503 1630', 'May 4,2022 2:30 PM',\n",
       "       '2022.05.05', 'abcd'],\n",
       "      dtype='object')"
      ]
     },
     "execution_count": 161,
     "metadata": {},
     "output_type": "execute_result"
    }
   ],
   "source": [
    "dates=[\"2022-05-01\",\"2022/05/02\",\"20220503 1630\",\"May 4,2022 2:30 PM\",\"2022.05.05\",\"abcd\"]\n",
    "pd.to_datetime(dates,errors='ignore')"
   ]
  },
  {
   "cell_type": "code",
   "execution_count": 162,
   "id": "12b7d26b",
   "metadata": {
    "scrolled": true
   },
   "outputs": [
    {
     "data": {
      "text/plain": [
       "DatetimeIndex(['2022-05-01 00:00:00', '2022-05-02 00:00:00',\n",
       "               '2022-05-03 16:30:00', '2022-05-04 14:30:00',\n",
       "               '2022-05-05 00:00:00',                 'NaT'],\n",
       "              dtype='datetime64[ns]', freq=None)"
      ]
     },
     "execution_count": 162,
     "metadata": {},
     "output_type": "execute_result"
    }
   ],
   "source": [
    "dates=[\"2022-05-01\",\"2022/05/02\",\"20220503 1630\",\"May 4,2022 2:30 PM\",\"2022.05.05\",\"abcd\"]\n",
    "pd.to_datetime(dates,errors='coerce')"
   ]
  },
  {
   "cell_type": "markdown",
   "id": "55836c83",
   "metadata": {},
   "source": [
    "# by default errors ='raise' so it raise exceptions when we pass any garbage value"
   ]
  },
  {
   "cell_type": "markdown",
   "id": "b153b62e",
   "metadata": {},
   "source": [
    "# Period and PeriodIndex"
   ]
  },
  {
   "cell_type": "code",
   "execution_count": 163,
   "id": "329abeb9",
   "metadata": {},
   "outputs": [
    {
     "data": {
      "text/plain": [
       "Period('2016', 'A-DEC')"
      ]
     },
     "execution_count": 163,
     "metadata": {},
     "output_type": "execute_result"
    }
   ],
   "source": [
    "import pandas as pd\n",
    "y = pd.Period('2016')\n",
    "y"
   ]
  },
  {
   "cell_type": "code",
   "execution_count": 164,
   "id": "78e73bb3",
   "metadata": {},
   "outputs": [
    {
     "data": {
      "text/plain": [
       "Timestamp('2016-01-01 00:00:00')"
      ]
     },
     "execution_count": 164,
     "metadata": {},
     "output_type": "execute_result"
    }
   ],
   "source": [
    "y.start_time"
   ]
  },
  {
   "cell_type": "code",
   "execution_count": 165,
   "id": "c5491ced",
   "metadata": {},
   "outputs": [
    {
     "data": {
      "text/plain": [
       "Timestamp('2016-12-31 23:59:59.999999999')"
      ]
     },
     "execution_count": 165,
     "metadata": {},
     "output_type": "execute_result"
    }
   ],
   "source": [
    "y.end_time"
   ]
  },
  {
   "cell_type": "code",
   "execution_count": 166,
   "id": "0dc90f4b",
   "metadata": {},
   "outputs": [
    {
     "data": {
      "text/plain": [
       "True"
      ]
     },
     "execution_count": 166,
     "metadata": {},
     "output_type": "execute_result"
    }
   ],
   "source": [
    "y.is_leap_year"
   ]
  },
  {
   "cell_type": "code",
   "execution_count": 167,
   "id": "59c2f9c1",
   "metadata": {},
   "outputs": [
    {
     "data": {
      "text/plain": [
       "Period('2016', 'A-DEC')"
      ]
     },
     "execution_count": 167,
     "metadata": {},
     "output_type": "execute_result"
    }
   ],
   "source": [
    "y1 = pd.Period('2017')\n",
    "y"
   ]
  },
  {
   "cell_type": "code",
   "execution_count": 168,
   "id": "acc8b3d2",
   "metadata": {},
   "outputs": [
    {
     "data": {
      "text/plain": [
       "False"
      ]
     },
     "execution_count": 168,
     "metadata": {},
     "output_type": "execute_result"
    }
   ],
   "source": [
    "y1.is_leap_year"
   ]
  },
  {
   "cell_type": "code",
   "execution_count": 169,
   "id": "0cad2864",
   "metadata": {
    "scrolled": true
   },
   "outputs": [
    {
     "data": {
      "text/plain": [
       "Period('2017-12', 'M')"
      ]
     },
     "execution_count": 169,
     "metadata": {},
     "output_type": "execute_result"
    }
   ],
   "source": [
    "m = pd.Period('2017-12')\n",
    "m"
   ]
  },
  {
   "cell_type": "code",
   "execution_count": 170,
   "id": "05234ba0",
   "metadata": {
    "scrolled": true
   },
   "outputs": [
    {
     "data": {
      "text/plain": [
       "Timestamp('2017-12-01 00:00:00')"
      ]
     },
     "execution_count": 170,
     "metadata": {},
     "output_type": "execute_result"
    }
   ],
   "source": [
    "m.start_time"
   ]
  },
  {
   "cell_type": "code",
   "execution_count": 171,
   "id": "439fedee",
   "metadata": {},
   "outputs": [
    {
     "data": {
      "text/plain": [
       "Timestamp('2017-12-31 23:59:59.999999999')"
      ]
     },
     "execution_count": 171,
     "metadata": {},
     "output_type": "execute_result"
    }
   ],
   "source": [
    "m.end_time"
   ]
  },
  {
   "cell_type": "code",
   "execution_count": 172,
   "id": "90db7ca0",
   "metadata": {},
   "outputs": [
    {
     "data": {
      "text/plain": [
       "Period('2018-03', 'M')"
      ]
     },
     "execution_count": 172,
     "metadata": {},
     "output_type": "execute_result"
    }
   ],
   "source": [
    "m+3"
   ]
  },
  {
   "cell_type": "code",
   "execution_count": 173,
   "id": "a611f3b2",
   "metadata": {},
   "outputs": [
    {
     "data": {
      "text/plain": [
       "Period('2016-02-28', 'D')"
      ]
     },
     "execution_count": 173,
     "metadata": {},
     "output_type": "execute_result"
    }
   ],
   "source": [
    "d = pd.Period('2016-02-28', freq='D')\n",
    "d"
   ]
  },
  {
   "cell_type": "code",
   "execution_count": 174,
   "id": "7c2b01b8",
   "metadata": {},
   "outputs": [
    {
     "data": {
      "text/plain": [
       "Timestamp('2016-02-28 00:00:00')"
      ]
     },
     "execution_count": 174,
     "metadata": {},
     "output_type": "execute_result"
    }
   ],
   "source": [
    "d.start_time"
   ]
  },
  {
   "cell_type": "code",
   "execution_count": 175,
   "id": "bd5f53bf",
   "metadata": {},
   "outputs": [
    {
     "data": {
      "text/plain": [
       "Timestamp('2016-02-28 23:59:59.999999999')"
      ]
     },
     "execution_count": 175,
     "metadata": {},
     "output_type": "execute_result"
    }
   ],
   "source": [
    "d.end_time"
   ]
  },
  {
   "cell_type": "code",
   "execution_count": 176,
   "id": "dd8e60ef",
   "metadata": {},
   "outputs": [
    {
     "data": {
      "text/plain": [
       "Period('2016-02-29', 'D')"
      ]
     },
     "execution_count": 176,
     "metadata": {},
     "output_type": "execute_result"
    }
   ],
   "source": [
    "d+1"
   ]
  },
  {
   "cell_type": "code",
   "execution_count": 177,
   "id": "e742a93a",
   "metadata": {},
   "outputs": [
    {
     "data": {
      "text/plain": [
       "Period('2017-02-28', 'D')"
      ]
     },
     "execution_count": 177,
     "metadata": {},
     "output_type": "execute_result"
    }
   ],
   "source": [
    "d = pd.Period('2017-02-28', freq='D')\n",
    "d"
   ]
  },
  {
   "cell_type": "code",
   "execution_count": 178,
   "id": "554cb14f",
   "metadata": {},
   "outputs": [
    {
     "data": {
      "text/plain": [
       "Period('2017-03-01', 'D')"
      ]
     },
     "execution_count": 178,
     "metadata": {},
     "output_type": "execute_result"
    }
   ],
   "source": [
    "d+1"
   ]
  },
  {
   "cell_type": "code",
   "execution_count": 179,
   "id": "958a9d26",
   "metadata": {},
   "outputs": [
    {
     "data": {
      "text/plain": [
       "Period('2017-08-15 23:00', 'H')"
      ]
     },
     "execution_count": 179,
     "metadata": {},
     "output_type": "execute_result"
    }
   ],
   "source": [
    "h = pd.Period('2017-08-15 23:00:00',freq='H')\n",
    "h"
   ]
  },
  {
   "cell_type": "code",
   "execution_count": 180,
   "id": "c1dfec13",
   "metadata": {},
   "outputs": [
    {
     "data": {
      "text/plain": [
       "Period('2017-08-16 00:00', 'H')"
      ]
     },
     "execution_count": 180,
     "metadata": {},
     "output_type": "execute_result"
    }
   ],
   "source": [
    "h+1"
   ]
  },
  {
   "cell_type": "code",
   "execution_count": 181,
   "id": "878d72b8",
   "metadata": {},
   "outputs": [
    {
     "data": {
      "text/plain": [
       "Period('2017-08-15 17:00', 'H')"
      ]
     },
     "execution_count": 181,
     "metadata": {},
     "output_type": "execute_result"
    }
   ],
   "source": [
    "h-6"
   ]
  },
  {
   "cell_type": "code",
   "execution_count": 182,
   "id": "b1dda58a",
   "metadata": {},
   "outputs": [
    {
     "data": {
      "text/plain": [
       "Period('2017-08-16 03:00', 'H')"
      ]
     },
     "execution_count": 182,
     "metadata": {},
     "output_type": "execute_result"
    }
   ],
   "source": [
    "h+pd.offsets.Hour(4)"
   ]
  },
  {
   "cell_type": "code",
   "execution_count": 183,
   "id": "81ae8feb",
   "metadata": {},
   "outputs": [
    {
     "data": {
      "text/plain": [
       "Period('2017Q1', 'Q-JAN')"
      ]
     },
     "execution_count": 183,
     "metadata": {},
     "output_type": "execute_result"
    }
   ],
   "source": [
    "q1= pd.Period('2017Q1', freq='Q-JAN')\n",
    "q1"
   ]
  },
  {
   "cell_type": "code",
   "execution_count": 184,
   "id": "f6c74d84",
   "metadata": {},
   "outputs": [
    {
     "data": {
      "text/plain": [
       "Timestamp('2016-02-01 00:00:00')"
      ]
     },
     "execution_count": 184,
     "metadata": {},
     "output_type": "execute_result"
    }
   ],
   "source": [
    "q1.start_time"
   ]
  },
  {
   "cell_type": "code",
   "execution_count": 185,
   "id": "d8a178d6",
   "metadata": {},
   "outputs": [
    {
     "data": {
      "text/plain": [
       "Timestamp('2016-04-30 23:59:59.999999999')"
      ]
     },
     "execution_count": 185,
     "metadata": {},
     "output_type": "execute_result"
    }
   ],
   "source": [
    "q1.end_time"
   ]
  },
  {
   "cell_type": "code",
   "execution_count": 186,
   "id": "05d9ac5d",
   "metadata": {},
   "outputs": [
    {
     "data": {
      "text/plain": [
       "Period('2016-02', 'M')"
      ]
     },
     "execution_count": 186,
     "metadata": {},
     "output_type": "execute_result"
    }
   ],
   "source": [
    "q1.asfreq('M',how='start')"
   ]
  },
  {
   "cell_type": "code",
   "execution_count": 187,
   "id": "a1682aee",
   "metadata": {},
   "outputs": [
    {
     "data": {
      "text/plain": [
       "Period('2017Q2', 'Q-JAN')"
      ]
     },
     "execution_count": 187,
     "metadata": {},
     "output_type": "execute_result"
    }
   ],
   "source": [
    "q1+1"
   ]
  },
  {
   "cell_type": "code",
   "execution_count": 188,
   "id": "5b170779",
   "metadata": {},
   "outputs": [
    {
     "data": {
      "text/plain": [
       "Period('2016-04', 'M')"
      ]
     },
     "execution_count": 188,
     "metadata": {},
     "output_type": "execute_result"
    }
   ],
   "source": [
    "q1.asfreq('M',how='end')"
   ]
  },
  {
   "cell_type": "code",
   "execution_count": 189,
   "id": "7f229c14",
   "metadata": {},
   "outputs": [
    {
     "data": {
      "text/plain": [
       "Period('2017Q1', 'Q-JAN')"
      ]
     },
     "execution_count": 189,
     "metadata": {},
     "output_type": "execute_result"
    }
   ],
   "source": [
    "q2= pd.Period('2017Q2', freq='Q-DEC')\n",
    "q1"
   ]
  },
  {
   "cell_type": "code",
   "execution_count": 190,
   "id": "bab1bc9a",
   "metadata": {},
   "outputs": [
    {
     "data": {
      "text/plain": [
       "Timestamp('2017-04-01 00:00:00')"
      ]
     },
     "execution_count": 190,
     "metadata": {},
     "output_type": "execute_result"
    }
   ],
   "source": [
    "q2.start_time"
   ]
  },
  {
   "cell_type": "code",
   "execution_count": 191,
   "id": "6923f3db",
   "metadata": {},
   "outputs": [
    {
     "data": {
      "text/plain": [
       "Timestamp('2017-06-30 23:59:59.999999999')"
      ]
     },
     "execution_count": 191,
     "metadata": {},
     "output_type": "execute_result"
    }
   ],
   "source": [
    "q2.end_time"
   ]
  },
  {
   "cell_type": "code",
   "execution_count": 192,
   "id": "2b3cd9dc",
   "metadata": {},
   "outputs": [
    {
     "data": {
      "text/plain": [
       "Period('2017-06', 'M')"
      ]
     },
     "execution_count": 192,
     "metadata": {},
     "output_type": "execute_result"
    }
   ],
   "source": [
    "q2.asfreq('M',how='end')"
   ]
  },
  {
   "cell_type": "code",
   "execution_count": 193,
   "id": "6da0fe28",
   "metadata": {},
   "outputs": [
    {
     "data": {
      "text/plain": [
       "Period('2017Q1', 'Q-DEC')"
      ]
     },
     "execution_count": 193,
     "metadata": {},
     "output_type": "execute_result"
    }
   ],
   "source": [
    "q2-1"
   ]
  },
  {
   "cell_type": "code",
   "execution_count": 194,
   "id": "b4375730",
   "metadata": {},
   "outputs": [
    {
     "data": {
      "text/plain": [
       "Period('2017-07-03/2017-07-09', 'W-SUN')"
      ]
     },
     "execution_count": 194,
     "metadata": {},
     "output_type": "execute_result"
    }
   ],
   "source": [
    "w = pd.Period('2017-07-05',freq='W')\n",
    "w"
   ]
  },
  {
   "cell_type": "code",
   "execution_count": 195,
   "id": "79da0a76",
   "metadata": {},
   "outputs": [
    {
     "data": {
      "text/plain": [
       "Period('2017-06-26/2017-07-02', 'W-SUN')"
      ]
     },
     "execution_count": 195,
     "metadata": {},
     "output_type": "execute_result"
    }
   ],
   "source": [
    "w-1"
   ]
  },
  {
   "cell_type": "code",
   "execution_count": 196,
   "id": "29b343b2",
   "metadata": {},
   "outputs": [
    {
     "data": {
      "text/plain": [
       "Period('2017-08-14/2017-08-20', 'W-SUN')"
      ]
     },
     "execution_count": 196,
     "metadata": {},
     "output_type": "execute_result"
    }
   ],
   "source": [
    "w2 = pd.Period('2017-08-15',freq='W')\n",
    "w2"
   ]
  },
  {
   "cell_type": "code",
   "execution_count": 197,
   "id": "a474f2c2",
   "metadata": {},
   "outputs": [
    {
     "data": {
      "text/plain": [
       "<6 * Weeks: weekday=6>"
      ]
     },
     "execution_count": 197,
     "metadata": {},
     "output_type": "execute_result"
    }
   ],
   "source": [
    "w2-w"
   ]
  },
  {
   "cell_type": "code",
   "execution_count": 198,
   "id": "5afd513a",
   "metadata": {},
   "outputs": [
    {
     "data": {
      "text/plain": [
       "PeriodIndex(['2011Q1', '2011Q2', '2011Q3', '2011Q4', '2012Q1', '2012Q2',\n",
       "             '2012Q3', '2012Q4', '2013Q1', '2013Q2', '2013Q3', '2013Q4',\n",
       "             '2014Q1', '2014Q2', '2014Q3', '2014Q4', '2015Q1', '2015Q2',\n",
       "             '2015Q3', '2015Q4', '2016Q1', '2016Q2', '2016Q3', '2016Q4',\n",
       "             '2017Q1'],\n",
       "            dtype='period[Q-DEC]')"
      ]
     },
     "execution_count": 198,
     "metadata": {},
     "output_type": "execute_result"
    }
   ],
   "source": [
    "r = pd.period_range('2011', '2017', freq='q')\n",
    "r"
   ]
  },
  {
   "cell_type": "code",
   "execution_count": 199,
   "id": "6016040a",
   "metadata": {},
   "outputs": [
    {
     "data": {
      "text/plain": [
       "Timestamp('2011-01-01 00:00:00')"
      ]
     },
     "execution_count": 199,
     "metadata": {},
     "output_type": "execute_result"
    }
   ],
   "source": [
    "r[0].start_time"
   ]
  },
  {
   "cell_type": "code",
   "execution_count": 200,
   "id": "a15501e2",
   "metadata": {},
   "outputs": [
    {
     "data": {
      "text/plain": [
       "Timestamp('2011-03-31 23:59:59.999999999')"
      ]
     },
     "execution_count": 200,
     "metadata": {},
     "output_type": "execute_result"
    }
   ],
   "source": [
    "r[0].end_time"
   ]
  },
  {
   "cell_type": "code",
   "execution_count": 201,
   "id": "511bb6c2",
   "metadata": {},
   "outputs": [
    {
     "data": {
      "text/plain": [
       "PeriodIndex(['2011Q4', '2012Q1', '2012Q2', '2012Q3', '2012Q4', '2013Q1',\n",
       "             '2013Q2', '2013Q3', '2013Q4', '2014Q1', '2014Q2', '2014Q3',\n",
       "             '2014Q4', '2015Q1', '2015Q2', '2015Q3', '2015Q4', '2016Q1',\n",
       "             '2016Q2', '2016Q3', '2016Q4', '2017Q1', '2017Q2', '2017Q3',\n",
       "             '2017Q4'],\n",
       "            dtype='period[Q-JAN]')"
      ]
     },
     "execution_count": 201,
     "metadata": {},
     "output_type": "execute_result"
    }
   ],
   "source": [
    "r = pd.period_range('2011', '2017', freq='q-jan')\n",
    "r"
   ]
  },
  {
   "cell_type": "code",
   "execution_count": 202,
   "id": "4a55a099",
   "metadata": {},
   "outputs": [
    {
     "data": {
      "text/plain": [
       "Timestamp('2010-11-01 00:00:00')"
      ]
     },
     "execution_count": 202,
     "metadata": {},
     "output_type": "execute_result"
    }
   ],
   "source": [
    "r[0].start_time"
   ]
  },
  {
   "cell_type": "code",
   "execution_count": 203,
   "id": "04c2043a",
   "metadata": {},
   "outputs": [
    {
     "data": {
      "text/plain": [
       "Timestamp('2011-01-31 23:59:59.999999999')"
      ]
     },
     "execution_count": 203,
     "metadata": {},
     "output_type": "execute_result"
    }
   ],
   "source": [
    "r[0].end_time"
   ]
  },
  {
   "cell_type": "code",
   "execution_count": 215,
   "id": "8e2b0d64",
   "metadata": {},
   "outputs": [
    {
     "data": {
      "text/plain": [
       "2011Q4   -2.696816\n",
       "2012Q1   -0.151349\n",
       "2012Q2   -0.069902\n",
       "2012Q3    0.501930\n",
       "2012Q4    0.346513\n",
       "2013Q1    0.669931\n",
       "2013Q2   -1.551987\n",
       "2013Q3   -1.298371\n",
       "2013Q4   -0.689729\n",
       "2014Q1    0.272643\n",
       "2014Q2   -1.044481\n",
       "2014Q3   -1.884416\n",
       "2014Q4    1.787954\n",
       "2015Q1    1.094999\n",
       "2015Q2   -1.245251\n",
       "2015Q3    0.462347\n",
       "2015Q4   -0.254939\n",
       "2016Q1   -0.580021\n",
       "2016Q2    2.183826\n",
       "2016Q3   -0.883638\n",
       "2016Q4    0.073673\n",
       "2017Q1   -0.787913\n",
       "2017Q2   -3.551805\n",
       "2017Q3    0.084347\n",
       "2017Q4    1.256002\n",
       "Freq: Q-JAN, dtype: float64"
      ]
     },
     "execution_count": 215,
     "metadata": {},
     "output_type": "execute_result"
    }
   ],
   "source": [
    "import numpy as np\n",
    "id=pd.Series(np.random.randn(len(r)),r)\n",
    "id"
   ]
  },
  {
   "cell_type": "code",
   "execution_count": 217,
   "id": "e54facd1",
   "metadata": {},
   "outputs": [
    {
     "data": {
      "text/plain": [
       "PeriodIndex(['2011Q4', '2012Q1', '2012Q2', '2012Q3', '2012Q4', '2013Q1',\n",
       "             '2013Q2', '2013Q3', '2013Q4', '2014Q1', '2014Q2', '2014Q3',\n",
       "             '2014Q4', '2015Q1', '2015Q2', '2015Q3', '2015Q4', '2016Q1',\n",
       "             '2016Q2', '2016Q3', '2016Q4', '2017Q1', '2017Q2', '2017Q3',\n",
       "             '2017Q4'],\n",
       "            dtype='period[Q-JAN]')"
      ]
     },
     "execution_count": 217,
     "metadata": {},
     "output_type": "execute_result"
    }
   ],
   "source": [
    "id.index"
   ]
  },
  {
   "cell_type": "code",
   "execution_count": 219,
   "id": "0a6c9950",
   "metadata": {},
   "outputs": [
    {
     "data": {
      "text/plain": [
       "2010-11-01   -2.696816\n",
       "2011-02-01   -0.151349\n",
       "2011-05-01   -0.069902\n",
       "2011-08-01    0.501930\n",
       "2011-11-01    0.346513\n",
       "2012-02-01    0.669931\n",
       "2012-05-01   -1.551987\n",
       "2012-08-01   -1.298371\n",
       "2012-11-01   -0.689729\n",
       "2013-02-01    0.272643\n",
       "2013-05-01   -1.044481\n",
       "2013-08-01   -1.884416\n",
       "2013-11-01    1.787954\n",
       "2014-02-01    1.094999\n",
       "2014-05-01   -1.245251\n",
       "2014-08-01    0.462347\n",
       "2014-11-01   -0.254939\n",
       "2015-02-01   -0.580021\n",
       "2015-05-01    2.183826\n",
       "2015-08-01   -0.883638\n",
       "2015-11-01    0.073673\n",
       "2016-02-01   -0.787913\n",
       "2016-05-01   -3.551805\n",
       "2016-08-01    0.084347\n",
       "2016-11-01    1.256002\n",
       "Freq: QS-NOV, dtype: float64"
      ]
     },
     "execution_count": 219,
     "metadata": {},
     "output_type": "execute_result"
    }
   ],
   "source": [
    "idx=id.to_timestamp()\n",
    "idx"
   ]
  },
  {
   "cell_type": "code",
   "execution_count": 220,
   "id": "44e8c3ed",
   "metadata": {},
   "outputs": [
    {
     "data": {
      "text/plain": [
       "DatetimeIndex(['2010-11-01', '2011-02-01', '2011-05-01', '2011-08-01',\n",
       "               '2011-11-01', '2012-02-01', '2012-05-01', '2012-08-01',\n",
       "               '2012-11-01', '2013-02-01', '2013-05-01', '2013-08-01',\n",
       "               '2013-11-01', '2014-02-01', '2014-05-01', '2014-08-01',\n",
       "               '2014-11-01', '2015-02-01', '2015-05-01', '2015-08-01',\n",
       "               '2015-11-01', '2016-02-01', '2016-05-01', '2016-08-01',\n",
       "               '2016-11-01'],\n",
       "              dtype='datetime64[ns]', freq='QS-NOV')"
      ]
     },
     "execution_count": 220,
     "metadata": {},
     "output_type": "execute_result"
    }
   ],
   "source": [
    "idx.index"
   ]
  },
  {
   "cell_type": "code",
   "execution_count": 226,
   "id": "893dfddb",
   "metadata": {},
   "outputs": [
    {
     "data": {
      "text/plain": [
       "2010Q4   -2.696816\n",
       "2011Q1   -0.151349\n",
       "2011Q2   -0.069902\n",
       "2011Q3    0.501930\n",
       "2011Q4    0.346513\n",
       "2012Q1    0.669931\n",
       "2012Q2   -1.551987\n",
       "2012Q3   -1.298371\n",
       "2012Q4   -0.689729\n",
       "2013Q1    0.272643\n",
       "2013Q2   -1.044481\n",
       "2013Q3   -1.884416\n",
       "2013Q4    1.787954\n",
       "2014Q1    1.094999\n",
       "2014Q2   -1.245251\n",
       "2014Q3    0.462347\n",
       "2014Q4   -0.254939\n",
       "2015Q1   -0.580021\n",
       "2015Q2    2.183826\n",
       "2015Q3   -0.883638\n",
       "2015Q4    0.073673\n",
       "2016Q1   -0.787913\n",
       "2016Q2   -3.551805\n",
       "2016Q3    0.084347\n",
       "2016Q4    1.256002\n",
       "Freq: Q-DEC, dtype: float64"
      ]
     },
     "execution_count": 226,
     "metadata": {},
     "output_type": "execute_result"
    }
   ],
   "source": [
    "back=idx.to_period()\n",
    "back"
   ]
  },
  {
   "cell_type": "code",
   "execution_count": 235,
   "id": "84a128a6",
   "metadata": {},
   "outputs": [
    {
     "data": {
      "text/html": [
       "<div>\n",
       "<style scoped>\n",
       "    .dataframe tbody tr th:only-of-type {\n",
       "        vertical-align: middle;\n",
       "    }\n",
       "\n",
       "    .dataframe tbody tr th {\n",
       "        vertical-align: top;\n",
       "    }\n",
       "\n",
       "    .dataframe thead th {\n",
       "        text-align: right;\n",
       "    }\n",
       "</style>\n",
       "<table border=\"1\" class=\"dataframe\">\n",
       "  <thead>\n",
       "    <tr style=\"text-align: right;\">\n",
       "      <th></th>\n",
       "      <th>Line Item</th>\n",
       "      <th>2017Q1</th>\n",
       "      <th>2017Q2</th>\n",
       "      <th>2017Q3</th>\n",
       "      <th>2017Q4</th>\n",
       "      <th>2018Q1</th>\n",
       "    </tr>\n",
       "  </thead>\n",
       "  <tbody>\n",
       "    <tr>\n",
       "      <th>0</th>\n",
       "      <td>Revenue</td>\n",
       "      <td>115904</td>\n",
       "      <td>120854</td>\n",
       "      <td>118179</td>\n",
       "      <td>130936</td>\n",
       "      <td>117542</td>\n",
       "    </tr>\n",
       "    <tr>\n",
       "      <th>1</th>\n",
       "      <td>Expenses</td>\n",
       "      <td>86544</td>\n",
       "      <td>89485</td>\n",
       "      <td>87484</td>\n",
       "      <td>97743</td>\n",
       "      <td>87688</td>\n",
       "    </tr>\n",
       "    <tr>\n",
       "      <th>2</th>\n",
       "      <td>Profit</td>\n",
       "      <td>29360</td>\n",
       "      <td>31369</td>\n",
       "      <td>30695</td>\n",
       "      <td>33193</td>\n",
       "      <td>29854</td>\n",
       "    </tr>\n",
       "  </tbody>\n",
       "</table>\n",
       "</div>"
      ],
      "text/plain": [
       "  Line Item  2017Q1  2017Q2  2017Q3  2017Q4  2018Q1\n",
       "0   Revenue  115904  120854  118179  130936  117542\n",
       "1  Expenses   86544   89485   87484   97743   87688\n",
       "2    Profit   29360   31369   30695   33193   29854"
      ]
     },
     "execution_count": 235,
     "metadata": {},
     "output_type": "execute_result"
    }
   ],
   "source": [
    "df=pd.read_csv('wmt.csv')\n",
    "df"
   ]
  },
  {
   "cell_type": "code",
   "execution_count": 236,
   "id": "4f9cd5b4",
   "metadata": {},
   "outputs": [
    {
     "data": {
      "text/html": [
       "<div>\n",
       "<style scoped>\n",
       "    .dataframe tbody tr th:only-of-type {\n",
       "        vertical-align: middle;\n",
       "    }\n",
       "\n",
       "    .dataframe tbody tr th {\n",
       "        vertical-align: top;\n",
       "    }\n",
       "\n",
       "    .dataframe thead th {\n",
       "        text-align: right;\n",
       "    }\n",
       "</style>\n",
       "<table border=\"1\" class=\"dataframe\">\n",
       "  <thead>\n",
       "    <tr style=\"text-align: right;\">\n",
       "      <th></th>\n",
       "      <th>2017Q1</th>\n",
       "      <th>2017Q2</th>\n",
       "      <th>2017Q3</th>\n",
       "      <th>2017Q4</th>\n",
       "      <th>2018Q1</th>\n",
       "    </tr>\n",
       "    <tr>\n",
       "      <th>Line Item</th>\n",
       "      <th></th>\n",
       "      <th></th>\n",
       "      <th></th>\n",
       "      <th></th>\n",
       "      <th></th>\n",
       "    </tr>\n",
       "  </thead>\n",
       "  <tbody>\n",
       "    <tr>\n",
       "      <th>Revenue</th>\n",
       "      <td>115904</td>\n",
       "      <td>120854</td>\n",
       "      <td>118179</td>\n",
       "      <td>130936</td>\n",
       "      <td>117542</td>\n",
       "    </tr>\n",
       "    <tr>\n",
       "      <th>Expenses</th>\n",
       "      <td>86544</td>\n",
       "      <td>89485</td>\n",
       "      <td>87484</td>\n",
       "      <td>97743</td>\n",
       "      <td>87688</td>\n",
       "    </tr>\n",
       "    <tr>\n",
       "      <th>Profit</th>\n",
       "      <td>29360</td>\n",
       "      <td>31369</td>\n",
       "      <td>30695</td>\n",
       "      <td>33193</td>\n",
       "      <td>29854</td>\n",
       "    </tr>\n",
       "  </tbody>\n",
       "</table>\n",
       "</div>"
      ],
      "text/plain": [
       "           2017Q1  2017Q2  2017Q3  2017Q4  2018Q1\n",
       "Line Item                                        \n",
       "Revenue    115904  120854  118179  130936  117542\n",
       "Expenses    86544   89485   87484   97743   87688\n",
       "Profit      29360   31369   30695   33193   29854"
      ]
     },
     "execution_count": 236,
     "metadata": {},
     "output_type": "execute_result"
    }
   ],
   "source": [
    "df.set_index(\"Line Item\", inplace=True)\n",
    "df"
   ]
  },
  {
   "cell_type": "code",
   "execution_count": 237,
   "id": "f3cc2e75",
   "metadata": {},
   "outputs": [
    {
     "data": {
      "text/html": [
       "<div>\n",
       "<style scoped>\n",
       "    .dataframe tbody tr th:only-of-type {\n",
       "        vertical-align: middle;\n",
       "    }\n",
       "\n",
       "    .dataframe tbody tr th {\n",
       "        vertical-align: top;\n",
       "    }\n",
       "\n",
       "    .dataframe thead th {\n",
       "        text-align: right;\n",
       "    }\n",
       "</style>\n",
       "<table border=\"1\" class=\"dataframe\">\n",
       "  <thead>\n",
       "    <tr style=\"text-align: right;\">\n",
       "      <th>Line Item</th>\n",
       "      <th>Revenue</th>\n",
       "      <th>Expenses</th>\n",
       "      <th>Profit</th>\n",
       "    </tr>\n",
       "  </thead>\n",
       "  <tbody>\n",
       "    <tr>\n",
       "      <th>2017Q1</th>\n",
       "      <td>115904</td>\n",
       "      <td>86544</td>\n",
       "      <td>29360</td>\n",
       "    </tr>\n",
       "    <tr>\n",
       "      <th>2017Q2</th>\n",
       "      <td>120854</td>\n",
       "      <td>89485</td>\n",
       "      <td>31369</td>\n",
       "    </tr>\n",
       "    <tr>\n",
       "      <th>2017Q3</th>\n",
       "      <td>118179</td>\n",
       "      <td>87484</td>\n",
       "      <td>30695</td>\n",
       "    </tr>\n",
       "    <tr>\n",
       "      <th>2017Q4</th>\n",
       "      <td>130936</td>\n",
       "      <td>97743</td>\n",
       "      <td>33193</td>\n",
       "    </tr>\n",
       "    <tr>\n",
       "      <th>2018Q1</th>\n",
       "      <td>117542</td>\n",
       "      <td>87688</td>\n",
       "      <td>29854</td>\n",
       "    </tr>\n",
       "  </tbody>\n",
       "</table>\n",
       "</div>"
      ],
      "text/plain": [
       "Line Item  Revenue  Expenses  Profit\n",
       "2017Q1      115904     86544   29360\n",
       "2017Q2      120854     89485   31369\n",
       "2017Q3      118179     87484   30695\n",
       "2017Q4      130936     97743   33193\n",
       "2018Q1      117542     87688   29854"
      ]
     },
     "execution_count": 237,
     "metadata": {},
     "output_type": "execute_result"
    }
   ],
   "source": [
    "df=df.T\n",
    "df"
   ]
  },
  {
   "cell_type": "code",
   "execution_count": 238,
   "id": "17fa116f",
   "metadata": {},
   "outputs": [
    {
     "data": {
      "text/plain": [
       "Index(['2017Q1', '2017Q2', '2017Q3', '2017Q4', '2018Q1'], dtype='object')"
      ]
     },
     "execution_count": 238,
     "metadata": {},
     "output_type": "execute_result"
    }
   ],
   "source": [
    "df.index"
   ]
  },
  {
   "cell_type": "code",
   "execution_count": 239,
   "id": "a06f32d8",
   "metadata": {},
   "outputs": [
    {
     "data": {
      "text/html": [
       "<div>\n",
       "<style scoped>\n",
       "    .dataframe tbody tr th:only-of-type {\n",
       "        vertical-align: middle;\n",
       "    }\n",
       "\n",
       "    .dataframe tbody tr th {\n",
       "        vertical-align: top;\n",
       "    }\n",
       "\n",
       "    .dataframe thead th {\n",
       "        text-align: right;\n",
       "    }\n",
       "</style>\n",
       "<table border=\"1\" class=\"dataframe\">\n",
       "  <thead>\n",
       "    <tr style=\"text-align: right;\">\n",
       "      <th>Line Item</th>\n",
       "      <th>Revenue</th>\n",
       "      <th>Expenses</th>\n",
       "      <th>Profit</th>\n",
       "    </tr>\n",
       "  </thead>\n",
       "  <tbody>\n",
       "    <tr>\n",
       "      <th>2017Q1</th>\n",
       "      <td>115904</td>\n",
       "      <td>86544</td>\n",
       "      <td>29360</td>\n",
       "    </tr>\n",
       "    <tr>\n",
       "      <th>2017Q2</th>\n",
       "      <td>120854</td>\n",
       "      <td>89485</td>\n",
       "      <td>31369</td>\n",
       "    </tr>\n",
       "    <tr>\n",
       "      <th>2017Q3</th>\n",
       "      <td>118179</td>\n",
       "      <td>87484</td>\n",
       "      <td>30695</td>\n",
       "    </tr>\n",
       "    <tr>\n",
       "      <th>2017Q4</th>\n",
       "      <td>130936</td>\n",
       "      <td>97743</td>\n",
       "      <td>33193</td>\n",
       "    </tr>\n",
       "    <tr>\n",
       "      <th>2018Q1</th>\n",
       "      <td>117542</td>\n",
       "      <td>87688</td>\n",
       "      <td>29854</td>\n",
       "    </tr>\n",
       "  </tbody>\n",
       "</table>\n",
       "</div>"
      ],
      "text/plain": [
       "Line Item  Revenue  Expenses  Profit\n",
       "2017Q1      115904     86544   29360\n",
       "2017Q2      120854     89485   31369\n",
       "2017Q3      118179     87484   30695\n",
       "2017Q4      130936     97743   33193\n",
       "2018Q1      117542     87688   29854"
      ]
     },
     "execution_count": 239,
     "metadata": {},
     "output_type": "execute_result"
    }
   ],
   "source": [
    "df.index = pd.PeriodIndex(df.index, freq=\"Q-JAN\")\n",
    "df"
   ]
  },
  {
   "cell_type": "code",
   "execution_count": 240,
   "id": "c6665001",
   "metadata": {},
   "outputs": [
    {
     "data": {
      "text/plain": [
       "PeriodIndex(['2017Q1', '2017Q2', '2017Q3', '2017Q4', '2018Q1'], dtype='period[Q-JAN]')"
      ]
     },
     "execution_count": 240,
     "metadata": {},
     "output_type": "execute_result"
    }
   ],
   "source": [
    "df.index"
   ]
  },
  {
   "cell_type": "code",
   "execution_count": 241,
   "id": "91a40be3",
   "metadata": {},
   "outputs": [
    {
     "data": {
      "text/plain": [
       "Timestamp('2016-08-01 00:00:00')"
      ]
     },
     "execution_count": 241,
     "metadata": {},
     "output_type": "execute_result"
    }
   ],
   "source": [
    "df.index[2].start_time"
   ]
  },
  {
   "cell_type": "code",
   "execution_count": 242,
   "id": "c0c2bec7",
   "metadata": {},
   "outputs": [
    {
     "data": {
      "text/html": [
       "<div>\n",
       "<style scoped>\n",
       "    .dataframe tbody tr th:only-of-type {\n",
       "        vertical-align: middle;\n",
       "    }\n",
       "\n",
       "    .dataframe tbody tr th {\n",
       "        vertical-align: top;\n",
       "    }\n",
       "\n",
       "    .dataframe thead th {\n",
       "        text-align: right;\n",
       "    }\n",
       "</style>\n",
       "<table border=\"1\" class=\"dataframe\">\n",
       "  <thead>\n",
       "    <tr style=\"text-align: right;\">\n",
       "      <th>Line Item</th>\n",
       "      <th>Revenue</th>\n",
       "      <th>Expenses</th>\n",
       "      <th>Profit</th>\n",
       "      <th>Start Date</th>\n",
       "    </tr>\n",
       "  </thead>\n",
       "  <tbody>\n",
       "    <tr>\n",
       "      <th>2017Q1</th>\n",
       "      <td>115904</td>\n",
       "      <td>86544</td>\n",
       "      <td>29360</td>\n",
       "      <td>2016-02-01</td>\n",
       "    </tr>\n",
       "    <tr>\n",
       "      <th>2017Q2</th>\n",
       "      <td>120854</td>\n",
       "      <td>89485</td>\n",
       "      <td>31369</td>\n",
       "      <td>2016-05-01</td>\n",
       "    </tr>\n",
       "    <tr>\n",
       "      <th>2017Q3</th>\n",
       "      <td>118179</td>\n",
       "      <td>87484</td>\n",
       "      <td>30695</td>\n",
       "      <td>2016-08-01</td>\n",
       "    </tr>\n",
       "    <tr>\n",
       "      <th>2017Q4</th>\n",
       "      <td>130936</td>\n",
       "      <td>97743</td>\n",
       "      <td>33193</td>\n",
       "      <td>2016-11-01</td>\n",
       "    </tr>\n",
       "    <tr>\n",
       "      <th>2018Q1</th>\n",
       "      <td>117542</td>\n",
       "      <td>87688</td>\n",
       "      <td>29854</td>\n",
       "      <td>2017-02-01</td>\n",
       "    </tr>\n",
       "  </tbody>\n",
       "</table>\n",
       "</div>"
      ],
      "text/plain": [
       "Line Item  Revenue  Expenses  Profit Start Date\n",
       "2017Q1      115904     86544   29360 2016-02-01\n",
       "2017Q2      120854     89485   31369 2016-05-01\n",
       "2017Q3      118179     87484   30695 2016-08-01\n",
       "2017Q4      130936     97743   33193 2016-11-01\n",
       "2018Q1      117542     87688   29854 2017-02-01"
      ]
     },
     "execution_count": 242,
     "metadata": {},
     "output_type": "execute_result"
    }
   ],
   "source": [
    "df[\"Start Date\"]=df.index.map(lambda x: x.start_time)\n",
    "df"
   ]
  },
  {
   "cell_type": "code",
   "execution_count": 246,
   "id": "07ebd7e0",
   "metadata": {},
   "outputs": [
    {
     "data": {
      "text/html": [
       "<div>\n",
       "<style scoped>\n",
       "    .dataframe tbody tr th:only-of-type {\n",
       "        vertical-align: middle;\n",
       "    }\n",
       "\n",
       "    .dataframe tbody tr th {\n",
       "        vertical-align: top;\n",
       "    }\n",
       "\n",
       "    .dataframe thead th {\n",
       "        text-align: right;\n",
       "    }\n",
       "</style>\n",
       "<table border=\"1\" class=\"dataframe\">\n",
       "  <thead>\n",
       "    <tr style=\"text-align: right;\">\n",
       "      <th>Line Item</th>\n",
       "      <th>Revenue</th>\n",
       "      <th>Expenses</th>\n",
       "      <th>Profit</th>\n",
       "      <th>Start Date</th>\n",
       "      <th>End Date</th>\n",
       "    </tr>\n",
       "  </thead>\n",
       "  <tbody>\n",
       "    <tr>\n",
       "      <th>2017Q1</th>\n",
       "      <td>115904</td>\n",
       "      <td>86544</td>\n",
       "      <td>29360</td>\n",
       "      <td>2016-02-01</td>\n",
       "      <td>2016-04-30 23:59:59.999999999</td>\n",
       "    </tr>\n",
       "    <tr>\n",
       "      <th>2017Q2</th>\n",
       "      <td>120854</td>\n",
       "      <td>89485</td>\n",
       "      <td>31369</td>\n",
       "      <td>2016-05-01</td>\n",
       "      <td>2016-07-31 23:59:59.999999999</td>\n",
       "    </tr>\n",
       "    <tr>\n",
       "      <th>2017Q3</th>\n",
       "      <td>118179</td>\n",
       "      <td>87484</td>\n",
       "      <td>30695</td>\n",
       "      <td>2016-08-01</td>\n",
       "      <td>2016-10-31 23:59:59.999999999</td>\n",
       "    </tr>\n",
       "    <tr>\n",
       "      <th>2017Q4</th>\n",
       "      <td>130936</td>\n",
       "      <td>97743</td>\n",
       "      <td>33193</td>\n",
       "      <td>2016-11-01</td>\n",
       "      <td>2017-01-31 23:59:59.999999999</td>\n",
       "    </tr>\n",
       "    <tr>\n",
       "      <th>2018Q1</th>\n",
       "      <td>117542</td>\n",
       "      <td>87688</td>\n",
       "      <td>29854</td>\n",
       "      <td>2017-02-01</td>\n",
       "      <td>2017-04-30 23:59:59.999999999</td>\n",
       "    </tr>\n",
       "  </tbody>\n",
       "</table>\n",
       "</div>"
      ],
      "text/plain": [
       "Line Item  Revenue  Expenses  Profit Start Date                      End Date\n",
       "2017Q1      115904     86544   29360 2016-02-01 2016-04-30 23:59:59.999999999\n",
       "2017Q2      120854     89485   31369 2016-05-01 2016-07-31 23:59:59.999999999\n",
       "2017Q3      118179     87484   30695 2016-08-01 2016-10-31 23:59:59.999999999\n",
       "2017Q4      130936     97743   33193 2016-11-01 2017-01-31 23:59:59.999999999\n",
       "2018Q1      117542     87688   29854 2017-02-01 2017-04-30 23:59:59.999999999"
      ]
     },
     "execution_count": 246,
     "metadata": {},
     "output_type": "execute_result"
    }
   ],
   "source": [
    "df[\"End Date\"]=df.index.map(lambda x: x.end_time)\n",
    "df"
   ]
  },
  {
   "cell_type": "markdown",
   "id": "8b7735ae",
   "metadata": {},
   "source": [
    "# Time Zone handling"
   ]
  },
  {
   "cell_type": "code",
   "execution_count": 247,
   "id": "33fff944",
   "metadata": {},
   "outputs": [
    {
     "data": {
      "text/html": [
       "<div>\n",
       "<style scoped>\n",
       "    .dataframe tbody tr th:only-of-type {\n",
       "        vertical-align: middle;\n",
       "    }\n",
       "\n",
       "    .dataframe tbody tr th {\n",
       "        vertical-align: top;\n",
       "    }\n",
       "\n",
       "    .dataframe thead th {\n",
       "        text-align: right;\n",
       "    }\n",
       "</style>\n",
       "<table border=\"1\" class=\"dataframe\">\n",
       "  <thead>\n",
       "    <tr style=\"text-align: right;\">\n",
       "      <th></th>\n",
       "      <th>Date</th>\n",
       "      <th>close</th>\n",
       "      <th>volume</th>\n",
       "      <th>open</th>\n",
       "      <th>high</th>\n",
       "      <th>low</th>\n",
       "    </tr>\n",
       "  </thead>\n",
       "  <tbody>\n",
       "    <tr>\n",
       "      <th>0</th>\n",
       "      <td>05/17/2022</td>\n",
       "      <td>266.82</td>\n",
       "      <td>28828800</td>\n",
       "      <td>266.110</td>\n",
       "      <td>268.33</td>\n",
       "      <td>262.46</td>\n",
       "    </tr>\n",
       "    <tr>\n",
       "      <th>1</th>\n",
       "      <td>05/16/2022</td>\n",
       "      <td>261.50</td>\n",
       "      <td>32550930</td>\n",
       "      <td>259.955</td>\n",
       "      <td>265.82</td>\n",
       "      <td>255.78</td>\n",
       "    </tr>\n",
       "    <tr>\n",
       "      <th>2</th>\n",
       "      <td>05/13/2022</td>\n",
       "      <td>261.12</td>\n",
       "      <td>34925090</td>\n",
       "      <td>257.350</td>\n",
       "      <td>263.04</td>\n",
       "      <td>255.35</td>\n",
       "    </tr>\n",
       "    <tr>\n",
       "      <th>3</th>\n",
       "      <td>05-12-2022</td>\n",
       "      <td>255.35</td>\n",
       "      <td>51033800</td>\n",
       "      <td>257.690</td>\n",
       "      <td>259.88</td>\n",
       "      <td>250.02</td>\n",
       "    </tr>\n",
       "    <tr>\n",
       "      <th>4</th>\n",
       "      <td>05-11-2022</td>\n",
       "      <td>260.55</td>\n",
       "      <td>48975900</td>\n",
       "      <td>265.680</td>\n",
       "      <td>271.36</td>\n",
       "      <td>259.30</td>\n",
       "    </tr>\n",
       "    <tr>\n",
       "      <th>...</th>\n",
       "      <td>...</td>\n",
       "      <td>...</td>\n",
       "      <td>...</td>\n",
       "      <td>...</td>\n",
       "      <td>...</td>\n",
       "      <td>...</td>\n",
       "    </tr>\n",
       "    <tr>\n",
       "      <th>248</th>\n",
       "      <td>05/24/2021</td>\n",
       "      <td>250.78</td>\n",
       "      <td>21411550</td>\n",
       "      <td>247.785</td>\n",
       "      <td>251.16</td>\n",
       "      <td>247.51</td>\n",
       "    </tr>\n",
       "    <tr>\n",
       "      <th>249</th>\n",
       "      <td>05/21/2021</td>\n",
       "      <td>245.17</td>\n",
       "      <td>21863060</td>\n",
       "      <td>247.565</td>\n",
       "      <td>248.33</td>\n",
       "      <td>244.74</td>\n",
       "    </tr>\n",
       "    <tr>\n",
       "      <th>250</th>\n",
       "      <td>05/20/2021</td>\n",
       "      <td>246.48</td>\n",
       "      <td>21800720</td>\n",
       "      <td>243.960</td>\n",
       "      <td>247.95</td>\n",
       "      <td>243.86</td>\n",
       "    </tr>\n",
       "    <tr>\n",
       "      <th>251</th>\n",
       "      <td>05/19/2021</td>\n",
       "      <td>243.12</td>\n",
       "      <td>25739810</td>\n",
       "      <td>239.310</td>\n",
       "      <td>243.23</td>\n",
       "      <td>238.60</td>\n",
       "    </tr>\n",
       "    <tr>\n",
       "      <th>252</th>\n",
       "      <td>05/18/2021</td>\n",
       "      <td>243.08</td>\n",
       "      <td>20167980</td>\n",
       "      <td>246.270</td>\n",
       "      <td>246.41</td>\n",
       "      <td>242.90</td>\n",
       "    </tr>\n",
       "  </tbody>\n",
       "</table>\n",
       "<p>253 rows × 6 columns</p>\n",
       "</div>"
      ],
      "text/plain": [
       "           Date   close    volume     open    high     low\n",
       "0    05/17/2022  266.82  28828800  266.110  268.33  262.46\n",
       "1    05/16/2022  261.50  32550930  259.955  265.82  255.78\n",
       "2    05/13/2022  261.12  34925090  257.350  263.04  255.35\n",
       "3    05-12-2022  255.35  51033800  257.690  259.88  250.02\n",
       "4    05-11-2022  260.55  48975900  265.680  271.36  259.30\n",
       "..          ...     ...       ...      ...     ...     ...\n",
       "248  05/24/2021  250.78  21411550  247.785  251.16  247.51\n",
       "249  05/21/2021  245.17  21863060  247.565  248.33  244.74\n",
       "250  05/20/2021  246.48  21800720  243.960  247.95  243.86\n",
       "251  05/19/2021  243.12  25739810  239.310  243.23  238.60\n",
       "252  05/18/2021  243.08  20167980  246.270  246.41  242.90\n",
       "\n",
       "[253 rows x 6 columns]"
      ]
     },
     "execution_count": 247,
     "metadata": {},
     "output_type": "execute_result"
    }
   ],
   "source": [
    "df=pd.read_csv(\"MSFT.csv\")\n",
    "df"
   ]
  },
  {
   "cell_type": "code",
   "execution_count": null,
   "id": "08a50c32",
   "metadata": {},
   "outputs": [],
   "source": []
  },
  {
   "cell_type": "code",
   "execution_count": null,
   "id": "4d2cd259",
   "metadata": {},
   "outputs": [],
   "source": []
  },
  {
   "cell_type": "code",
   "execution_count": null,
   "id": "abae8180",
   "metadata": {},
   "outputs": [],
   "source": []
  },
  {
   "cell_type": "code",
   "execution_count": null,
   "id": "99580327",
   "metadata": {},
   "outputs": [],
   "source": []
  },
  {
   "cell_type": "code",
   "execution_count": null,
   "id": "68125547",
   "metadata": {},
   "outputs": [],
   "source": []
  },
  {
   "cell_type": "code",
   "execution_count": null,
   "id": "a084ae38",
   "metadata": {},
   "outputs": [],
   "source": []
  },
  {
   "cell_type": "code",
   "execution_count": null,
   "id": "559f7a9a",
   "metadata": {},
   "outputs": [],
   "source": []
  },
  {
   "cell_type": "code",
   "execution_count": null,
   "id": "206f8cf5",
   "metadata": {},
   "outputs": [],
   "source": []
  },
  {
   "cell_type": "code",
   "execution_count": null,
   "id": "707df0cc",
   "metadata": {},
   "outputs": [],
   "source": []
  },
  {
   "cell_type": "code",
   "execution_count": null,
   "id": "65eec712",
   "metadata": {},
   "outputs": [],
   "source": []
  },
  {
   "cell_type": "code",
   "execution_count": null,
   "id": "5efd44fc",
   "metadata": {},
   "outputs": [],
   "source": []
  },
  {
   "cell_type": "code",
   "execution_count": null,
   "id": "362e5f6c",
   "metadata": {},
   "outputs": [],
   "source": []
  }
 ],
 "metadata": {
  "kernelspec": {
   "display_name": "Python 3 (ipykernel)",
   "language": "python",
   "name": "python3"
  },
  "language_info": {
   "codemirror_mode": {
    "name": "ipython",
    "version": 3
   },
   "file_extension": ".py",
   "mimetype": "text/x-python",
   "name": "python",
   "nbconvert_exporter": "python",
   "pygments_lexer": "ipython3",
   "version": "3.9.7"
  }
 },
 "nbformat": 4,
 "nbformat_minor": 5
}
