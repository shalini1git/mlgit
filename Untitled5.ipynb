{
 "cells": [
  {
   "cell_type": "code",
   "execution_count": 2,
   "id": "10107b31",
   "metadata": {},
   "outputs": [
    {
     "name": "stdout",
     "output_type": "stream",
     "text": [
      "1.20.3\n",
      "0.24.2\n",
      "1.7.1\n",
      "0.11.2\n",
      "1.3.4\n"
     ]
    }
   ],
   "source": [
    "import numpy as np\n",
    "import sklearn as sk\n",
    "import matplotlib.pyplot as plt\n",
    "%matplotlib inline\n",
    "import scipy as sc\n",
    "import seaborn as sb\n",
    "import pandas as pd\n",
    "print (np.__version__)\n",
    "print (sk.__version__)\n",
    "#print (plt.__version__)\n",
    "print (sc.__version__)\n",
    "print (sb.__version__)\n",
    "print (pd.__version__)"
   ]
  },
  {
   "cell_type": "code",
   "execution_count": 16,
   "id": "ff301573",
   "metadata": {},
   "outputs": [
    {
     "data": {
      "text/html": [
       "<div>\n",
       "<style scoped>\n",
       "    .dataframe tbody tr th:only-of-type {\n",
       "        vertical-align: middle;\n",
       "    }\n",
       "\n",
       "    .dataframe tbody tr th {\n",
       "        vertical-align: top;\n",
       "    }\n",
       "\n",
       "    .dataframe thead th {\n",
       "        text-align: right;\n",
       "    }\n",
       "</style>\n",
       "<table border=\"1\" class=\"dataframe\">\n",
       "  <thead>\n",
       "    <tr style=\"text-align: right;\">\n",
       "      <th></th>\n",
       "      <th>value2</th>\n",
       "      <th>value4</th>\n",
       "      <th>value6</th>\n",
       "      <th>value8</th>\n",
       "      <th>value10</th>\n",
       "    </tr>\n",
       "    <tr>\n",
       "      <th>value</th>\n",
       "      <th></th>\n",
       "      <th></th>\n",
       "      <th></th>\n",
       "      <th></th>\n",
       "      <th></th>\n",
       "    </tr>\n",
       "  </thead>\n",
       "  <tbody>\n",
       "    <tr>\n",
       "      <th>Da0</th>\n",
       "      <td>0.050</td>\n",
       "      <td>0.049</td>\n",
       "      <td>0.0491</td>\n",
       "      <td>0.0469</td>\n",
       "      <td>0.0459</td>\n",
       "    </tr>\n",
       "    <tr>\n",
       "      <th>lrc</th>\n",
       "      <td>6.222</td>\n",
       "      <td>6.344</td>\n",
       "      <td>6.4660</td>\n",
       "      <td>6.5880</td>\n",
       "      <td>6.7100</td>\n",
       "    </tr>\n",
       "    <tr>\n",
       "      <th>wrc</th>\n",
       "      <td>2.346</td>\n",
       "      <td>2.392</td>\n",
       "      <td>2.4380</td>\n",
       "      <td>2.4840</td>\n",
       "      <td>2.5300</td>\n",
       "    </tr>\n",
       "    <tr>\n",
       "      <th>frc</th>\n",
       "      <td>0.747</td>\n",
       "      <td>0.731</td>\n",
       "      <td>0.7160</td>\n",
       "      <td>0.7010</td>\n",
       "      <td>0.6864</td>\n",
       "    </tr>\n",
       "    <tr>\n",
       "      <th>Qa0Abs</th>\n",
       "      <td>1619.200</td>\n",
       "      <td>1683.300</td>\n",
       "      <td>1748.7000</td>\n",
       "      <td>1815.3000</td>\n",
       "      <td>1883.1000</td>\n",
       "    </tr>\n",
       "  </tbody>\n",
       "</table>\n",
       "</div>"
      ],
      "text/plain": [
       "          value2    value4     value6     value8    value10\n",
       "value                                                      \n",
       "Da0        0.050     0.049     0.0491     0.0469     0.0459\n",
       "lrc        6.222     6.344     6.4660     6.5880     6.7100\n",
       "wrc        2.346     2.392     2.4380     2.4840     2.5300\n",
       "frc        0.747     0.731     0.7160     0.7010     0.6864\n",
       "Qa0Abs  1619.200  1683.300  1748.7000  1815.3000  1883.1000"
      ]
     },
     "execution_count": 16,
     "metadata": {},
     "output_type": "execute_result"
    }
   ],
   "source": [
    "data1=pd.read_csv('data2.csv',index_col='value')\n",
    "#data1.head()\n",
    "#data1.set_index(\"value\", inplace=True)\n",
    "data1.head()"
   ]
  },
  {
   "cell_type": "code",
   "execution_count": 23,
   "id": "c38101a0",
   "metadata": {},
   "outputs": [
    {
     "data": {
      "text/plain": [
       "<AxesSubplot:>"
      ]
     },
     "execution_count": 23,
     "metadata": {},
     "output_type": "execute_result"
    },
    {
     "data": {
      "image/png": "[encoded data removed]",
      "text/plain": [
       "<Figure size 864x432 with 2 Axes>"
      ]
     },
     "metadata": {
      "needs_background": "light"
     },
     "output_type": "display_data"
    }
   ],
   "source": [
    "fig=plt.figure(figsize=(12,6))\n",
    "sb.heatmap(data1.corr(method='pearson'),annot=True,cmap='viridis')"
   ]
  }
 ],
 "metadata": {
  "kernelspec": {
   "display_name": "Python 3 (ipykernel)",
   "language": "python",
   "name": "python3"
  },
  "language_info": {
   "codemirror_mode": {
    "name": "ipython",
    "version": 3
   },
   "file_extension": ".py",
   "mimetype": "text/x-python",
   "name": "python",
   "nbconvert_exporter": "python",
   "pygments_lexer": "ipython3",
   "version": "3.9.7"
  }
 },
 "nbformat": 4,
 "nbformat_minor": 5
}
