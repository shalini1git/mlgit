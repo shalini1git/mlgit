{
 "cells": [
  {
   "cell_type": "code",
   "execution_count": 1,
   "id": "f557b8b6",
   "metadata": {},
   "outputs": [
    {
     "name": "stdout",
     "output_type": "stream",
     "text": [
      "2.6.0\n",
      "4.0\n",
      "[ 1.3   1.    4.   23.99]\n"
     ]
    }
   ],
   "source": [
    "import tensorflow as tf\n",
    "print (tf.__version__)\n",
    "import numpy as np\n",
    "tensor_1d=np.array([1.3, 1, 4.0, 23.99])\n",
    "print (tensor_1d[2])\n",
    "print (tensor_1d)"
   ]
  },
  {
   "cell_type": "code",
   "execution_count": 2,
   "id": "3d5d1478",
   "metadata": {},
   "outputs": [
    {
     "name": "stdout",
     "output_type": "stream",
     "text": [
      "[[ 1  2  3  4]\n",
      " [ 4  5  6  7]\n",
      " [ 8  9 10 11]\n",
      " [12 13 14 15]]\n",
      "15\n"
     ]
    }
   ],
   "source": [
    "import numpy as np\n",
    "tensor_2d = np.array([(1,2,3,4),(4,5,6,7),(8,9,10,11),(12,13,14,15)])\n",
    "print(tensor_2d)\n",
    "print(tensor_2d[3][3])\n"
   ]
  },
  {
   "cell_type": "code",
   "execution_count": 16,
   "id": "a05b2465",
   "metadata": {},
   "outputs": [
    {
     "name": "stdout",
     "output_type": "stream",
     "text": [
      "[[2 2 2]\n",
      " [3 3 3]\n",
      " [2 2 2]]\n",
      "[[1 1 1]\n",
      " [1 1 1]\n",
      " [1 1 1]]\n",
      "[[2. 7. 2.]\n",
      " [1. 4. 2.]\n",
      " [9. 0. 2.]]\n",
      "[[6 6 6]\n",
      " [9 9 9]\n",
      " [6 6 6]]\n",
      "[[3 3 3]\n",
      " [4 4 4]\n",
      " [3 3 3]]\n",
      "55.99999999999997\n"
     ]
    }
   ],
   "source": [
    "import tensorflow as tf\n",
    "import numpy as np\n",
    "mat1 = np.array([(2,2,2),(3,3,3),(2,2,2)],dtype=int)\n",
    "mat2 = np.array([(1,1,1),(1,1,1),(1,1,1)],dtype=int)\n",
    "print(mat1)\n",
    "print(mat2)\n",
    "mat1=tf.constant(mat1)\n",
    "mat2=tf.constant(mat2)\n",
    "mat_mul=tf.matmul(mat1,mat2)\n",
    "mat_add=tf.add(mat1,mat2)\n",
    "mat3 = np.array([(2,7,2),(1,4,2),(9,0,2)],dtype=float)\n",
    "print (mat3)\n",
    "mat_det=tf.linalg.det(mat3)\n",
    "with tf.compat.v1.Session() as sess:\n",
    "    res1=sess.run(mat_mul)\n",
    "    res2=sess.run(mat_add)\n",
    "    res3=sess.run(mat_det)\n",
    "print(res1)\n",
    "print(res2)\n",
    "print(res3)"
   ]
  },
  {
   "cell_type": "markdown",
   "id": "5cca6441",
   "metadata": {},
   "source": [
    "# OR"
   ]
  },
  {
   "cell_type": "code",
   "execution_count": 15,
   "id": "96d347db",
   "metadata": {},
   "outputs": [
    {
     "name": "stdout",
     "output_type": "stream",
     "text": [
      "[[2 2 2]\n",
      " [3 3 3]\n",
      " [2 2 2]]\n",
      "[[1 1 1]\n",
      " [1 1 1]\n",
      " [1 1 1]]\n",
      "[[2. 7. 2.]\n",
      " [1. 4. 2.]\n",
      " [9. 0. 2.]]\n",
      "[[6 6 6]\n",
      " [9 9 9]\n",
      " [6 6 6]]\n",
      "[[3 3 3]\n",
      " [4 4 4]\n",
      " [3 3 3]]\n",
      "55.99999999999997\n"
     ]
    }
   ],
   "source": [
    "import tensorflow as tf\n",
    "import numpy as np\n",
    "mat1 = np.array([(2,2,2),(3,3,3),(2,2,2)],dtype=int)\n",
    "mat2 = np.array([(1,1,1),(1,1,1),(1,1,1)],dtype=int)\n",
    "print(mat1)\n",
    "print(mat2)\n",
    "#mat1=tf.constant(mat1)\n",
    "#mat2=tf.constant(mat2)\n",
    "mat_mul=tf.matmul(mat1,mat2)\n",
    "mat_add=tf.add(mat1,mat2)\n",
    "mat3 = np.array([(2,7,2),(1,4,2),(9,0,2)],dtype=float)\n",
    "print (mat3)\n",
    "mat_det=tf.linalg.det(mat3)\n",
    "#tf.compat.v1.disable_eager_execution()\n",
    "sess = tf.compat.v1.Session() \n",
    "res1=sess.run(mat_mul)\n",
    "res2=sess.run(mat_add)\n",
    "res3=sess.run(mat_det)\n",
    "print(res1)\n",
    "print(res2)\n",
    "print(res3)"
   ]
  },
  {
   "cell_type": "markdown",
   "id": "09559ed4",
   "metadata": {},
   "source": [
    "# OR"
   ]
  },
  {
   "cell_type": "code",
   "execution_count": 30,
   "id": "cca6108b",
   "metadata": {},
   "outputs": [
    {
     "name": "stdout",
     "output_type": "stream",
     "text": [
      "[[2 2 2]\n",
      " [3 3 3]\n",
      " [2 2 2]]\n",
      "[[1 1 1]\n",
      " [1 1 1]\n",
      " [1 1 1]]\n",
      "[[2. 7. 2.]\n",
      " [1. 4. 2.]\n",
      " [9. 0. 2.]]\n",
      "[[6 6 6]\n",
      " [9 9 9]\n",
      " [6 6 6]]\n",
      "[[3 3 3]\n",
      " [4 4 4]\n",
      " [3 3 3]]\n",
      "55.999992\n"
     ]
    }
   ],
   "source": [
    "#import tensorflow as tf\n",
    "import numpy as np\n",
    "import tensorflow._api.v2.compat.v1 as tf\n",
    "tf.disable_v2_behavior()\n",
    "matrix1 = np.array([(2,2,2),(3,3,3),(2,2,2)],dtype = 'int32')\n",
    "matrix2 = np.array([(1,1,1),(1,1,1),(1,1,1)],dtype = 'int32')\n",
    "\n",
    "print (matrix1)\n",
    "print (matrix2)\n",
    "\n",
    "matrix1 = tf.constant(matrix1)\n",
    "matrix2 = tf.constant(matrix2)\n",
    "matrix_product = tf.matmul(matrix1, matrix2)\n",
    "matrix_sum = tf.add(matrix1,matrix2)\n",
    "matrix_3 = np.array([(2,7,2),(1,4,2),(9,0,2)],dtype = 'float32')\n",
    "print (matrix_3)\n",
    "\n",
    "matrix_det = tf.matrix_determinant(matrix_3)\n",
    "with tf.Session() as sess:\n",
    "   result1 = sess.run(matrix_product)\n",
    "   result2 = sess.run(matrix_sum)\n",
    "   result3 = sess.run(matrix_det)\n",
    "\n",
    "print (result1)\n",
    "print (result2)\n",
    "print (result3)"
   ]
  },
  {
   "cell_type": "code",
   "execution_count": 13,
   "id": "56e4f780",
   "metadata": {},
   "outputs": [
    {
     "name": "stdout",
     "output_type": "stream",
     "text": [
      "40\n"
     ]
    }
   ],
   "source": [
    "x = tf.constant(35, name='x')\n",
    "y = tf.Variable(x + 5, name='y')\n",
    "\n",
    "model = tf.global_variables_initializer() \n",
    "\n",
    "with tf.Session() as session:\n",
    "    session.run(model)\n",
    "    print(session.run(y))"
   ]
  },
  {
   "cell_type": "code",
   "execution_count": 14,
   "id": "c9a3fb7d",
   "metadata": {},
   "outputs": [
    {
     "name": "stdout",
     "output_type": "stream",
     "text": [
      "WARNING:tensorflow:From C:\\Users\\Shalini-Anubhav\\anaconda3\\envs\\tensor\\lib\\site-packages\\tensorflow\\python\\ops\\variables.py:2883: Variable.initialized_value (from tensorflow.python.ops.variables) is deprecated and will be removed in a future version.\n",
      "Instructions for updating:\n",
      "Use Variable.read_value. Variables in 2.X are initialized automatically both in eager and graph (inside tf.defun) contexts.\n",
      "40\n"
     ]
    }
   ],
   "source": [
    "x = tf.Variable(35, name='x')\n",
    "y = tf.Variable(x + 5, name='y')\n",
    "\n",
    "model = tf.global_variables_initializer() \n",
    "\n",
    "with tf.Session() as session:\n",
    "    session.run(model)\n",
    "    print(session.run(y))"
   ]
  },
  {
   "cell_type": "code",
   "execution_count": 28,
   "id": "f4ad172b",
   "metadata": {},
   "outputs": [
    {
     "name": "stdout",
     "output_type": "stream",
     "text": [
      "<tf.Variable 'Variable_6:0' shape=(3, 1) dtype=float32>\n"
     ]
    }
   ],
   "source": [
    "import tensorflow as tf\n",
    "T,F=1.,-1.\n",
    "B=1.\n",
    "train_in=[\n",
    "         [T,T,B],\n",
    "         [T,F,B],\n",
    "         [F,T,B],\n",
    "         [F,F,B]\n",
    "            ]\n",
    "train_out=[\n",
    "            [T],\n",
    "            [F],\n",
    "            [F],\n",
    "            [F]\n",
    "            ]\n",
    "w=tf.Variable(tf.random.normal([3,1]))\n",
    "print(w)\n"
   ]
  },
  {
   "cell_type": "code",
   "execution_count": 4,
   "id": "5cdb7ebd",
   "metadata": {},
   "outputs": [
    {
     "name": "stdout",
     "output_type": "stream",
     "text": [
      "No. GPU available: 0\n"
     ]
    }
   ],
   "source": [
    "import tensorflow as tf\n",
    "print(\"No. GPU available:\", len(tf.config.experimental.list_physical_devices('GPU')))"
   ]
  },
  {
   "cell_type": "code",
   "execution_count": 7,
   "id": "b266790b",
   "metadata": {},
   "outputs": [],
   "source": [
    "from tensorflow import keras"
   ]
  },
  {
   "cell_type": "code",
   "execution_count": 11,
   "id": "f4aa3502",
   "metadata": {},
   "outputs": [
    {
     "name": "stdout",
     "output_type": "stream",
     "text": [
      "2.6.0\n"
     ]
    }
   ],
   "source": [
    "print(tf.__version__)\n"
   ]
  }
 ],
 "metadata": {
  "kernelspec": {
   "display_name": "Python 3 (ipykernel)",
   "language": "python",
   "name": "python3"
  },
  "language_info": {
   "codemirror_mode": {
    "name": "ipython",
    "version": 3
   },
   "file_extension": ".py",
   "mimetype": "text/x-python",
   "name": "python",
   "nbconvert_exporter": "python",
   "pygments_lexer": "ipython3",
   "version": "3.9.7"
  }
 },
 "nbformat": 4,
 "nbformat_minor": 5
}
