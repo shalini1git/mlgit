{
 "cells": [
  {
   "cell_type": "code",
   "execution_count": 1,
   "id": "cefc0938",
   "metadata": {},
   "outputs": [
    {
     "name": "stdout",
     "output_type": "stream",
     "text": [
      "[1 1 1 2 2 2]\n",
      "[1 1 1 2 2 2]\n",
      "[1 1 1 2 2 2]\n",
      "(6, 6)\n"
     ]
    }
   ],
   "source": [
    "import numpy as np\n",
    ">>> from sklearn.linear_model import LogisticRegression\n",
    ">>> from sklearn.naive_bayes import GaussianNB\n",
    ">>> from sklearn.ensemble import RandomForestClassifier, VotingClassifier\n",
    ">>> clf1 = LogisticRegression(multi_class='multinomial', random_state=1)\n",
    ">>> clf2 = RandomForestClassifier(n_estimators=50, random_state=1)\n",
    ">>> clf3 = GaussianNB()\n",
    ">>> X = np.array([[-1, -1], [-2, -1], [-3, -2], [1, 1], [2, 1], [3, 2]])\n",
    ">>> y = np.array([1, 1, 1, 2, 2, 2])\n",
    ">>> eclf1 = VotingClassifier(estimators=[\n",
    "...         ('lr', clf1), ('rf', clf2), ('gnb', clf3)], voting='hard')\n",
    ">>> eclf1 = eclf1.fit(X, y)\n",
    ">>> print(eclf1.predict(X))\n",
    "#[1 1 1 2 2 2]\n",
    ">>> np.array_equal(eclf1.named_estimators_.lr.predict(X),\n",
    "...                eclf1.named_estimators_['lr'].predict(X))\n",
    "#True\n",
    ">>> eclf2 = VotingClassifier(estimators=[\n",
    "...         ('lr', clf1), ('rf', clf2), ('gnb', clf3)],\n",
    "...         voting='soft')\n",
    ">>> eclf2 = eclf2.fit(X, y)\n",
    ">>> print(eclf2.predict(X))\n",
    "#[1 1 1 2 2 2]\n",
    ">>> eclf3 = VotingClassifier(estimators=[\n",
    "...        ('lr', clf1), ('rf', clf2), ('gnb', clf3)],\n",
    "...        voting='soft', weights=[2,1,1],\n",
    "...        flatten_transform=True)\n",
    ">>> eclf3 = eclf3.fit(X, y)\n",
    ">>> print(eclf3.predict(X))\n",
    "#[1 1 1 2 2 2]\n",
    ">>> print(eclf3.transform(X).shape)\n",
    "#(6, 6)"
   ]
  },
  {
   "cell_type": "code",
   "execution_count": 2,
   "id": "4f5e01f7",
   "metadata": {},
   "outputs": [
    {
     "ename": "AssertionError",
     "evalue": "",
     "output_type": "error",
     "traceback": [
      "\u001b[1;31m---------------------------------------------------------------------------\u001b[0m",
      "\u001b[1;31mAssertionError\u001b[0m                            Traceback (most recent call last)",
      "\u001b[1;32mC:\\Users\\SHALIN~1\\AppData\\Local\\Temp/ipykernel_9732/604311764.py\u001b[0m in \u001b[0;36m<module>\u001b[1;34m\u001b[0m\n\u001b[0;32m      3\u001b[0m     \u001b[1;32massert\u001b[0m\u001b[1;33m(\u001b[0m\u001b[0mb\u001b[0m\u001b[1;33m>\u001b[0m\u001b[0ma\u001b[0m\u001b[1;33m)\u001b[0m\u001b[1;33m\u001b[0m\u001b[1;33m\u001b[0m\u001b[0m\n\u001b[0;32m      4\u001b[0m     \u001b[0mprint\u001b[0m\u001b[1;33m(\u001b[0m\u001b[0ma\u001b[0m\u001b[1;33m/\u001b[0m\u001b[0mb\u001b[0m\u001b[1;33m)\u001b[0m\u001b[1;33m\u001b[0m\u001b[1;33m\u001b[0m\u001b[0m\n\u001b[1;32m----> 5\u001b[1;33m \u001b[0madd\u001b[0m\u001b[1;33m(\u001b[0m\u001b[1;36m4\u001b[0m\u001b[1;33m,\u001b[0m\u001b[1;36m0\u001b[0m\u001b[1;33m)\u001b[0m\u001b[1;33m\u001b[0m\u001b[1;33m\u001b[0m\u001b[0m\n\u001b[0m",
      "\u001b[1;32mC:\\Users\\SHALIN~1\\AppData\\Local\\Temp/ipykernel_9732/604311764.py\u001b[0m in \u001b[0;36madd\u001b[1;34m(a, b)\u001b[0m\n\u001b[0;32m      1\u001b[0m \u001b[1;32mdef\u001b[0m \u001b[0madd\u001b[0m\u001b[1;33m(\u001b[0m\u001b[0ma\u001b[0m\u001b[1;33m,\u001b[0m\u001b[0mb\u001b[0m\u001b[1;33m)\u001b[0m\u001b[1;33m:\u001b[0m\u001b[1;33m\u001b[0m\u001b[1;33m\u001b[0m\u001b[0m\n\u001b[0;32m      2\u001b[0m     \u001b[1;32massert\u001b[0m\u001b[1;33m(\u001b[0m\u001b[0ma\u001b[0m\u001b[1;33m>\u001b[0m\u001b[0mb\u001b[0m\u001b[1;33m)\u001b[0m\u001b[1;33m\u001b[0m\u001b[1;33m\u001b[0m\u001b[0m\n\u001b[1;32m----> 3\u001b[1;33m     \u001b[1;32massert\u001b[0m\u001b[1;33m(\u001b[0m\u001b[0mb\u001b[0m\u001b[1;33m>\u001b[0m\u001b[0ma\u001b[0m\u001b[1;33m)\u001b[0m\u001b[1;33m\u001b[0m\u001b[1;33m\u001b[0m\u001b[0m\n\u001b[0m\u001b[0;32m      4\u001b[0m     \u001b[0mprint\u001b[0m\u001b[1;33m(\u001b[0m\u001b[0ma\u001b[0m\u001b[1;33m/\u001b[0m\u001b[0mb\u001b[0m\u001b[1;33m)\u001b[0m\u001b[1;33m\u001b[0m\u001b[1;33m\u001b[0m\u001b[0m\n\u001b[0;32m      5\u001b[0m \u001b[0madd\u001b[0m\u001b[1;33m(\u001b[0m\u001b[1;36m4\u001b[0m\u001b[1;33m,\u001b[0m\u001b[1;36m0\u001b[0m\u001b[1;33m)\u001b[0m\u001b[1;33m\u001b[0m\u001b[1;33m\u001b[0m\u001b[0m\n",
      "\u001b[1;31mAssertionError\u001b[0m: "
     ]
    }
   ],
   "source": [
    "def add(a,b):\n",
    "    assert(a>b)\n",
    "    assert(b>a)\n",
    "    print(a/b)\n",
    "add(4,0)"
   ]
  },
  {
   "cell_type": "code",
   "execution_count": 1,
   "id": "e053d2b2",
   "metadata": {},
   "outputs": [
    {
     "ename": "IndentationError",
     "evalue": "expected an indented block (Temp/ipykernel_6092/2180215173.py, line 6)",
     "output_type": "error",
     "traceback": [
      "\u001b[1;36m  File \u001b[1;32m\"C:\\Users\\SHALIN~1\\AppData\\Local\\Temp/ipykernel_6092/2180215173.py\"\u001b[1;36m, line \u001b[1;32m6\u001b[0m\n\u001b[1;33m    pass\u001b[0m\n\u001b[1;37m    ^\u001b[0m\n\u001b[1;31mIndentationError\u001b[0m\u001b[1;31m:\u001b[0m expected an indented block\n"
     ]
    }
   ],
   "source": [
    "class A:\n",
    "    def __init__(s):\n",
    "        self.s=s\n",
    "        \n",
    "        def print():\n",
    "        pass\n",
    "        a=A('John')\n",
    "        a.print()"
   ]
  },
  {
   "cell_type": "markdown",
   "id": "cb972309",
   "metadata": {},
   "source": [
    "lst=[]\n",
    " \n",
    "num = int(input('How many numbers: '))\n",
    " \n",
    "\n",
    "numbers = int(input('Enter number '))\n",
    "for n in range(num):\n",
    "    lst.append(numbers)\n",
    "     \n",
    "print(\"Maximum element in the list is :\", min(lst))\n"
   ]
  },
  {
   "cell_type": "code",
   "execution_count": null,
   "id": "af6bd079",
   "metadata": {},
   "outputs": [],
   "source": [
    "lst = []\n",
    " \n",
    "num = int(input('How many numbers: '))\n",
    " \n",
    "\n",
    "#numbers = int(input('Enter number '))\n",
    "for n in range(num):\n",
    "    lst.append(input('enter numbers'))\n",
    "     \n",
    "print(\"Minimum element in the list is :\", min(lst))"
   ]
  },
  {
   "cell_type": "code",
   "execution_count": null,
   "id": "7aa4ffe2",
   "metadata": {},
   "outputs": [],
   "source": [
    "def check(x):\n",
    "    sum=0\n",
    "    for i in range(1,x//2+1):\n",
    "        if x%i==0:\n",
    "            sum+=i\n",
    "    if sum==x:\n",
    "        return 'Yes'\n",
    "    return 'No'\n",
    "test_cases = int(input('enter'))\n",
    "list=list()\n",
    "for i in range (test_cases):\n",
    "    list.append(int(input()))\n",
    "print('\\n------------\\n')\n",
    "for i in list:\n",
    "    print(check(i))"
   ]
  },
  {
   "cell_type": "code",
   "execution_count": 6,
   "id": "4bc9a8b8",
   "metadata": {},
   "outputs": [
    {
     "name": "stdout",
     "output_type": "stream",
     "text": [
      "True\n"
     ]
    }
   ],
   "source": [
    "colors = ['white', 'Black', 'Grey']\n",
    "x = 'Red' not in colors\n",
    "print (x)"
   ]
  },
  {
   "cell_type": "code",
   "execution_count": 14,
   "id": "4d7fe36a",
   "metadata": {},
   "outputs": [
    {
     "name": "stdout",
     "output_type": "stream",
     "text": [
      "112\n",
      "<class 'int'>\n",
      "28\n"
     ]
    }
   ],
   "source": [
    "import sys\n",
    "val1=112\n",
    "print(val1)\n",
    "print(type(val1))\n",
    "print(sys.getsizeof(val1))"
   ]
  },
  {
   "cell_type": "code",
   "execution_count": 15,
   "id": "e43b1f57",
   "metadata": {},
   "outputs": [
    {
     "data": {
      "text/plain": [
       "24"
      ]
     },
     "execution_count": 15,
     "metadata": {},
     "output_type": "execute_result"
    }
   ],
   "source": [
    "sys.getsizeof(int())"
   ]
  },
  {
   "cell_type": "code",
   "execution_count": 21,
   "id": "319026eb",
   "metadata": {},
   "outputs": [
    {
     "name": "stdout",
     "output_type": "stream",
     "text": [
      "My favourite series is \"Game of Thrones\"\n"
     ]
    }
   ],
   "source": [
    "mystr='My favourite series is \"Game of Thrones\"'\n",
    "print(mystr)"
   ]
  },
  {
   "cell_type": "code",
   "execution_count": 29,
   "id": "e6f6b7cd",
   "metadata": {},
   "outputs": [
    {
     "data": {
      "text/plain": [
       "['one', 'two', 'three', 'four', 'five', 'six', 'seven', 'eight']"
      ]
     },
     "execution_count": 29,
     "metadata": {},
     "output_type": "execute_result"
    }
   ],
   "source": [
    "mylist=['one','two','three','four','five','six','seven','eight']\n",
    "mylist"
   ]
  },
  {
   "cell_type": "code",
   "execution_count": 30,
   "id": "7c21c5a3",
   "metadata": {},
   "outputs": [
    {
     "data": {
      "text/plain": [
       "['one', 'two', 'three', 'four', 'five', 'six', 'seven', 'eight', 'ten']"
      ]
     },
     "execution_count": 30,
     "metadata": {},
     "output_type": "execute_result"
    }
   ],
   "source": [
    "mylist.insert(8,'ten')# Add item at index location 9\n",
    "mylist"
   ]
  },
  {
   "cell_type": "code",
   "execution_count": 1,
   "id": "4f97ea1a",
   "metadata": {},
   "outputs": [
    {
     "ename": "NameError",
     "evalue": "name 'mylist' is not defined",
     "output_type": "error",
     "traceback": [
      "\u001b[1;31m---------------------------------------------------------------------------\u001b[0m",
      "\u001b[1;31mNameError\u001b[0m                                 Traceback (most recent call last)",
      "\u001b[1;32mC:\\Users\\SHALIN~1\\AppData\\Local\\Temp/ipykernel_9796/3690787941.py\u001b[0m in \u001b[0;36m<module>\u001b[1;34m\u001b[0m\n\u001b[1;32m----> 1\u001b[1;33m \u001b[0mmylist\u001b[0m\u001b[1;33m.\u001b[0m\u001b[0minsert\u001b[0m\u001b[1;33m(\u001b[0m\u001b[1;36m9\u001b[0m\u001b[1;33m,\u001b[0m\u001b[1;34m'tens'\u001b[0m\u001b[1;33m)\u001b[0m\u001b[1;31m# Add item at index location 9\u001b[0m\u001b[1;33m\u001b[0m\u001b[1;33m\u001b[0m\u001b[0m\n\u001b[0m\u001b[0;32m      2\u001b[0m \u001b[0mmylist\u001b[0m\u001b[1;33m\u001b[0m\u001b[1;33m\u001b[0m\u001b[0m\n",
      "\u001b[1;31mNameError\u001b[0m: name 'mylist' is not defined"
     ]
    }
   ],
   "source": [
    "mylist.insert(9,'tens')# Add item at index location 9\n",
    "mylist"
   ]
  },
  {
   "cell_type": "code",
   "execution_count": 9,
   "id": "96ed6b34",
   "metadata": {},
   "outputs": [
    {
     "name": "stdout",
     "output_type": "stream",
     "text": [
      "(3, 78, 50, 32, 88, 31, 0.248, 26)\n",
      "(3, 78, 50, 32, 88, 31, 0.248, 26)\n"
     ]
    },
    {
     "data": {
      "text/plain": [
       "array([[ 3.   ],\n",
       "       [78.   ],\n",
       "       [50.   ],\n",
       "       [32.   ],\n",
       "       [88.   ],\n",
       "       [31.   ],\n",
       "       [ 0.248],\n",
       "       [26.   ]])"
      ]
     },
     "execution_count": 9,
     "metadata": {},
     "output_type": "execute_result"
    }
   ],
   "source": [
    "import numpy as np\n",
    "input=(3,78,50,32,88,31,0.248,26)\n",
    "print(input)\n",
    "input_array=np.asarray(input)\n",
    "print(input)\n",
    "input_reshape=input_array.reshape(-1,1)\n",
    "input_reshape"
   ]
  },
  {
   "cell_type": "code",
   "execution_count": 1,
   "id": "ed4d382f",
   "metadata": {},
   "outputs": [
    {
     "name": "stdout",
     "output_type": "stream",
     "text": [
      "(3, 78, 50, 32, 88, 31, 0.248, 26)\n",
      "(3, 78, 50, 32, 88, 31, 0.248, 26)\n"
     ]
    },
    {
     "data": {
      "text/plain": [
       "array([[ 3.   , 78.   , 50.   , 32.   , 88.   , 31.   ,  0.248, 26.   ]])"
      ]
     },
     "execution_count": 1,
     "metadata": {},
     "output_type": "execute_result"
    }
   ],
   "source": [
    "import numpy as np\n",
    "input=(3,78,50,32,88,31,0.248,26)\n",
    "print(input)\n",
    "input_array=np.asarray(input)\n",
    "print(input)\n",
    "input_reshape=input_array.reshape(1,-1)\n",
    "input_reshape"
   ]
  },
  {
   "cell_type": "code",
   "execution_count": 5,
   "id": "f7d5719f",
   "metadata": {},
   "outputs": [
    {
     "name": "stdout",
     "output_type": "stream",
     "text": [
      "[19, 24, 25, 32, 54]\n"
     ]
    }
   ],
   "source": [
    "l=[24,32,54,19,25]\n",
    "l.sort(reverse=False)\n",
    "print (l)"
   ]
  },
  {
   "cell_type": "code",
   "execution_count": 8,
   "id": "58b7da9f",
   "metadata": {},
   "outputs": [
    {
     "name": "stdout",
     "output_type": "stream",
     "text": [
      "101\n",
      "103\n",
      "107\n",
      "109\n",
      "113\n",
      "127\n",
      "131\n",
      "137\n",
      "139\n",
      "149\n",
      "151\n",
      "157\n",
      "163\n",
      "167\n",
      "173\n",
      "179\n",
      "181\n",
      "191\n",
      "193\n",
      "197\n",
      "199\n"
     ]
    }
   ],
   "source": [
    "for num in range (100,200):\n",
    "    if all(num%i!=0 for i in range (2,num)):\n",
    "        print(num)"
   ]
  },
  {
   "cell_type": "code",
   "execution_count": 11,
   "id": "cd491cf3",
   "metadata": {},
   "outputs": [
    {
     "name": "stdout",
     "output_type": "stream",
     "text": [
      "0\n",
      "1\n",
      "1\n",
      "2\n",
      "3\n",
      "5\n",
      "8\n",
      "13\n",
      "21\n",
      "34\n",
      "55\n",
      "89\n"
     ]
    }
   ],
   "source": [
    "def F(n):\n",
    "    if n==0:\n",
    "        return 0\n",
    "    elif n==1:\n",
    "        return 1\n",
    "    else:\n",
    "        return F(n-1)+F(n-2)\n",
    "for i in range(0,12):\n",
    "    print (F(i))\n",
    "    "
   ]
  },
  {
   "cell_type": "code",
   "execution_count": 20,
   "id": "b0c9bb27",
   "metadata": {},
   "outputs": [
    {
     "data": {
      "text/plain": [
       "[6, 5, 4, 3, 2, 1]"
      ]
     },
     "execution_count": 20,
     "metadata": {},
     "output_type": "execute_result"
    }
   ],
   "source": [
    "list=[1,2,3,4,5,6]\n",
    "list.reverse()\n",
    "list\n",
    "            "
   ]
  },
  {
   "cell_type": "code",
   "execution_count": 22,
   "id": "0dbad437",
   "metadata": {},
   "outputs": [
    {
     "data": {
      "text/plain": [
       "[6, 5, 4, 3, 2, 1]"
      ]
     },
     "execution_count": 22,
     "metadata": {},
     "output_type": "execute_result"
    }
   ],
   "source": [
    "list=[1,2,3,4,5,6]\n",
    "new=list[::-1]\n",
    "new\n"
   ]
  },
  {
   "cell_type": "code",
   "execution_count": 24,
   "id": "e52ce1be",
   "metadata": {},
   "outputs": [
    {
     "name": "stdout",
     "output_type": "stream",
     "text": [
      "[15, 14, 13, 12, 11, 10]\n"
     ]
    }
   ],
   "source": [
    "def Reverse(lst):\n",
    "    new_lst = lst[::-1]\n",
    "    return new_lst\n",
    "     \n",
    "lst = [10, 11, 12, 13, 14, 15]\n",
    "print(Reverse(lst))"
   ]
  },
  {
   "cell_type": "code",
   "execution_count": 29,
   "id": "2cd568fd",
   "metadata": {},
   "outputs": [
    {
     "ename": "SyntaxError",
     "evalue": "invalid syntax (Temp/ipykernel_9592/3313252405.py, line 2)",
     "output_type": "error",
     "traceback": [
      "\u001b[1;36m  File \u001b[1;32m\"C:\\Users\\SHALIN~1\\AppData\\Local\\Temp/ipykernel_9592/3313252405.py\"\u001b[1;36m, line \u001b[1;32m2\u001b[0m\n\u001b[1;33m    rev=.join(reversed(s))\u001b[0m\n\u001b[1;37m        ^\u001b[0m\n\u001b[1;31mSyntaxError\u001b[0m\u001b[1;31m:\u001b[0m invalid syntax\n"
     ]
    }
   ],
   "source": [
    "def ispal(s):\n",
    "    rev=.join(reversed(s))\n",
    "    if (s==rev):\n",
    "        return True \n",
    "    return False\n",
    "ispal('madam')\n"
   ]
  },
  {
   "cell_type": "code",
   "execution_count": 40,
   "id": "2b251867",
   "metadata": {},
   "outputs": [
    {
     "name": "stdout",
     "output_type": "stream",
     "text": [
      "{11, 12}\n"
     ]
    }
   ],
   "source": [
    "lst = [11, 11, 12, 12, 14, 15]\n",
    "print(set(x for x in lst if lst.count(x)>1))"
   ]
  },
  {
   "cell_type": "code",
   "execution_count": 42,
   "id": "d38cd96e",
   "metadata": {},
   "outputs": [
    {
     "name": "stdout",
     "output_type": "stream",
     "text": [
      "Yes\n"
     ]
    }
   ],
   "source": [
    "def isPalindrome(s):\n",
    "    return s == s[::-1]\n",
    " \n",
    " \n",
    "# Driver code\n",
    "s = \"malayalam\"\n",
    "ans = isPalindrome(s)\n",
    " \n",
    "if ans:\n",
    "    print(\"Yes\")\n",
    "else:\n",
    "    print(\"No\")"
   ]
  },
  {
   "cell_type": "code",
   "execution_count": 44,
   "id": "cd5f0b0c",
   "metadata": {},
   "outputs": [
    {
     "data": {
      "text/plain": [
       "True"
      ]
     },
     "execution_count": 44,
     "metadata": {},
     "output_type": "execute_result"
    }
   ],
   "source": [
    "def isPalindrome(s):\n",
    "    return s == s[::-1]\n",
    " \n",
    " \n",
    "# Driver code\n",
    "s = \"malayalam\"\n",
    "ans = isPalindrome(s)\n",
    " \n",
    "ans"
   ]
  }
 ],
 "metadata": {
  "kernelspec": {
   "display_name": "Python 3 (ipykernel)",
   "language": "python",
   "name": "python3"
  },
  "language_info": {
   "codemirror_mode": {
    "name": "ipython",
    "version": 3
   },
   "file_extension": ".py",
   "mimetype": "text/x-python",
   "name": "python",
   "nbconvert_exporter": "python",
   "pygments_lexer": "ipython3",
   "version": "3.9.7"
  }
 },
 "nbformat": 4,
 "nbformat_minor": 5
}
