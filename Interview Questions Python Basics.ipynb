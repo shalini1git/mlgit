{
 "cells": [
  {
   "cell_type": "markdown",
   "metadata": {},
   "source": [
    "### To test basic Coding abilities and logic"
   ]
  },
  {
   "cell_type": "markdown",
   "metadata": {},
   "source": [
    "#### Question 1) Find common elements between two lists of 10k numbers each"
   ]
  },
  {
   "cell_type": "code",
   "execution_count": null,
   "metadata": {
    "ExecuteTime": {
     "end_time": "2020-11-13T09:05:07.380381Z",
     "start_time": "2020-11-13T09:05:07.367243Z"
    }
   },
   "outputs": [],
   "source": [
    "import random\n",
    "import numpy as np"
   ]
  },
  {
   "cell_type": "code",
   "execution_count": null,
   "metadata": {
    "ExecuteTime": {
     "end_time": "2020-11-13T09:06:56.783152Z",
     "start_time": "2020-11-13T09:06:56.728593Z"
    }
   },
   "outputs": [],
   "source": [
    "list_1 = random.sample(range(0,1000000), 10000)\n",
    "list_2 = random.sample(range(0,1000000), 10000)"
   ]
  },
  {
   "cell_type": "code",
   "execution_count": null,
   "metadata": {
    "ExecuteTime": {
     "end_time": "2020-11-13T09:07:35.973283Z",
     "start_time": "2020-11-13T09:07:35.962205Z"
    }
   },
   "outputs": [],
   "source": [
    "# See first 5 numbers \n",
    "print(list_1[:5], list_2[:5])"
   ]
  },
  {
   "cell_type": "code",
   "execution_count": null,
   "metadata": {},
   "outputs": [],
   "source": [
    "# Write optimised code to find the common numbers between these two lists and print them\n"
   ]
  },
  {
   "cell_type": "markdown",
   "metadata": {
    "ExecuteTime": {
     "end_time": "2021-01-19T05:32:26.916492Z",
     "start_time": "2021-01-19T05:32:26.682491Z"
    }
   },
   "source": [
    "#### Question 2) Exception Handling"
   ]
  },
  {
   "cell_type": "code",
   "execution_count": null,
   "metadata": {
    "ExecuteTime": {
     "end_time": "2021-01-19T05:39:56.199592Z",
     "start_time": "2021-01-19T05:39:56.192635Z"
    }
   },
   "outputs": [],
   "source": [
    "'''A list has mixed set of numbers and strings. Write a function which returns-\n",
    "1) Upper case strings in case the input element is a list\n",
    "2) The same number in case the input is a number\n",
    "Use try except to do this instead of an if condition\n",
    "Example Input - list_1 = [1, \"apple\", \"Data Science\", 100, 200, \"emma\"]\n",
    "Example Output- list_1_output = [1, \"APPLE\", \"DATA SCIENCE\", 100, 200, \"EMMA\"]''' \n",
    "list_1 = [1, \"apple\", \"Data Science\", 100, 200, \"emma\"]\n",
    "def try_except_test(input_list):\n",
    "    '''Write your code here'''\n",
    "try_except_test(list_1)"
   ]
  },
  {
   "cell_type": "markdown",
   "metadata": {},
   "source": [
    "#### Question 3) Write a function to find sentence similarities"
   ]
  },
  {
   "cell_type": "code",
   "execution_count": null,
   "metadata": {
    "ExecuteTime": {
     "end_time": "2021-01-19T05:49:40.435611Z",
     "start_time": "2021-01-19T05:49:40.430570Z"
    }
   },
   "outputs": [],
   "source": [
    "'''Create a function which takes in two sentences as input and returns a similarity score between the two sentences based\n",
    "on the following steps/logic:\n",
    "1) Take sentence 1 as base and find common words between sentence 1 and 2\n",
    "2) Similarity_score = no. of common words/length of sentence 1. Return this from the function\n",
    "3) Remember to take care of case and remove the following punctuations from sentences- ,''\"\"./\\ \n",
    "4) Test out your function on cases where there are no common words, some common words and all common words'''\n",
    "# Hint - Use libraries re and nltk. Can refer to internet for syntax but not actual solution\n",
    "sent_1 = \"My name Is Soumadiptya Chakraborty. I live in Kolkata\"\n",
    "sent_2 = \"your name is Rajesh Chakraborty, you live in Bangalore.\""
   ]
  },
  {
   "cell_type": "markdown",
   "metadata": {},
   "source": [
    "#### Question 4) Write a function to return pairs of bigrams from a sentence\n",
    "Note- This is not a NLP question. It can be easily done using loops and other internal data structures in Python"
   ]
  },
  {
   "cell_type": "code",
   "execution_count": null,
   "metadata": {
    "ExecuteTime": {
     "end_time": "2021-01-19T05:52:21.918407Z",
     "start_time": "2021-01-19T05:52:21.911406Z"
    }
   },
   "outputs": [],
   "source": [
    "'''Write a function which takes in a sentence and returns a list of bigrams.\n",
    "Example- \n",
    "Input- Covid 19 has destroyed peace of mind of people who don't like WFH\n",
    "Output- [('Covid', '19'), ('has', 'destroyed')....]'''"
   ]
  },
  {
   "cell_type": "markdown",
   "metadata": {},
   "source": [
    "#### Question 5) Initiate and mutiply two matrices"
   ]
  },
  {
   "cell_type": "code",
   "execution_count": null,
   "metadata": {},
   "outputs": [],
   "source": [
    "# Initiate two matrices of 4*3 and 3*4 resepctively with any numbers you wish. Write a function which takes as input\n",
    "# the two matrices, perfroms matrix multiplication and returns the resultant 4*4 matrix. Don't use the numpy functions for matrix \n",
    "# multiplication. You can however use numpy to initialize the matrices.\n",
    "matrix_1 = \n",
    "matrix_2 = \n",
    "def matrix_multiplier(matrix_1, matrix_2):\n",
    "    '''Write code here'''\n",
    "    return output_matrix"
   ]
  },
  {
   "cell_type": "markdown",
   "metadata": {},
   "source": [
    "#### Question 6) Basic Questions on a dataset"
   ]
  },
  {
   "cell_type": "code",
   "execution_count": null,
   "metadata": {
    "ExecuteTime": {
     "end_time": "2021-01-19T05:50:25.742856Z",
     "start_time": "2021-01-19T05:50:25.740854Z"
    }
   },
   "outputs": [],
   "source": [
    "# 1) Ingest the dataset which was given\n",
    "# 2) Find out %age of missing values for each column\n",
    "# 3) Drop any duplicate rows\n",
    "# 3) Create a new Column \"MeanUnitPricePerStockID\" which contains the result of grouping by StockID and getting the mean of UnitPrice\n",
    "# 4) Sort the Dataframe by the new column created in Step 4\n",
    "# 5) Analyze the Columns Unit price and Quantity and find out some interesting insights on them\n"
   ]
  }
 ],
 "metadata": {
  "kernelspec": {
   "display_name": "Python 3 (ipykernel)",
   "language": "python",
   "name": "python3"
  },
  "language_info": {
   "codemirror_mode": {
    "name": "ipython",
    "version": 3
   },
   "file_extension": ".py",
   "mimetype": "text/x-python",
   "name": "python",
   "nbconvert_exporter": "python",
   "pygments_lexer": "ipython3",
   "version": "3.9.7"
  },
  "toc": {
   "base_numbering": 1,
   "nav_menu": {},
   "number_sections": true,
   "sideBar": true,
   "skip_h1_title": false,
   "title_cell": "Table of Contents",
   "title_sidebar": "Contents",
   "toc_cell": false,
   "toc_position": {},
   "toc_section_display": true,
   "toc_window_display": false
  },
  "varInspector": {
   "cols": {
    "lenName": 16,
    "lenType": 16,
    "lenVar": 40
   },
   "kernels_config": {
    "python": {
     "delete_cmd_postfix": "",
     "delete_cmd_prefix": "del ",
     "library": "var_list.py",
     "varRefreshCmd": "print(var_dic_list())"
    },
    "r": {
     "delete_cmd_postfix": ") ",
     "delete_cmd_prefix": "rm(",
     "library": "var_list.r",
     "varRefreshCmd": "cat(var_dic_list()) "
    }
   },
   "types_to_exclude": [
    "module",
    "function",
    "builtin_function_or_method",
    "instance",
    "_Feature"
   ],
   "window_display": false
  }
 },
 "nbformat": 4,
 "nbformat_minor": 2
}
